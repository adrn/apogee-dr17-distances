{
 "cells": [
  {
   "cell_type": "code",
   "execution_count": null,
   "metadata": {},
   "outputs": [],
   "source": [
    "import os\n",
    "os.environ['APOGEE_CACHE_PATH'] = \"/mnt/ceph/users/apricewhelan/apogee-test/\"\n",
    "import warnings\n",
    "warnings.filterwarnings('ignore', category=Warning) \n",
    "\n",
    "import sys\n",
    "import pathlib\n",
    "_path = str(pathlib.Path('../').resolve())\n",
    "if _path not in sys.path:\n",
    "    sys.path.append(_path)\n",
    "\n",
    "import corner\n",
    "from astropy.io import fits\n",
    "import astropy.coordinates as coord\n",
    "import astropy.table as at\n",
    "import astropy.units as u\n",
    "import matplotlib as mpl\n",
    "import matplotlib.pyplot as plt\n",
    "%matplotlib inline\n",
    "import numpy as np\n",
    "from tqdm.auto import tqdm\n",
    "from sklearn.decomposition import IncrementalPCA\n",
    "\n",
    "from joaquin import Joaquin\n",
    "from joaquin.design_matrix import JoaquinData\n",
    "from joaquin.config import phot_names, dr, Kfold_K\n",
    "from joaquin.logger import logger\n",
    "from joaquin.plot import simple_corner, phot_to_label\n",
    "\n",
    "from gala.mpl_style import hesperia, laguna"
   ]
  },
  {
   "cell_type": "code",
   "execution_count": null,
   "metadata": {},
   "outputs": [],
   "source": [
    "cache_path = pathlib.Path(f'../cache/{dr}').resolve()\n",
    "cache_path.mkdir(exist_ok=True, parents=True)"
   ]
  },
  {
   "cell_type": "code",
   "execution_count": null,
   "metadata": {},
   "outputs": [],
   "source": [
    "parent = at.Table.read(cache_path / 'parent-sample.fits')\n",
    "\n",
    "parent_stars = parent[parent['SNR'] > 100]\n",
    "\n",
    "# HACK: subselect for speed\n",
    "np.random.seed(42)\n",
    "idx = np.random.choice(len(parent_stars), size=8192, replace=False)\n",
    "parent_stars = parent_stars[idx]\n",
    "\n",
    "len(parent_stars)"
   ]
  },
  {
   "cell_type": "code",
   "execution_count": null,
   "metadata": {},
   "outputs": [],
   "source": [
    "fig, ax = plt.subplots(figsize=(6, 6))\n",
    "\n",
    "bins = (np.linspace(3000, 7500, 128),\n",
    "        np.linspace(0, 5.5, 128))\n",
    "ax.hist2d(parent['TEFF'], parent['LOGG'],\n",
    "          bins=bins, norm=mpl.colors.LogNorm(),\n",
    "          cmap='magma_r')\n",
    "\n",
    "ax.plot(parent_stars['TEFF'],\n",
    "        parent_stars['LOGG'],\n",
    "        ls='none', marker='o', mew=0, ms=3., \n",
    "        color='tab:blue', alpha=0.75)\n",
    "\n",
    "ax.set_ylim(5.5, 0)\n",
    "ax.set_xlim(7500, 3000)\n",
    "\n",
    "fig.tight_layout()"
   ]
  },
  {
   "cell_type": "code",
   "execution_count": null,
   "metadata": {},
   "outputs": [],
   "source": [
    "data, star_mask = JoaquinData.from_stars(\n",
    "    parent_stars, lowpass=False)"
   ]
  },
  {
   "cell_type": "code",
   "execution_count": null,
   "metadata": {},
   "outputs": [],
   "source": [
    "X, *_ = data.get_sub_Xy('spec')\n",
    "\n",
    "good_mask = np.all(np.isfinite(X), axis=1)\n",
    "X = X[good_mask]\n",
    "good_stars = parent_stars[good_mask]\n",
    "X.shape"
   ]
  },
  {
   "cell_type": "code",
   "execution_count": null,
   "metadata": {},
   "outputs": [],
   "source": [
    "pca = IncrementalPCA(n_components=8, batch_size=1024)\n",
    "projected_X = pca.fit_transform(X)"
   ]
  },
  {
   "cell_type": "markdown",
   "metadata": {},
   "source": [
    "This hacky step removes egregious outliers - only run this after the cells above because it overwrites variables!!"
   ]
  },
  {
   "cell_type": "code",
   "execution_count": null,
   "metadata": {},
   "outputs": [],
   "source": [
    "mean = np.mean(projected_X, axis=0)\n",
    "std = np.std(projected_X, axis=0)\n",
    "bad_mask = np.any(np.abs(projected_X - mean) > 5*std, axis=1)\n",
    "\n",
    "X = X[~bad_mask]\n",
    "good_stars = good_stars[~bad_mask]\n",
    "\n",
    "pca = IncrementalPCA(n_components=8, batch_size=1024)\n",
    "projected_X = pca.fit_transform(X)"
   ]
  },
  {
   "cell_type": "code",
   "execution_count": null,
   "metadata": {},
   "outputs": [],
   "source": [
    "for i in range(pca.n_components):\n",
    "    fig = plt.figure(figsize=(12, 3))\n",
    "    plt.plot(pca.components_[i])"
   ]
  },
  {
   "cell_type": "code",
   "execution_count": null,
   "metadata": {},
   "outputs": [],
   "source": [
    "np.cumsum(pca.explained_variance_ratio_)"
   ]
  },
  {
   "cell_type": "code",
   "execution_count": null,
   "metadata": {},
   "outputs": [],
   "source": [
    "fig, axes = plt.subplots(3, 3, \n",
    "                         figsize=(10, 10),\n",
    "                         sharex=True, sharey=True)\n",
    "\n",
    "for i in range(pca.n_components):\n",
    "    ax = axes.flat[i]\n",
    "    ax.scatter(good_stars['TEFF'],\n",
    "               good_stars['LOGG'],\n",
    "               c=projected_X[:, i], s=6)\n",
    "\n",
    "ax.set_ylim(5.5, 0)\n",
    "ax.set_xlim(7500, 3000)\n",
    "\n",
    "fig.tight_layout()"
   ]
  },
  {
   "cell_type": "code",
   "execution_count": null,
   "metadata": {},
   "outputs": [],
   "source": [
    "things = {\n",
    "    'TEFF': (3000, 6500),\n",
    "    'LOGG': (0.5, 5.5),\n",
    "    'M_H': (-2, 0.5)\n",
    "}"
   ]
  },
  {
   "cell_type": "code",
   "execution_count": null,
   "metadata": {},
   "outputs": [],
   "source": [
    "for name, (vmin, vmax) in things.items():\n",
    "    fig, axes = simple_corner(projected_X, \n",
    "                              color_by=good_stars[name],\n",
    "                              vmin=vmin, vmax=vmax)\n",
    "    axes.flat[0].set_title(f'color: {name}')"
   ]
  },
  {
   "cell_type": "code",
   "execution_count": null,
   "metadata": {},
   "outputs": [],
   "source": [
    "np.save(cache_path / 'pca_neighborizer.npy', \n",
    "        np.vstack((pca.mean_, pca.components_)))"
   ]
  },
  {
   "cell_type": "markdown",
   "metadata": {},
   "source": [
    "---\n",
    "\n",
    "## Validation"
   ]
  },
  {
   "cell_type": "code",
   "execution_count": null,
   "metadata": {},
   "outputs": [],
   "source": [
    "from scipy.spatial import cKDTree"
   ]
  },
  {
   "cell_type": "code",
   "execution_count": null,
   "metadata": {},
   "outputs": [],
   "source": [
    "tree = cKDTree(projected_X / pca.singular_values_)\n",
    "\n",
    "dist, idx = tree.query(projected_X / pca.singular_values_, \n",
    "                       k=np.arange(2, 32+2))"
   ]
  },
  {
   "cell_type": "code",
   "execution_count": null,
   "metadata": {},
   "outputs": [],
   "source": [
    "np.std(projected_X / pca.singular_values_, axis=0)"
   ]
  },
  {
   "cell_type": "code",
   "execution_count": null,
   "metadata": {},
   "outputs": [],
   "source": [
    "for i, js in enumerate(idx[:20]):    \n",
    "    fig, axes = plt.subplots(1, 2, figsize=(12, 6))\n",
    "    \n",
    "    ax = axes[0]\n",
    "    bins = (np.linspace(3000, 7500, 128),\n",
    "            np.linspace(0, 5.5, 128))\n",
    "    ax.hist2d(parent['TEFF'], parent['LOGG'],\n",
    "              bins=bins, norm=mpl.colors.LogNorm(),\n",
    "              cmap='Greys')\n",
    "\n",
    "    ax.plot(good_stars['TEFF'][i],\n",
    "            good_stars['LOGG'][i],\n",
    "            ls='none', marker='s', mew=0, ms=6., \n",
    "            color='tab:blue', zorder=100)\n",
    "\n",
    "    ax.plot(good_stars['TEFF'][js],\n",
    "            good_stars['LOGG'][js],\n",
    "            ls='none', marker='o', mew=0, ms=4., \n",
    "            color='tab:orange', zorder=10)\n",
    "\n",
    "    ax.set_ylim(5.5, 0)\n",
    "    ax.set_xlim(7500, 3000)\n",
    "    \n",
    "    # ---\n",
    "    \n",
    "    ax = axes[1]\n",
    "    \n",
    "    bins = (np.linspace(-0.5, 4.5, 128),\n",
    "            np.linspace(-4, 12, 128))\n",
    "    dist_mask, = np.where((parent['GAIAEDR3_PARALLAX'] / parent['GAIAEDR3_PARALLAX_ERROR']) > 5)\n",
    "    distmod = coord.Distance(parallax=parent['GAIAEDR3_PARALLAX'][dist_mask]*u.mas).distmod.value\n",
    "    ax.hist2d((parent['GAIAEDR3_PHOT_G_MEAN_MAG'] - parent['J'])[dist_mask], \n",
    "              parent['GAIAEDR3_PHOT_G_MEAN_MAG'][dist_mask] - distmod,\n",
    "              bins=bins, norm=mpl.colors.LogNorm(),\n",
    "              cmap='Greys')\n",
    "    \n",
    "    distmod = coord.Distance(parallax=good_stars['GAIAEDR3_PARALLAX']*u.mas, \n",
    "                             allow_negative=True).distmod.value\n",
    "    ax.plot((good_stars['GAIAEDR3_PHOT_G_MEAN_MAG'] - good_stars['J'])[i],\n",
    "            (good_stars['GAIAEDR3_PHOT_G_MEAN_MAG'] - distmod)[i],\n",
    "            ls='none', marker='s', mew=0, ms=6., \n",
    "            color='tab:blue', zorder=100)\n",
    "    \n",
    "    dist_mask = (parent['GAIAEDR3_PARALLAX'][js] > 0.5) & (parent['GAIAEDR3_PARALLAX_ERROR'][js] < 0.1)\n",
    "    ax.plot((good_stars['GAIAEDR3_PHOT_G_MEAN_MAG'] - good_stars['J'])[js][dist_mask],\n",
    "            (good_stars['GAIAEDR3_PHOT_G_MEAN_MAG'] - distmod)[js][dist_mask],\n",
    "            ls='none', marker='o', mew=0, ms=4., \n",
    "            color='tab:orange', zorder=10)\n",
    "\n",
    "    ax.set_xlim(bins[0].min(), bins[0].max())\n",
    "    ax.set_ylim(bins[1].max(), bins[1].min())\n",
    "\n",
    "    fig.tight_layout()"
   ]
  },
  {
   "cell_type": "code",
   "execution_count": null,
   "metadata": {},
   "outputs": [],
   "source": [
    "is_ = np.arange(len(good_stars))\n",
    "\n",
    "for i, js in zip(is_[good_stars['LOGG'] > 4], \n",
    "                 idx[good_stars['LOGG'] > 4][:20]):\n",
    "    fig, axes = plt.subplots(1, 2, figsize=(12, 6))\n",
    "    \n",
    "    ax = axes[0]\n",
    "    bins = (np.linspace(3000, 7500, 128),\n",
    "            np.linspace(0, 5.5, 128))\n",
    "    ax.hist2d(parent['TEFF'], parent['LOGG'],\n",
    "              bins=bins, norm=mpl.colors.LogNorm(),\n",
    "              cmap='Greys')\n",
    "\n",
    "    ax.plot(good_stars['TEFF'][i],\n",
    "            good_stars['LOGG'][i],\n",
    "            ls='none', marker='s', mew=0, ms=6., \n",
    "            color='tab:blue', zorder=100)\n",
    "\n",
    "    ax.plot(good_stars['TEFF'][js],\n",
    "            good_stars['LOGG'][js],\n",
    "            ls='none', marker='o', mew=0, ms=4., \n",
    "            color='tab:orange', zorder=10)\n",
    "\n",
    "    ax.set_ylim(5.5, 0)\n",
    "    ax.set_xlim(7500, 3000)\n",
    "    \n",
    "    # ---\n",
    "    \n",
    "    ax = axes[1]\n",
    "    \n",
    "    bins = (np.linspace(-0.5, 4.5, 128),\n",
    "            np.linspace(-4, 12, 128))\n",
    "    dist_mask, = np.where((parent['GAIAEDR3_PARALLAX'] / parent['GAIAEDR3_PARALLAX_ERROR']) > 5)\n",
    "    distmod = coord.Distance(parallax=parent['GAIAEDR3_PARALLAX'][dist_mask]*u.mas).distmod.value\n",
    "    ax.hist2d((parent['GAIAEDR3_PHOT_G_MEAN_MAG'] - parent['J'])[dist_mask], \n",
    "              parent['GAIAEDR3_PHOT_G_MEAN_MAG'][dist_mask] - distmod,\n",
    "              bins=bins, norm=mpl.colors.LogNorm(),\n",
    "              cmap='Greys')\n",
    "    \n",
    "    distmod = coord.Distance(parallax=good_stars['GAIAEDR3_PARALLAX']*u.mas, \n",
    "                             allow_negative=True).distmod.value\n",
    "    ax.plot((good_stars['GAIAEDR3_PHOT_G_MEAN_MAG'] - good_stars['J'])[i],\n",
    "            (good_stars['GAIAEDR3_PHOT_G_MEAN_MAG'] - distmod)[i],\n",
    "            ls='none', marker='s', mew=0, ms=6., \n",
    "            color='tab:blue', zorder=100)\n",
    "\n",
    "    dist_mask = (parent['GAIAEDR3_PARALLAX'][js] > 0.5) & (parent['GAIAEDR3_PARALLAX_ERROR'][js] < 0.1)\n",
    "    ax.plot((good_stars['GAIAEDR3_PHOT_G_MEAN_MAG'] - good_stars['J'])[js][dist_mask],\n",
    "            (good_stars['GAIAEDR3_PHOT_G_MEAN_MAG'] - distmod)[js][dist_mask],\n",
    "            ls='none', marker='o', mew=0, ms=4., \n",
    "            color='tab:orange', zorder=10)\n",
    "\n",
    "    ax.set_xlim(bins[0].min(), bins[0].max())\n",
    "    ax.set_ylim(bins[1].max(), bins[1].min())\n",
    "\n",
    "    fig.tight_layout()"
   ]
  },
  {
   "cell_type": "code",
   "execution_count": null,
   "metadata": {},
   "outputs": [],
   "source": []
  }
 ],
 "metadata": {
  "kernelspec": {
   "display_name": "adrian conda base",
   "language": "python",
   "name": "conda-base"
  },
  "language_info": {
   "codemirror_mode": {
    "name": "ipython",
    "version": 3
   },
   "file_extension": ".py",
   "mimetype": "text/x-python",
   "name": "python",
   "nbconvert_exporter": "python",
   "pygments_lexer": "ipython3",
   "version": "3.7.3"
  },
  "toc": {
   "base_numbering": 1,
   "nav_menu": {},
   "number_sections": true,
   "sideBar": true,
   "skip_h1_title": false,
   "title_cell": "Table of Contents",
   "title_sidebar": "Contents",
   "toc_cell": false,
   "toc_position": {},
   "toc_section_display": true,
   "toc_window_display": false
  }
 },
 "nbformat": 4,
 "nbformat_minor": 4
}
