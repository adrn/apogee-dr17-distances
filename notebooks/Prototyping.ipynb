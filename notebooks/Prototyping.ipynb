{
 "cells": [
  {
   "cell_type": "markdown",
   "metadata": {},
   "source": [
    "### Issues:\n",
    "- The missing data are being filled in wrong. The NUFFT will pull missing regions down to 1, but we should really use PCA to patch the missing data. So, iteratively: low-pass filter, PCA patch the previously missing data, iterate.\n",
    "- Lowpass filter is whack and could be checked against Barnett/DFM\n",
    "- The LSF housekeeping data is super hacky - do we need something better?"
   ]
  },
  {
   "cell_type": "code",
   "execution_count": null,
   "metadata": {},
   "outputs": [],
   "source": [
    "import os\n",
    "os.environ['APOGEE_CACHE_PATH'] = \"/mnt/ceph/users/apricewhelan/apogee\"\n",
    "\n",
    "import sys\n",
    "import pathlib\n",
    "_path = str(pathlib.Path('../').resolve())\n",
    "if _path not in sys.path:\n",
    "    sys.path.append(_path)\n",
    "\n",
    "import corner\n",
    "from astropy.io import fits\n",
    "import astropy.coordinates as coord\n",
    "import astropy.table as at\n",
    "import astropy.units as u\n",
    "import matplotlib as mpl\n",
    "import matplotlib.pyplot as plt\n",
    "%matplotlib inline\n",
    "import numpy as np\n",
    "from tqdm.auto import tqdm\n",
    "\n",
    "from jax.config import config\n",
    "config.update(\"jax_enable_x64\", True)\n",
    "import jax\n",
    "import jax.numpy as jnp\n",
    "\n",
    "from joaquin import Joaquin\n",
    "from joaquin.features import default_phot_names as phot_names\n",
    "from joaquin.logger import logger"
   ]
  },
  {
   "cell_type": "code",
   "execution_count": null,
   "metadata": {},
   "outputs": [],
   "source": [
    "logger.setLevel(0)"
   ]
  },
  {
   "cell_type": "code",
   "execution_count": null,
   "metadata": {},
   "outputs": [],
   "source": [
    "cache_path = pathlib.Path('../cache').resolve()\n",
    "cache_path.mkdir(exist_ok=True)"
   ]
  },
  {
   "cell_type": "code",
   "execution_count": null,
   "metadata": {},
   "outputs": [],
   "source": [
    "allstar = at.Table.read('/mnt/home/apricewhelan/data/APOGEE_DR17/allStar-dr17-turbo20-beta.fits', \n",
    "                        hdu=1)\n",
    "# allstar = at.Table.read('/mnt/home/apricewhelan/data/APOGEE_DR16/allStar-r12-gaiaedr3.fits')\n",
    "\n",
    "wise = at.Table.read('/mnt/home/apricewhelan/data/APOGEE_DR17/APOGEE-DR17-wise-result.fits.gz')\n",
    "wise.rename_column('apogee_id', 'APOGEE_ID')\n",
    "\n",
    "allstar['APOGEE_ID'] = allstar['APOGEE_ID'].astype(str)\n",
    "wise['APOGEE_ID'] = [x.strip() for x in wise['APOGEE_ID'].astype(str)]"
   ]
  },
  {
   "cell_type": "code",
   "execution_count": null,
   "metadata": {},
   "outputs": [],
   "source": [
    "allstar = at.join(allstar, wise, keys='APOGEE_ID', join_type='left')\n",
    "allstar = at.unique(allstar, keys='APOGEE_ID')"
   ]
  },
  {
   "cell_type": "code",
   "execution_count": null,
   "metadata": {},
   "outputs": [],
   "source": [
    "phot_mask = np.ones(len(allstar), dtype=bool)\n",
    "for name in phot_names:\n",
    "    phot_mask &= np.isfinite(allstar[name]) & (allstar[name] > 0)\n",
    "\n",
    "allstar['TELESCOPE'] = np.array([x.strip() for x in allstar['TELESCOPE']])\n",
    "stars = allstar[(allstar['LOGG'] < 2.2) & \n",
    "                (allstar['LOGG'] > 1.5) &\n",
    "                (allstar['TEFF'] > 3500) &\n",
    "                (allstar['TEFF'] < 5000) &\n",
    "                (allstar['SNR'] > 100) &\n",
    "                np.isin(allstar['TELESCOPE'], ['apo25m', 'lco25m']) & \n",
    "                phot_mask][::10]\n",
    "len(stars)"
   ]
  },
  {
   "cell_type": "code",
   "execution_count": null,
   "metadata": {},
   "outputs": [],
   "source": [
    "joa = Joaquin(stars, # terms=['phot'],\n",
    "              frozen={'L2_ivar': 1e-1, \n",
    "                      'parallax_zpt': -0.03})  # MAGIC NUMBER"
   ]
  },
  {
   "cell_type": "code",
   "execution_count": null,
   "metadata": {},
   "outputs": [],
   "source": [
    "plt.hist(joa.dm.stars['GAIAEDR3_PARALLAX'], \n",
    "         bins=np.linspace(-0.5, 2, 128));\n",
    "plt.yscale('log')"
   ]
  },
  {
   "cell_type": "code",
   "execution_count": null,
   "metadata": {},
   "outputs": [],
   "source": [
    "logger.handlers[0]"
   ]
  },
  {
   "cell_type": "markdown",
   "metadata": {},
   "source": [
    "TODO: also color by mean fiber number?"
   ]
  },
  {
   "cell_type": "code",
   "execution_count": null,
   "metadata": {},
   "outputs": [],
   "source": [
    "fig = corner.corner(joa.dm.get_sub_Xy(['lsf'])[0][joa.dm.stars['TELESCOPE'] == 'apo25m'], \n",
    "                    plot_density=False, plot_contours=False, color='tab:blue',\n",
    "                    labels=[r'$a_{\\rm b}$', r'$b_{\\rm b}$', \n",
    "                            r'$a_{\\rm g}$', r'$b_{\\rm g}$',\n",
    "                            r'$a_{\\rm r}$', r'$b_{\\rm r}$'],\n",
    "                    hist_kwargs=dict(label='APO'))\n",
    "_ = corner.corner(joa.dm.get_sub_Xy(['lsf'])[0][joa.dm.stars['TELESCOPE'] == 'lco25m'], \n",
    "                  plot_density=False, plot_contours=False, color='tab:orange', \n",
    "                  fig=fig, hist_kwargs=dict(label='LCO'))\n",
    "\n",
    "for ax in fig.axes:\n",
    "    ax.relim()\n",
    "    ax.autoscale()\n",
    "\n",
    "fig.axes[0].legend(loc='upper left')\n",
    "\n",
    "fig.set_facecolor('w')"
   ]
  },
  {
   "cell_type": "code",
   "execution_count": null,
   "metadata": {},
   "outputs": [],
   "source": [
    "# colors = [\n",
    "#     ('GAIAEDR3_PHOT_G_MEAN_MAG', 'J'),\n",
    "#     ('GAIAEDR3_PHOT_BP_MEAN_MAG', 'GAIAEDR3_PHOT_RP_MEAN_MAG'),\n",
    "#     ('J', 'K'),\n",
    "#     ('w1mpro', 'w2mpro'),\n",
    "#     ('w3mpro', 'w4mpro')\n",
    "# ]\n",
    "\n",
    "# color_X = np.zeros((joa.X.shape[0], len(colors)))\n",
    "# for i, (p1, p2) in enumerate(colors):\n",
    "#     color_X[:, i] = (joa.X[:, phot_idx[phot_names.index(p1)]] -\n",
    "#                      joa.X[:, phot_idx[phot_names.index(p2)]])\n",
    "    \n",
    "# _ = corner.corner(color_X, plot_density=False, plot_contours=False)"
   ]
  },
  {
   "cell_type": "markdown",
   "metadata": {},
   "source": [
    "---\n",
    "\n",
    "Optimizing the model"
   ]
  },
  {
   "cell_type": "code",
   "execution_count": null,
   "metadata": {},
   "outputs": [],
   "source": [
    "init_beta = joa.init_beta()"
   ]
  },
  {
   "cell_type": "code",
   "execution_count": null,
   "metadata": {},
   "outputs": [],
   "source": [
    "res = joa.optimize(options={'maxfun': 1000})\n",
    "# res, wrapper, ps = joa.optimize()"
   ]
  },
  {
   "cell_type": "code",
   "execution_count": null,
   "metadata": {},
   "outputs": [],
   "source": [
    "res"
   ]
  },
  {
   "cell_type": "code",
   "execution_count": null,
   "metadata": {},
   "outputs": [],
   "source": [
    "fit_pars = joa.unpack_pars(res.x)"
   ]
  },
  {
   "cell_type": "code",
   "execution_count": null,
   "metadata": {},
   "outputs": [],
   "source": [
    "plt.figure(figsize=(15, 4))\n",
    "plt.plot(init_beta[joa.dm.idx_map['spec']] - fit_pars['beta'][joa.dm.idx_map['spec']])\n",
    "# plt.xlim(2000, 2500)\n",
    "plt.ylabel('init beta - fit beta')"
   ]
  },
  {
   "cell_type": "code",
   "execution_count": null,
   "metadata": {},
   "outputs": [],
   "source": [
    "pred_plx = np.exp(np.dot(joa.X, fit_pars['beta']))"
   ]
  },
  {
   "cell_type": "code",
   "execution_count": null,
   "metadata": {},
   "outputs": [],
   "source": [
    "bins = np.linspace(-0.5, 2, 128)\n",
    "plt.hist(joa.dm.stars['GAIAEDR3_PARALLAX'], \n",
    "         bins=bins);\n",
    "plt.hist(pred_plx, bins=bins)\n",
    "plt.yscale('log')"
   ]
  },
  {
   "cell_type": "code",
   "execution_count": null,
   "metadata": {},
   "outputs": [],
   "source": [
    "fig, axes = plt.subplots(1, 2, figsize=(10, 5))\n",
    "\n",
    "ax = axes[0]\n",
    "ax.plot(joa.dm.stars['GAIAEDR3_PARALLAX'], \n",
    "        pred_plx,\n",
    "        marker='o', ls='none', mew=0, ms=1, alpha=0.75)\n",
    "ax.set_xlim(-0.5, 1.5)\n",
    "ax.set_ylim(ax.get_xlim())\n",
    "ax.set_xlabel('Gaia plx')\n",
    "ax.set_ylabel('Joaquin plx')\n",
    "\n",
    "ax = axes[1]\n",
    "ax.plot(joa.dm.stars['GAIAEDR3_PARALLAX'], \n",
    "        joa.chi(**fit_pars),\n",
    "        marker='o', ls='none', mew=0, ms=1, alpha=0.75)\n",
    "ax.set_xlim(-0.5, 1.5)\n",
    "# ax.set_ylim(ax.get_xlim())\n",
    "ax.set_xlabel('Gaia plx')\n",
    "ax.set_ylabel(r'$\\chi$')\n",
    "\n",
    "fig.tight_layout()"
   ]
  },
  {
   "cell_type": "code",
   "execution_count": null,
   "metadata": {},
   "outputs": [],
   "source": []
  },
  {
   "cell_type": "code",
   "execution_count": null,
   "metadata": {},
   "outputs": [],
   "source": []
  },
  {
   "cell_type": "code",
   "execution_count": null,
   "metadata": {},
   "outputs": [],
   "source": []
  },
  {
   "cell_type": "code",
   "execution_count": null,
   "metadata": {},
   "outputs": [],
   "source": [
    "beta = joa.init_beta(L2_ivar=0.5)"
   ]
  },
  {
   "cell_type": "code",
   "execution_count": null,
   "metadata": {},
   "outputs": [],
   "source": [
    "p0 = [0., 0.5] + list(beta)\n",
    "joa(p0)"
   ]
  },
  {
   "cell_type": "code",
   "execution_count": null,
   "metadata": {},
   "outputs": [],
   "source": [
    "# test = jax.value_and_grad(joa.__call__)\n",
    "obj = jax.value_and_grad(neg_ln_posterior, argnums=[3, 4, 5])\n",
    "def wrapper(*args, **kwargs):\n",
    "    val, grads = obj(*args, **kwargs)\n",
    "    return val, jnp.concatenate([g.reshape(-1) for g in grads])"
   ]
  },
  {
   "cell_type": "code",
   "execution_count": null,
   "metadata": {},
   "outputs": [],
   "source": [
    "# test(p0)\n",
    "val, grad = wrapper(joa.X, joa.y, joa.y_ivar, \n",
    "                    0., 0.5, beta, joa.L2_slice)"
   ]
  },
  {
   "cell_type": "code",
   "execution_count": null,
   "metadata": {},
   "outputs": [],
   "source": [
    "grad"
   ]
  },
  {
   "cell_type": "code",
   "execution_count": null,
   "metadata": {},
   "outputs": [],
   "source": [
    "grad"
   ]
  },
  {
   "cell_type": "code",
   "execution_count": null,
   "metadata": {},
   "outputs": [],
   "source": [
    "jnp.dot(np.random.random(size=(10, 3)))"
   ]
  },
  {
   "cell_type": "code",
   "execution_count": null,
   "metadata": {},
   "outputs": [],
   "source": [
    "plt.plot(beta[dm.idx_map['lsf']])"
   ]
  },
  {
   "cell_type": "code",
   "execution_count": null,
   "metadata": {},
   "outputs": [],
   "source": [
    "plt.figure(figsize=(15, 3))\n",
    "plt.plot(phot_names, beta[dm.idx_map['phot']])\n",
    "plt.xticks(rotation=45, ha='right')"
   ]
  },
  {
   "cell_type": "code",
   "execution_count": null,
   "metadata": {},
   "outputs": [],
   "source": [
    "plt.figure(figsize=(15, 3))\n",
    "plt.plot(beta[dm.idx_map['spec']])\n",
    "plt.xlim(800, 1200)"
   ]
  },
  {
   "cell_type": "code",
   "execution_count": null,
   "metadata": {},
   "outputs": [],
   "source": []
  },
  {
   "cell_type": "code",
   "execution_count": null,
   "metadata": {},
   "outputs": [],
   "source": []
  },
  {
   "cell_type": "code",
   "execution_count": null,
   "metadata": {},
   "outputs": [],
   "source": []
  },
  {
   "cell_type": "code",
   "execution_count": null,
   "metadata": {},
   "outputs": [],
   "source": []
  },
  {
   "cell_type": "markdown",
   "metadata": {},
   "source": [
    "### Old plots:"
   ]
  },
  {
   "cell_type": "code",
   "execution_count": null,
   "metadata": {},
   "outputs": [],
   "source": [
    "pix = np.arange(8575, dtype='f8')\n",
    "wvln = 10 ** (star_hdul[1].header['CRVAL1'] +\n",
    "              np.arange(star_hdul[1].header['NAXIS1']) * star_hdul[1].header['CDELT1'])\n",
    "ln_wvln = np.log(wvln)\n",
    "flux = star_hdul[1].data\n",
    "err = star_hdul[2].data\n",
    "\n",
    "mask = (flux == 0 ) | (err > (3 * np.median(err)))\n",
    "\n",
    "plt.figure(figsize=(15, 5))\n",
    "plt.plot(wvln[~mask], flux[~mask], marker='', drawstyle='steps-mid')\n",
    "# plt.plot(wvln[mask], flux[mask], marker='o', ls='none', color='r')"
   ]
  },
  {
   "cell_type": "code",
   "execution_count": null,
   "metadata": {},
   "outputs": [],
   "source": [
    "new_flux = nufft_lowpass(ln_wvln, flux, \n",
    "                         fcut=0.5 * 22500, bad_mask=mask)"
   ]
  },
  {
   "cell_type": "code",
   "execution_count": null,
   "metadata": {},
   "outputs": [],
   "source": [
    "plt.figure(figsize=(15, 5))\n",
    "plt.plot(wvln, flux, marker='', drawstyle='steps-mid')\n",
    "plt.plot(wvln, new_flux, \n",
    "         marker='', drawstyle='steps-mid', color='tab:blue')\n",
    "plt.plot(wvln[mask], flux[mask], \n",
    "         marker='.', ls='none', color='r')\n",
    "plt.xlim(15500+500, 15600+500)\n",
    "plt.axhline(1.)"
   ]
  },
  {
   "cell_type": "markdown",
   "metadata": {},
   "source": [
    "---"
   ]
  },
  {
   "cell_type": "code",
   "execution_count": null,
   "metadata": {},
   "outputs": [],
   "source": [
    "for star in stars[:4]:\n",
    "    star_hdul = get_aspcapstar(star)\n",
    "    lsf_hdul = get_lsf(star)\n",
    "    \n",
    "    plt.figure(figsize=(15, 4))\n",
    "    plt.plot(lsf_hdul[0].data[:, 7], \n",
    "             marker='', drawstyle='steps-mid', alpha=0.5)"
   ]
  },
  {
   "cell_type": "code",
   "execution_count": null,
   "metadata": {},
   "outputs": [],
   "source": []
  },
  {
   "cell_type": "code",
   "execution_count": null,
   "metadata": {},
   "outputs": [],
   "source": []
  },
  {
   "cell_type": "code",
   "execution_count": null,
   "metadata": {},
   "outputs": [],
   "source": []
  }
 ],
 "metadata": {
  "kernelspec": {
   "display_name": "adrian conda base",
   "language": "python",
   "name": "conda-base"
  },
  "language_info": {
   "codemirror_mode": {
    "name": "ipython",
    "version": 3
   },
   "file_extension": ".py",
   "mimetype": "text/x-python",
   "name": "python",
   "nbconvert_exporter": "python",
   "pygments_lexer": "ipython3",
   "version": "3.7.3"
  },
  "toc": {
   "base_numbering": 1,
   "nav_menu": {},
   "number_sections": true,
   "sideBar": true,
   "skip_h1_title": false,
   "title_cell": "Table of Contents",
   "title_sidebar": "Contents",
   "toc_cell": false,
   "toc_position": {},
   "toc_section_display": true,
   "toc_window_display": false
  }
 },
 "nbformat": 4,
 "nbformat_minor": 4
}
