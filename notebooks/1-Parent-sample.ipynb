{
 "cells": [
  {
   "cell_type": "markdown",
   "metadata": {},
   "source": [
    "Need to download all aspcapStar files for N/S (use --dry-run first):\n",
    "\n",
    "    rsync -aLvz --include \"*/\" \\\n",
    "    --include \"aspcapStar*.fits\" --exclude \"*\" \\\n",
    "    --prune-empty-dirs --progress \\\n",
    "    rsync://dtn.sdss.org/dr16/apogee/spectro/aspcap/r12/l33/apo25m/ apo25m/\n",
    "    \n",
    "And same for the apStarLSF files:\n",
    "\n",
    "    rsync -aLvz --include \"*/\" \\\n",
    "    --include \"apStarLSF*.fits\" --exclude \"*\" \\\n",
    "    --prune-empty-dirs --progress \\\n",
    "    rsync://dtn.sdss.org/dr16/apogee/spectro/redux/r12/stars/apo25m/ apo25m/\n",
    "    \n",
    "    rsync -aLvz --include \"*/\" \\\n",
    "    --include \"asStarLSF*.fits\" --exclude \"*\" \\\n",
    "    --prune-empty-dirs --progress \\\n",
    "    rsync://dtn.sdss.org/dr16/apogee/spectro/redux/r12/stars/lco25m/ lco25m/"
   ]
  },
  {
   "cell_type": "code",
   "execution_count": null,
   "metadata": {},
   "outputs": [],
   "source": [
    "import os\n",
    "os.environ['APOGEE_CACHE_PATH'] = \"/mnt/ceph/users/apricewhelan/apogee-test/\"\n",
    "\n",
    "import re\n",
    "import sys\n",
    "import pathlib\n",
    "_path = str(pathlib.Path('../').resolve())\n",
    "if _path not in sys.path:\n",
    "    sys.path.append(_path)\n",
    "\n",
    "import corner\n",
    "from astropy.io import fits\n",
    "import astropy.coordinates as coord\n",
    "import astropy.table as at\n",
    "import astropy.units as u\n",
    "import matplotlib as mpl\n",
    "import matplotlib.pyplot as plt\n",
    "%matplotlib inline\n",
    "import numpy as np\n",
    "from tqdm.auto import tqdm\n",
    "from scipy.stats import binned_statistic\n",
    "from astropy.stats import median_absolute_deviation as MAD\n",
    "\n",
    "from gala.mpl_style import hesperia, laguna\n",
    "\n",
    "from joaquin.config import all_phot_names, dr\n",
    "from joaquin.plot import simple_corner, phot_to_label\n",
    "from joaquin.data import JoaquinData"
   ]
  },
  {
   "cell_type": "code",
   "execution_count": null,
   "metadata": {},
   "outputs": [],
   "source": [
    "cache_path = pathlib.Path(f'../cache/{dr}').resolve()\n",
    "cache_path.mkdir(exist_ok=True, parents=True)"
   ]
  },
  {
   "cell_type": "code",
   "execution_count": null,
   "metadata": {},
   "outputs": [],
   "source": [
    "# binaries = at.Table.read(\n",
    "#     '/mnt/home/apricewhelan/projects/apogee-dr16-vac/catalogs/lnK-0.2_logL3.0_metadata.fits')"
   ]
  },
  {
   "cell_type": "code",
   "execution_count": null,
   "metadata": {},
   "outputs": [],
   "source": [
    "# allstar = at.Table.read('/mnt/home/apricewhelan/data/APOGEE_DR17/allStar-dr17-turbo20-beta.fits', \n",
    "#                         hdu=1)\n",
    "\n",
    "allstar = at.Table.read('/mnt/home/apricewhelan/data/APOGEE_DR16/allStar-r12-gaiaedr3.fits',\n",
    "                        hdu=1)\n",
    "for colname in ['phot_g_mean_mag', 'phot_bp_mean_mag', 'phot_rp_mean_mag',\n",
    "                'parallax', 'parallax_error']:\n",
    "    allstar[f'GAIAEDR3_{colname.upper()}'] = allstar[colname]"
   ]
  },
  {
   "cell_type": "code",
   "execution_count": null,
   "metadata": {},
   "outputs": [],
   "source": [
    "wise = at.Table.read('/mnt/home/apricewhelan/data/APOGEE_DR17/APOGEE-DR17-wise-result.fits.gz')\n",
    "wise.rename_column('apogee_id', 'APOGEE_ID')\n",
    "\n",
    "allstar['APOGEE_ID'] = allstar['APOGEE_ID'].astype(str)\n",
    "wise['APOGEE_ID'] = [x.strip() for x in wise['APOGEE_ID'].astype(str)]\n",
    "\n",
    "allstar = at.join(allstar, wise, keys='APOGEE_ID', join_type='left')\n",
    "allstar = at.unique(allstar, keys='APOGEE_ID')"
   ]
  },
  {
   "cell_type": "code",
   "execution_count": null,
   "metadata": {},
   "outputs": [],
   "source": [
    "allstar['TELESCOPE'] = np.array([x.strip() for x in allstar['TELESCOPE']])\n",
    "stars = allstar[np.isin(allstar['TELESCOPE'], ['apo25m', 'lco25m'])]\n",
    "len(stars)"
   ]
  },
  {
   "cell_type": "code",
   "execution_count": null,
   "metadata": {},
   "outputs": [],
   "source": [
    "phot_mask = np.ones(len(stars), dtype=bool)\n",
    "for name in all_phot_names:\n",
    "    phot_mask &= (np.isfinite(stars[name]) & \n",
    "                  (stars[name] > 0) &\n",
    "                  (stars[name] < 22))  # MAGIC NUMBER\n",
    "\n",
    "# 2MASS photometry\n",
    "for band in ['J', 'H', 'K']:\n",
    "    phot_mask &= ((stars[f'{band}_ERR'] > 0) &\n",
    "                  (stars[f'{band}_ERR'] < 0.1))  # MAGIC NUMBER\n",
    "\n",
    "# WISE photometry\n",
    "# phot_mask &= np.char.startswith(stars['ph_qual'].astype(str), 'AA')\n",
    "pattr = re.compile(\"^([AB][AB])\")\n",
    "phot_mask &= np.array([re.search(pattr, x) is not None\n",
    "                       for x in stars['ph_qual'].filled('--').astype(str)])"
   ]
  },
  {
   "cell_type": "code",
   "execution_count": null,
   "metadata": {},
   "outputs": [],
   "source": [
    "for band in 'JHK':\n",
    "    print(np.percentile(stars[f'{band}_ERR'][phot_mask], [1, 99.9]))"
   ]
  },
  {
   "cell_type": "code",
   "execution_count": null,
   "metadata": {},
   "outputs": [],
   "source": [
    "# binaries_mask = ~np.isin(stars['APOGEE_ID'], binaries['APOGEE_ID'])"
   ]
  },
  {
   "cell_type": "code",
   "execution_count": null,
   "metadata": {},
   "outputs": [],
   "source": [
    "bits = np.array([\n",
    "    0,  # BAD_PIXELS,\n",
    "    1,  # COMMISSIONING\n",
    "    3,  # VERY_BRIGHT_NEIGHBOR\n",
    "    4,  # LOW_SNR\n",
    "])\n",
    "starflag_mask = (stars['STARFLAG'] & np.sum(2**bits)) == 0"
   ]
  },
  {
   "cell_type": "code",
   "execution_count": null,
   "metadata": {},
   "outputs": [],
   "source": [
    "# TODO: mask binaries?\n",
    "clean_stars = stars[phot_mask & starflag_mask]  # & binaries_mask\n",
    "len(stars), len(clean_stars)"
   ]
  },
  {
   "cell_type": "markdown",
   "metadata": {},
   "source": [
    "### Color-color plot to prune outliers"
   ]
  },
  {
   "cell_type": "code",
   "execution_count": null,
   "metadata": {},
   "outputs": [],
   "source": [
    "G_J = clean_stars['GAIAEDR3_PHOT_G_MEAN_MAG'] - clean_stars['J']\n",
    "J_K = clean_stars['J'] - clean_stars['K']\n",
    "\n",
    "poly = np.poly1d(np.polyfit(G_J, J_K, deg=1))\n",
    "xx = np.linspace(0, 10, 25)\n",
    "\n",
    "fig, axes = plt.subplots(1, 3, figsize=(15, 5))\n",
    "\n",
    "ax = axes[0]\n",
    "ax.plot(xx, poly(xx), color='tab:blue', zorder=10, marker='')\n",
    "ax.scatter(G_J, J_K, \n",
    "           c=clean_stars['J'],\n",
    "           marker='o', alpha=0.4, lw=0, s=4, \n",
    "           cmap='cividis_r')\n",
    "ax.set_xlabel('$G-J$')\n",
    "ax.set_ylabel('$J-K$')\n",
    "\n",
    "ax = axes[2]\n",
    "dcolor = J_K - poly(G_J)\n",
    "ax.scatter(clean_stars['J'], \n",
    "           dcolor, \n",
    "           marker='o', alpha=0.4, lw=0, s=4)\n",
    "\n",
    "bins = np.linspace(5, 15, 25)\n",
    "binc = 0.5 * (bins[:-1] + bins[1:])\n",
    "stat = binned_statistic(clean_stars['J'], \n",
    "                        dcolor,\n",
    "                        statistic='median',\n",
    "                        bins=bins)\n",
    "stat_std = binned_statistic(clean_stars['J'], \n",
    "                            dcolor,\n",
    "                            statistic=lambda x: 1.5 * MAD(x),\n",
    "                            bins=bins)\n",
    "\n",
    "ax.set_xlabel('$J$')\n",
    "ax.set_ylabel(r'$(J-K) - (J-K)_{\\rm pred}$')\n",
    "\n",
    "ax = axes[1]\n",
    "ax.scatter(G_J, dcolor, \n",
    "           c=clean_stars['LOGG'],\n",
    "           vmin=0.5, vmax=5.5,\n",
    "           marker='o', alpha=0.4, lw=0, s=4,\n",
    "           cmap='cividis_r')\n",
    "\n",
    "ax.set_xlabel('$G - J$')\n",
    "ax.set_ylabel(r'$(J-K) - (J-K)_{\\rm pred}$')\n",
    "\n",
    "# MAGIC NUMBERS\n",
    "ax.axhline(np.median(dcolor) - 6 * np.std(dcolor))\n",
    "ax.axhline(np.median(dcolor) + 6 * np.std(dcolor))\n",
    "# ax.axhline(np.median(dcolor) - 8 * 1.5 * MAD(dcolor), color='tab:green')\n",
    "# ax.axhline(np.median(dcolor) + 8 * 1.5 * MAD(dcolor), color='tab:green')\n",
    "\n",
    "fig.tight_layout()\n",
    "fig.set_facecolor('w')"
   ]
  },
  {
   "cell_type": "code",
   "execution_count": null,
   "metadata": {},
   "outputs": [],
   "source": [
    "# MAGIC NUMBER: Good ol' standard 6 sigma cut\n",
    "dcolor_mask = np.abs(dcolor - np.median(dcolor)) < 6 * np.std(dcolor)\n",
    "dcolor_mask &= (clean_stars['H'] - clean_stars['w2mpro']) > -0.5\n",
    "dcolor_mask &= (clean_stars['w1mpro'] - clean_stars['w2mpro']) > -1\n",
    "dcolor_mask.sum()"
   ]
  },
  {
   "cell_type": "code",
   "execution_count": null,
   "metadata": {},
   "outputs": [],
   "source": [
    "parent = clean_stars[dcolor_mask]"
   ]
  },
  {
   "cell_type": "code",
   "execution_count": null,
   "metadata": {},
   "outputs": [],
   "source": [
    "# Photometry / colors:\n",
    "plot_X = []\n",
    "labels = []\n",
    "\n",
    "colors = [\n",
    "    ('GAIAEDR3_PHOT_BP_MEAN_MAG', 'GAIAEDR3_PHOT_RP_MEAN_MAG'),\n",
    "    ('J', 'K'),\n",
    "    ('w1mpro', 'w2mpro'),\n",
    "    ('GAIAEDR3_PHOT_G_MEAN_MAG', 'J'),\n",
    "    ('H', 'w2mpro')\n",
    "]\n",
    "for i, (p1, p2) in enumerate(colors):\n",
    "    vals = parent[p1] - parent[p2]\n",
    "    plot_X.append(vals)\n",
    "    \n",
    "    lbl1 = p1\n",
    "    if p1 in phot_to_label:\n",
    "        lbl1 = phot_to_label[p1]\n",
    "    \n",
    "    lbl2 = p2\n",
    "    if p2 in phot_to_label:\n",
    "        lbl2 = phot_to_label[p2]\n",
    "    \n",
    "    lbl = f\"{lbl1} $-$ {lbl2}\"\n",
    "    labels.append(lbl)\n",
    "    \n",
    "plot_X = np.array(plot_X).T"
   ]
  },
  {
   "cell_type": "code",
   "execution_count": null,
   "metadata": {},
   "outputs": [],
   "source": [
    "fig, axes = simple_corner(\n",
    "    plot_X, \n",
    "    colorbar=True,\n",
    "    labels=labels,\n",
    "    alpha=0.2, ms=1.)\n",
    "\n",
    "fig.set_facecolor('w')"
   ]
  },
  {
   "cell_type": "code",
   "execution_count": null,
   "metadata": {},
   "outputs": [],
   "source": [
    "fig, *_, cb = simple_corner(\n",
    "    plot_X, \n",
    "    labels=labels,\n",
    "    alpha=0.2, \n",
    "    color_by=parent['LOGG'],\n",
    "    vmin=0.5, vmax=5., cmap='turbo',\n",
    "    colorbar=True)\n",
    "fig.set_facecolor('w')\n",
    "cb.set_label(r'$\\log g$')\n",
    "cb.ax.set_aspect(40)"
   ]
  },
  {
   "cell_type": "code",
   "execution_count": null,
   "metadata": {},
   "outputs": [],
   "source": [
    "fig, *_, cb = simple_corner(\n",
    "    plot_X, \n",
    "    labels=labels,\n",
    "    alpha=0.2, \n",
    "    color_by=np.log10(parent['SFD_EBV']),\n",
    "    vmin=-1, vmax=0, cmap='turbo',\n",
    "    colorbar=True)\n",
    "fig.set_facecolor('w')\n",
    "cb.set_label(r'$\\log_{10} ({\\rm SFD EBV})$')\n",
    "cb.ax.set_aspect(40)"
   ]
  },
  {
   "cell_type": "code",
   "execution_count": null,
   "metadata": {},
   "outputs": [],
   "source": [
    "len(allstar), len(clean_stars), len(parent)"
   ]
  },
  {
   "cell_type": "code",
   "execution_count": null,
   "metadata": {},
   "outputs": [],
   "source": [
    "parent.write(cache_path / 'parent-sample.fits', overwrite=True)"
   ]
  },
  {
   "cell_type": "markdown",
   "metadata": {},
   "source": [
    "### Build the design matrix data for the full parent sample"
   ]
  },
  {
   "cell_type": "code",
   "execution_count": null,
   "metadata": {},
   "outputs": [],
   "source": [
    "parent_data = JoaquinData.from_stars(\n",
    "    parent, cache_file='parent-sample')"
   ]
  },
  {
   "cell_type": "markdown",
   "metadata": {},
   "source": [
    "### Define and save a global spectral mask based on the fraction of pixels over the full parent sample that are masked:"
   ]
  },
  {
   "cell_type": "code",
   "execution_count": null,
   "metadata": {},
   "outputs": [],
   "source": [
    "global_spec_mask = parent_data.spec_bad_masks.sum(axis=0) > 0.25\n",
    "np.save(cache_path / 'global_spec_bad_mask.npy', \n",
    "        global_spec_mask)\n",
    "global_spec_mask.sum()"
   ]
  },
  {
   "cell_type": "code",
   "execution_count": null,
   "metadata": {},
   "outputs": [],
   "source": []
  }
 ],
 "metadata": {
  "kernelspec": {
   "display_name": "adrian conda base",
   "language": "python",
   "name": "conda-base"
  },
  "language_info": {
   "codemirror_mode": {
    "name": "ipython",
    "version": 3
   },
   "file_extension": ".py",
   "mimetype": "text/x-python",
   "name": "python",
   "nbconvert_exporter": "python",
   "pygments_lexer": "ipython3",
   "version": "3.7.3"
  },
  "toc": {
   "base_numbering": 1,
   "nav_menu": {},
   "number_sections": true,
   "sideBar": true,
   "skip_h1_title": false,
   "title_cell": "Table of Contents",
   "title_sidebar": "Contents",
   "toc_cell": false,
   "toc_position": {},
   "toc_section_display": true,
   "toc_window_display": false
  }
 },
 "nbformat": 4,
 "nbformat_minor": 4
}
