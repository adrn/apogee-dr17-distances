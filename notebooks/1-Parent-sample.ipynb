{
 "cells": [
  {
   "cell_type": "markdown",
   "metadata": {},
   "source": [
    "## DR17:\n",
    "\n",
    "Need to download all aspcapStar files for N/S (use --dry-run first):\n",
    "\n",
    "    rsync -aLvz --include \"*/\" \\\n",
    "    --include \"aspcapStar*.fits\" --exclude \"*\" \\\n",
    "    --prune-empty-dirs --progress \\\n",
    "    rsync://sdss@dtn01.sdss.utah.edu/sas/apogeework/apogee/spectro/aspcap/dr17/synspec/apo25m/ apo25m/\n",
    "    \n",
    "    rsync -aLvz --include \"*/\" \\\n",
    "    --include \"aspcapStar*.fits\" --exclude \"*\" \\\n",
    "    --prune-empty-dirs --progress \\\n",
    "    rsync://sdss@dtn01.sdss.utah.edu/sas/apogeework/apogee/spectro/aspcap/dr17/synspec/lco25m/ lco25m/\n",
    "    \n",
    "And same for the apStarLSF files:\n",
    "\n",
    "    rsync -aLvz --include \"*/\" \\\n",
    "    --include \"apStarLSF*.fits\" --exclude \"*\" \\\n",
    "    --prune-empty-dirs --progress \\\n",
    "    --dry-run \\\n",
    "    rsync://sdss@dtn01.sdss.utah.edu/sas/apogeework/apogee/spectro/redux/dr17/stars/apo25m/ apo25m/\n",
    "    \n",
    "    rsync -aLvz --include \"*/\" \\\n",
    "    --include \"asStarLSF*.fits\" --exclude \"*\" \\\n",
    "    --prune-empty-dirs --progress \\\n",
    "    --dry-run \\\n",
    "    rsync://sdss@dtn01.sdss.utah.edu/sas/apogeework/apogee/spectro/redux/dr17/stars/lco25m/ lco25m/"
   ]
  },
  {
   "cell_type": "code",
   "execution_count": null,
   "metadata": {},
   "outputs": [],
   "source": [
    "import pathlib\n",
    "import re\n",
    "\n",
    "from astropy.io import fits\n",
    "import astropy.coordinates as coord\n",
    "from astropy.stats import median_absolute_deviation as MAD\n",
    "import astropy.table as at\n",
    "import astropy.units as u\n",
    "import matplotlib as mpl\n",
    "import matplotlib.pyplot as plt\n",
    "%matplotlib inline\n",
    "import numpy as np\n",
    "from scipy.stats import binned_statistic\n",
    "from tqdm.auto import tqdm\n",
    "\n",
    "from joaquin.config import Config\n",
    "from joaquin.plot import phot_to_label, simple_corner\n",
    "from joaquin.apogee_data import make_apogee_X\n",
    "from joaquin.data import JoaquinData"
   ]
  },
  {
   "cell_type": "code",
   "execution_count": null,
   "metadata": {},
   "outputs": [],
   "source": [
    "conf = Config('../config.yml')"
   ]
  },
  {
   "cell_type": "code",
   "execution_count": null,
   "metadata": {},
   "outputs": [],
   "source": [
    "allstar = at.Table.read('/mnt/home/apricewhelan/data/APOGEE_DR17/allStar-dr17-synspec.fits', \n",
    "                        hdu=1)\n",
    "\n",
    "gaia_xm = at.Table.read('/mnt/home/apricewhelan/data/APOGEE_DR17/allStar-dr17-synspec-gaiaedr3-xm.fits',\n",
    "                        hdu=1)\n",
    "\n",
    "allstar = at.join(allstar, gaia_xm, join_type='left')\n",
    "allstar = at.unique(allstar, 'APSTAR_ID')"
   ]
  },
  {
   "cell_type": "code",
   "execution_count": null,
   "metadata": {},
   "outputs": [],
   "source": [
    "wise = at.Table.read('/mnt/home/apricewhelan/data/APOGEE_DR17/APOGEE-DR17-wise-result.fits')\n",
    "\n",
    "allstar['APOGEE_ID'] = allstar['APOGEE_ID'].astype(str)\n",
    "wise['APOGEE_ID'] = [x.strip() for x in wise['APOGEE_ID'].astype(str)]\n",
    "\n",
    "allstar = at.join(allstar, wise, keys='APOGEE_ID', join_type='left')\n",
    "allstar = at.unique(allstar, keys='APSTAR_ID')"
   ]
  },
  {
   "cell_type": "code",
   "execution_count": null,
   "metadata": {},
   "outputs": [],
   "source": [
    "allstar['TELESCOPE'] = np.array([x.strip() for x in allstar['TELESCOPE']])\n",
    "stars = allstar[np.isin(allstar['TELESCOPE'], ['apo25m', 'lco25m'])]\n",
    "len(stars)"
   ]
  },
  {
   "cell_type": "markdown",
   "metadata": {},
   "source": [
    "# Filter out bad photometry\n",
    "\n",
    "This is currently very aggressive (mag errors < 0.1, flux S/N > 10)."
   ]
  },
  {
   "cell_type": "code",
   "execution_count": null,
   "metadata": {},
   "outputs": [],
   "source": [
    "conf.phot_names"
   ]
  },
  {
   "cell_type": "code",
   "execution_count": null,
   "metadata": {},
   "outputs": [],
   "source": [
    "phot_mask = np.ones(len(stars), dtype=bool)\n",
    "for name in conf.phot_names:\n",
    "    phot_mask &= (np.isfinite(stars[name]) & \n",
    "                  (stars[name] > 0) &\n",
    "                  (stars[name] < 22))  # MAGIC NUMBER\n",
    "\n",
    "# Gaia photometry\n",
    "for band in ['g', 'bp', 'rp']:\n",
    "    mag_err = 1 / stars[f'phot_{band}_mean_flux_over_error']\n",
    "    phot_mask &= (mag_err < 0.1)  # MAGIC NUMBER\n",
    "    \n",
    "# 2MASS photometry\n",
    "for band in ['J', 'H', 'K']:\n",
    "    phot_mask &= ((stars[f'{band}_ERR'] > 0) &\n",
    "                  (stars[f'{band}_ERR'] < 0.1))  # MAGIC NUMBER\n",
    "\n",
    "# WISE photometry\n",
    "phot_mask &= stars['w1mpro_error'] < 0.1\n",
    "\n",
    "# phot_mask &= np.char.startswith(stars['ph_qual'].astype(str), 'AA')\n",
    "pattr = re.compile(\"^([AB][AB])\")\n",
    "phot_mask &= np.array([re.search(pattr, x) is not None\n",
    "                       for x in stars['ph_qual'].astype(str)])\n",
    "\n",
    "phot_mask.sum(), len(phot_mask)"
   ]
  },
  {
   "cell_type": "code",
   "execution_count": null,
   "metadata": {},
   "outputs": [],
   "source": [
    "for band in ['g', 'bp', 'rp']:\n",
    "    mag_err = 1 / stars[f'phot_{band}_mean_flux_over_error']\n",
    "    print(band, np.percentile(mag_err[phot_mask], [1, 99.9]))\n",
    "    \n",
    "for band in 'JHK':\n",
    "    print(band, np.percentile(stars[f'{band}_ERR'][phot_mask], [1, 99.9]))\n",
    "    \n",
    "for band in ['w1mpro', 'w2mpro']:\n",
    "    print(band, np.percentile(stars[f'{band}_error'][phot_mask], [1, 99.9]))"
   ]
  },
  {
   "cell_type": "markdown",
   "metadata": {},
   "source": [
    "### TODO: filter out SB1 binaries from The Joker VAC?"
   ]
  },
  {
   "cell_type": "markdown",
   "metadata": {},
   "source": [
    "# Filter on starflag bitmasks for bad spectra:"
   ]
  },
  {
   "cell_type": "code",
   "execution_count": null,
   "metadata": {},
   "outputs": [],
   "source": [
    "bits = np.array([\n",
    "    0,  # BAD_PIXELS,\n",
    "    1,  # COMMISSIONING\n",
    "    3,  # VERY_BRIGHT_NEIGHBOR\n",
    "    4,  # LOW_SNR\n",
    "])\n",
    "starflag_mask = (stars['STARFLAG'] & np.sum(2**bits)) == 0\n",
    "starflag_mask.sum()"
   ]
  },
  {
   "cell_type": "code",
   "execution_count": null,
   "metadata": {},
   "outputs": [],
   "source": [
    "ncomponents_mask = stars['N_COMPONENTS'] == 1\n",
    "ncomponents_mask.sum()"
   ]
  },
  {
   "cell_type": "markdown",
   "metadata": {},
   "source": [
    "# Full set of cleaned stars:"
   ]
  },
  {
   "cell_type": "code",
   "execution_count": null,
   "metadata": {},
   "outputs": [],
   "source": [
    "clean_stars = stars[phot_mask & starflag_mask & ncomponents_mask]  # & binaries_mask\n",
    "len(stars), len(clean_stars), len(np.unique(clean_stars['APOGEE_ID']))"
   ]
  },
  {
   "cell_type": "markdown",
   "metadata": {},
   "source": [
    "### Color-color plot to prune outliers"
   ]
  },
  {
   "cell_type": "code",
   "execution_count": null,
   "metadata": {},
   "outputs": [],
   "source": [
    "G_J = clean_stars['phot_g_mean_mag'] - clean_stars['J']\n",
    "J_K = clean_stars['J'] - clean_stars['K']\n",
    "\n",
    "poly = np.poly1d(np.polyfit(G_J, J_K, deg=1))\n",
    "xx = np.linspace(0, 10, 25)\n",
    "\n",
    "fig, axes = plt.subplots(1, 3, figsize=(15, 5))\n",
    "\n",
    "ax = axes[0]\n",
    "ax.plot(xx, poly(xx), color='tab:blue', zorder=10, marker='')\n",
    "ax.scatter(G_J, J_K, \n",
    "           c=clean_stars['J'],\n",
    "           marker='o', alpha=0.4, lw=0, s=4, \n",
    "           cmap='cividis_r')\n",
    "ax.set_xlabel('$G-J$')\n",
    "ax.set_ylabel('$J-K$')\n",
    "\n",
    "ax = axes[2]\n",
    "dcolor = J_K - poly(G_J)\n",
    "ax.scatter(clean_stars['J'], \n",
    "           dcolor, \n",
    "           marker='o', alpha=0.4, lw=0, s=4)\n",
    "\n",
    "bins = np.linspace(5, 15, 25)\n",
    "binc = 0.5 * (bins[:-1] + bins[1:])\n",
    "stat = binned_statistic(clean_stars['J'], \n",
    "                        dcolor,\n",
    "                        statistic='median',\n",
    "                        bins=bins)\n",
    "stat_std = binned_statistic(clean_stars['J'], \n",
    "                            dcolor,\n",
    "                            statistic=lambda x: 1.5 * MAD(x),\n",
    "                            bins=bins)\n",
    "\n",
    "ax.set_xlabel('$J$')\n",
    "ax.set_ylabel(r'$(J-K) - (J-K)_{\\rm pred}$')\n",
    "\n",
    "ax = axes[1]\n",
    "ax.scatter(G_J, dcolor, \n",
    "           c=clean_stars['LOGG'],\n",
    "           vmin=0.5, vmax=5.5,\n",
    "           marker='o', alpha=0.4, lw=0, s=4,\n",
    "           cmap='cividis_r')\n",
    "\n",
    "ax.set_xlabel('$G - J$')\n",
    "ax.set_ylabel(r'$(J-K) - (J-K)_{\\rm pred}$')\n",
    "\n",
    "# MAGIC NUMBERS\n",
    "ax.axhline(np.median(dcolor) - 8 * np.std(dcolor))\n",
    "ax.axhline(np.median(dcolor) + 8 * np.std(dcolor))\n",
    "# ax.axhline(np.median(dcolor) - 8 * 1.5 * MAD(dcolor), color='tab:green')\n",
    "# ax.axhline(np.median(dcolor) + 8 * 1.5 * MAD(dcolor), color='tab:green')\n",
    "\n",
    "fig.tight_layout()\n",
    "fig.set_facecolor('w')"
   ]
  },
  {
   "cell_type": "code",
   "execution_count": null,
   "metadata": {},
   "outputs": [],
   "source": [
    "# MAGIC NUMBER: Good ol' standard 8 sigma cut\n",
    "dcolor_mask = np.abs(dcolor - np.median(dcolor)) < 8 * np.std(dcolor)\n",
    "dcolor_mask &= (clean_stars['H'] - clean_stars['w2mpro']) > -0.5\n",
    "dcolor_mask &= (clean_stars['w1mpro'] - clean_stars['w2mpro']) > -1\n",
    "dcolor_mask.sum()"
   ]
  },
  {
   "cell_type": "code",
   "execution_count": null,
   "metadata": {},
   "outputs": [],
   "source": [
    "parent = clean_stars[dcolor_mask]"
   ]
  },
  {
   "cell_type": "code",
   "execution_count": null,
   "metadata": {},
   "outputs": [],
   "source": [
    "plt.figure(figsize=(10, 6))\n",
    "plt.plot(parent['RA'], parent['DEC'], \n",
    "         marker='o', mew=0, ls='none', alpha=0.1, ms=1)\n",
    "plt.tight_layout()"
   ]
  },
  {
   "cell_type": "code",
   "execution_count": null,
   "metadata": {},
   "outputs": [],
   "source": [
    "a"
   ]
  },
  {
   "cell_type": "code",
   "execution_count": null,
   "metadata": {},
   "outputs": [],
   "source": [
    "# Photometry / colors:\n",
    "plot_X = []\n",
    "labels = []\n",
    "\n",
    "colors = conf.neighborhood_color_names\n",
    "# [\n",
    "#     ('phot_bp_mean_mag', 'phot_rp_mean_mag'),\n",
    "#     ('J', 'K'),\n",
    "#     ('w1mpro', 'w2mpro'),\n",
    "#     ('phot_g_mean_mag', 'J'),\n",
    "#     ('H', 'w2mpro')\n",
    "# ]\n",
    "for i, (p1, p2) in enumerate(colors):\n",
    "    vals = parent[p1] - parent[p2]\n",
    "    plot_X.append(vals)\n",
    "    \n",
    "    lbl1 = p1\n",
    "    if p1 in phot_to_label:\n",
    "        lbl1 = phot_to_label[p1]\n",
    "    \n",
    "    lbl2 = p2\n",
    "    if p2 in phot_to_label:\n",
    "        lbl2 = phot_to_label[p2]\n",
    "    \n",
    "    lbl = f\"{lbl1} $-$ {lbl2}\"\n",
    "    labels.append(lbl)\n",
    "    \n",
    "plot_X = np.array(plot_X).T"
   ]
  },
  {
   "cell_type": "code",
   "execution_count": null,
   "metadata": {},
   "outputs": [],
   "source": []
  },
  {
   "cell_type": "code",
   "execution_count": null,
   "metadata": {},
   "outputs": [],
   "source": [
    "fig, axes = simple_corner(\n",
    "    plot_X, \n",
    "    colorbar=True,\n",
    "    labels=labels,\n",
    "    alpha=0.2, ms=1.)\n",
    "\n",
    "fig.set_facecolor('w')"
   ]
  },
  {
   "cell_type": "code",
   "execution_count": null,
   "metadata": {},
   "outputs": [],
   "source": [
    "len(allstar), len(clean_stars), len(parent)"
   ]
  },
  {
   "cell_type": "code",
   "execution_count": null,
   "metadata": {},
   "outputs": [],
   "source": [
    "parent.write(conf.parent_sample_source_file, overwrite=True)"
   ]
  },
  {
   "cell_type": "markdown",
   "metadata": {},
   "source": [
    "### Build the design matrix data for the full parent sample"
   ]
  },
  {
   "cell_type": "code",
   "execution_count": null,
   "metadata": {},
   "outputs": [],
   "source": [
    "parent_data = JoaquinData.from_stars(\n",
    "    conf, parent, make_apogee_X, \n",
    "    cache_file=conf.parent_sample_cache_file)"
   ]
  },
  {
   "cell_type": "code",
   "execution_count": null,
   "metadata": {},
   "outputs": [],
   "source": []
  }
 ],
 "metadata": {
  "kernelspec": {
   "display_name": "adrian conda base",
   "language": "python",
   "name": "conda-base"
  },
  "language_info": {
   "codemirror_mode": {
    "name": "ipython",
    "version": 3
   },
   "file_extension": ".py",
   "mimetype": "text/x-python",
   "name": "python",
   "nbconvert_exporter": "python",
   "pygments_lexer": "ipython3",
   "version": "3.7.3"
  },
  "toc": {
   "base_numbering": 1,
   "nav_menu": {},
   "number_sections": true,
   "sideBar": true,
   "skip_h1_title": false,
   "title_cell": "Table of Contents",
   "title_sidebar": "Contents",
   "toc_cell": false,
   "toc_position": {},
   "toc_section_display": true,
   "toc_window_display": false
  }
 },
 "nbformat": 4,
 "nbformat_minor": 4
}
