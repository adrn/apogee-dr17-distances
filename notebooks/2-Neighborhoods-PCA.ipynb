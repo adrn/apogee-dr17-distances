{
 "cells": [
  {
   "cell_type": "code",
   "execution_count": null,
   "metadata": {},
   "outputs": [],
   "source": [
    "import os\n",
    "os.environ['APOGEE_CACHE_PATH'] = \"/mnt/ceph/users/apricewhelan/apogee-test/\"\n",
    "os.environ['JOAQUIN_CACHE_PATH'] = \"/mnt/ceph/users/apricewhelan/projects/joaquin/cache\"\n",
    "import warnings\n",
    "import pickle\n",
    "\n",
    "import sys\n",
    "import pathlib\n",
    "_path = str(pathlib.Path('../').resolve())\n",
    "if _path not in sys.path:\n",
    "    sys.path.append(_path)\n",
    "\n",
    "import astropy.coordinates as coord\n",
    "import astropy.table as at\n",
    "import astropy.units as u\n",
    "import matplotlib as mpl\n",
    "import matplotlib.pyplot as plt\n",
    "%matplotlib inline\n",
    "import numpy as np\n",
    "from tqdm.auto import tqdm, trange\n",
    "\n",
    "from scipy.spatial import cKDTree\n",
    "from sklearn.decomposition import IncrementalPCA\n",
    "from sklearn.neighbors import KernelDensity\n",
    "\n",
    "from joaquin.data import JoaquinData\n",
    "from joaquin.config import all_phot_names, dr, root_cache_path, target_neighborhood_size\n",
    "from joaquin.plot import simple_corner, phot_to_label, plot_hr_cmd\n",
    "from joaquin.neighborhoods import get_neighborhood_X"
   ]
  },
  {
   "cell_type": "code",
   "execution_count": null,
   "metadata": {},
   "outputs": [],
   "source": [
    "plot_path = pathlib.Path('../plot') / dr\n",
    "plot_path = plot_path.resolve()\n",
    "plot_path.mkdir(parents=True, exist_ok=True)"
   ]
  },
  {
   "cell_type": "markdown",
   "metadata": {},
   "source": [
    "### Build the design matrix data for the full parent sample"
   ]
  },
  {
   "cell_type": "code",
   "execution_count": null,
   "metadata": {},
   "outputs": [],
   "source": [
    "parent = at.Table.read(root_cache_path / 'parent-sample.fits')"
   ]
  },
  {
   "cell_type": "code",
   "execution_count": null,
   "metadata": {},
   "outputs": [],
   "source": [
    "parent_data = JoaquinData(\n",
    "    parent, lowpass=False, \n",
    "    cache_file='parent-sample-raw')"
   ]
  },
  {
   "cell_type": "markdown",
   "metadata": {},
   "source": [
    "### Define and save a global spectral mask based on the fraction of pixels over the full parent sample that are masked:"
   ]
  },
  {
   "cell_type": "code",
   "execution_count": null,
   "metadata": {},
   "outputs": [],
   "source": [
    "spec_good_mask = parent_data._spec_mask_vals < 0.25\n",
    "np.save(root_cache_path / 'spec_good_mask.npy', \n",
    "        spec_good_mask)\n",
    "spec_good_mask.sum()"
   ]
  },
  {
   "cell_type": "markdown",
   "metadata": {},
   "source": [
    "### Select a subset of stars to use for defining the neighborhoods:"
   ]
  },
  {
   "cell_type": "code",
   "execution_count": null,
   "metadata": {},
   "outputs": [],
   "source": [
    "rng = np.random.default_rng(42)\n",
    "\n",
    "sub_stars = parent[(parent['SNR'] > 200)]\n",
    "idx = rng.choice(len(sub_stars), size=8192, replace=False)\n",
    "sub_stars = sub_stars[idx]\n",
    "\n",
    "len(sub_stars)"
   ]
  },
  {
   "cell_type": "code",
   "execution_count": null,
   "metadata": {},
   "outputs": [],
   "source": [
    "sub_data = JoaquinData(\n",
    "    sub_stars, lowpass=False, \n",
    "    cache_file='neighborhood-node-sample')"
   ]
  },
  {
   "cell_type": "code",
   "execution_count": null,
   "metadata": {},
   "outputs": [],
   "source": [
    "fig, ax = plt.subplots(figsize=(6, 6))\n",
    "\n",
    "teff_logg_bins = (\n",
    "    np.linspace(3000, 9000, 128),\n",
    "    np.linspace(-0.5, 5.75, 128))\n",
    "ax.hist2d(parent_data.stars['TEFF'], \n",
    "          parent_data.stars['LOGG'],\n",
    "          bins=bins, norm=mpl.colors.LogNorm(),\n",
    "          cmap='Greys')\n",
    "\n",
    "ax.plot(sub_data.stars['TEFF'],\n",
    "        sub_data.stars['LOGG'],\n",
    "        ls='none', marker='o', mew=0, ms=2., \n",
    "        color='tab:blue', alpha=0.75)\n",
    "\n",
    "ax.set_xlim(teff_logg_bins[0].max(), \n",
    "            teff_logg_bins[0].min())\n",
    "ax.set_ylim(teff_logg_bins[1].max(), \n",
    "            teff_logg_bins[1].min())\n",
    "\n",
    "ax.set_xlabel('TEFF')\n",
    "ax.set_ylabel('LOGG')\n",
    "\n",
    "fig.tight_layout()"
   ]
  },
  {
   "cell_type": "markdown",
   "metadata": {},
   "source": [
    "### Construct the neighborhood feature matrix for the neighborhood node sample:\n",
    "\n",
    "This currently uses the spectra and a set of colors"
   ]
  },
  {
   "cell_type": "code",
   "execution_count": null,
   "metadata": {},
   "outputs": [],
   "source": [
    "sub_X, color_labels, good_sub_stars = get_neighborhood_X(\n",
    "    sub_data, spec_good_mask)"
   ]
  },
  {
   "cell_type": "code",
   "execution_count": null,
   "metadata": {},
   "outputs": [],
   "source": [
    "tmp = sub_X[:, -len(color_labels):]\n",
    "fig = simple_corner(\n",
    "    tmp, \n",
    "    labels=color_labels, \n",
    "    color_by=good_sub_stars['LOGG'], vmin=0.5, vmax=5.5, \n",
    "    colorbar=True)"
   ]
  },
  {
   "cell_type": "markdown",
   "metadata": {},
   "source": [
    "### Run PCA on the neighborhood node features and project down:"
   ]
  },
  {
   "cell_type": "code",
   "execution_count": null,
   "metadata": {},
   "outputs": [],
   "source": [
    "pca = IncrementalPCA(n_components=8, batch_size=1024)\n",
    "projected_X = pca.fit_transform(sub_X)\n",
    "projected_X /= pca.singular_values_"
   ]
  },
  {
   "cell_type": "markdown",
   "metadata": {},
   "source": [
    "This hacky step removes egregious outliers - only run this after the cells above because it overwrites variables!!"
   ]
  },
  {
   "cell_type": "code",
   "execution_count": null,
   "metadata": {},
   "outputs": [],
   "source": [
    "mean = np.mean(projected_X, axis=0)\n",
    "std = np.std(projected_X, axis=0)\n",
    "bad_mask = np.any(np.abs(projected_X - mean) > 5*std, axis=1)\n",
    "\n",
    "neighborhood_node_X = sub_X[~bad_mask]\n",
    "neighborhood_node_stars = good_sub_stars[~bad_mask]\n",
    "\n",
    "pca = IncrementalPCA(n_components=8, batch_size=1024)\n",
    "node_projected_X = pca.fit_transform(neighborhood_node_X)\n",
    "node_projected_X /= pca.singular_values_"
   ]
  },
  {
   "cell_type": "code",
   "execution_count": null,
   "metadata": {},
   "outputs": [],
   "source": [
    "fig, axes = plt.subplots(pca.n_components_ // 2, 2,\n",
    "                         figsize=(16, 12), sharex=True)\n",
    "\n",
    "for i in range(pca.n_components):\n",
    "    axes.flat[i].plot(pca.components_[i])\n",
    "    \n",
    "fig.tight_layout()"
   ]
  },
  {
   "cell_type": "code",
   "execution_count": null,
   "metadata": {},
   "outputs": [],
   "source": [
    "np.cumsum(pca.explained_variance_ratio_)"
   ]
  },
  {
   "cell_type": "code",
   "execution_count": null,
   "metadata": {},
   "outputs": [],
   "source": [
    "fig, axes = plt.subplots(3, 3, \n",
    "                         figsize=(10, 10),\n",
    "                         sharex=True, sharey=True)\n",
    "\n",
    "for i in range(pca.n_components):\n",
    "    ax = axes.flat[i]\n",
    "    ax.scatter(neighborhood_node_stars['TEFF'],\n",
    "               neighborhood_node_stars['LOGG'],\n",
    "               c=node_projected_X[:, i], s=6)\n",
    "    ax.text(teff_logg_bins[0].max() - 100, \n",
    "            teff_logg_bins[1].min() + 0.1,\n",
    "            f'PCA feature {i}', va='top', ha='left')\n",
    "\n",
    "for i in range(pca.n_components, len(axes.flat)):\n",
    "    axes.flat[i].set_visible(False)\n",
    "    \n",
    "ax.set_xlim(teff_logg_bins[0].max(), \n",
    "            teff_logg_bins[0].min())\n",
    "ax.set_ylim(teff_logg_bins[1].max(), \n",
    "            teff_logg_bins[1].min())\n",
    "\n",
    "fig.tight_layout()"
   ]
  },
  {
   "cell_type": "code",
   "execution_count": null,
   "metadata": {},
   "outputs": [],
   "source": [
    "things = {\n",
    "    'TEFF': (3000, 6500),\n",
    "    'LOGG': (0.5, 5.5),\n",
    "    'M_H': (-2, 0.5)\n",
    "}\n",
    "for name, (vmin, vmax) in things.items():\n",
    "    fig, axes, cb = simple_corner(\n",
    "        node_projected_X, \n",
    "        color_by=neighborhood_node_stars[name],\n",
    "        colorbar=True,\n",
    "        vmin=vmin, vmax=vmax,\n",
    "        labels=[f'PCA {i}' \n",
    "                for i in range(pca.n_components_)])\n",
    "    cb.ax.set_aspect(40)\n",
    "    axes.flat[0].set_title(f'color: {name}')\n",
    "    \n",
    "    fig.savefig(plot_path / f'neighborhood-pca-nodes-{name}.png', dpi=200)\n",
    "    plt.close(fig)"
   ]
  },
  {
   "cell_type": "code",
   "execution_count": null,
   "metadata": {},
   "outputs": [],
   "source": [
    "with open(root_cache_path / 'pca_neighborizer.pkl', 'wb') as f:\n",
    "    pickle.dump(pca, f)"
   ]
  },
  {
   "cell_type": "markdown",
   "metadata": {},
   "source": [
    "## Now use the neighborhood sample to define the neighborhoods:\n",
    "\n",
    "First, determine local density at all points:"
   ]
  },
  {
   "cell_type": "code",
   "execution_count": null,
   "metadata": {},
   "outputs": [],
   "source": [
    "bw = np.mean(np.std(node_projected_X, axis=0)) * np.sqrt(node_projected_X.shape[1]) / 3\n",
    "kde = KernelDensity(bandwidth=bw, kernel='epanechnikov')\n",
    "_ = kde.fit(node_projected_X)\n",
    "dens = kde.score_samples(node_projected_X)"
   ]
  },
  {
   "cell_type": "markdown",
   "metadata": {},
   "source": [
    "Now construct the kdtree to find neighbors:"
   ]
  },
  {
   "cell_type": "code",
   "execution_count": null,
   "metadata": {},
   "outputs": [],
   "source": [
    "tree = cKDTree(node_projected_X)"
   ]
  },
  {
   "cell_type": "markdown",
   "metadata": {},
   "source": [
    "Setting k=2 below means that each row in `idxs` will be (self, neighbor)"
   ]
  },
  {
   "cell_type": "code",
   "execution_count": null,
   "metadata": {},
   "outputs": [],
   "source": [
    "_, idxs = tree.query(node_projected_X, k=2)"
   ]
  },
  {
   "cell_type": "code",
   "execution_count": null,
   "metadata": {},
   "outputs": [],
   "source": [
    "sort_idx = dens.argsort()[::-1]\n",
    "\n",
    "this_size = int(target_neighborhood_size * len(neighborhood_node_stars) / len(parent))\n",
    "\n",
    "neighborhoods = []\n",
    "for (i1, i2) in idxs[sort_idx]:\n",
    "    if i1 in np.ravel(neighborhoods):\n",
    "        continue\n",
    "    \n",
    "    _, results = tree.query(node_projected_X[i1], k=this_size)\n",
    "    neighborhoods.append(np.concatenate(([i1], results)))\n",
    "\n",
    "len(neighborhoods)"
   ]
  },
  {
   "cell_type": "code",
   "execution_count": null,
   "metadata": {},
   "outputs": [],
   "source": [
    "node_TEFF = [neighborhood_node_stars['TEFF'][idx[0]]\n",
    "             for idx in neighborhoods]\n",
    "node_LOGG = [neighborhood_node_stars['LOGG'][idx[0]]\n",
    "             for idx in neighborhoods]\n",
    "\n",
    "fig, ax = plt.subplots(figsize=(6, 6))\n",
    "\n",
    "ax.scatter(node_TEFF, node_LOGG)\n",
    "\n",
    "ax.set_xlim(teff_logg_bins[0].max(), \n",
    "            teff_logg_bins[0].min())\n",
    "ax.set_ylim(teff_logg_bins[1].max(), \n",
    "            teff_logg_bins[1].min())\n",
    "\n",
    "ax.set_title('neighborhood nodes')\n",
    "\n",
    "ax.set_xlabel('TEFF')\n",
    "ax.set_ylabel('LOGG')\n",
    "\n",
    "fig.tight_layout()"
   ]
  },
  {
   "cell_type": "code",
   "execution_count": null,
   "metadata": {},
   "outputs": [],
   "source": [
    "neighbor_plot_path = plot_path / 'neighborhoods'\n",
    "neighbor_plot_path.mkdir(exist_ok=True)\n",
    "\n",
    "for n, hood in enumerate(tqdm(neighborhoods)):\n",
    "    fig = plot_hr_cmd(parent_data, neighborhood_node_stars,\n",
    "                      idx0=hood[0], other_idx=hood[1:])\n",
    "    fig.tight_layout()\n",
    "    fig.savefig(neighbor_plot_path / f'neighborhood-{n:03d}.png', dpi=200)\n",
    "    plt.close(fig)"
   ]
  },
  {
   "cell_type": "markdown",
   "metadata": {},
   "source": [
    "### Apply to the full parent sample"
   ]
  },
  {
   "cell_type": "code",
   "execution_count": null,
   "metadata": {},
   "outputs": [],
   "source": [
    "parent_X, _, parent_good_stars = get_neighborhood_X(\n",
    "    parent_data, spec_good_mask)\n",
    "parent_X.shape"
   ]
  },
  {
   "cell_type": "code",
   "execution_count": null,
   "metadata": {},
   "outputs": [],
   "source": [
    "parent_projected_X = np.zeros((parent_X.shape[0], node_projected_X.shape[1]),\n",
    "                               dtype=np.float32)\n",
    "\n",
    "vals = np.linspace(0, parent_X.shape[0], 8).astype(int)\n",
    "for i1, i2 in zip(vals[:-1], vals[1:]):\n",
    "    if i2 >= parent_X.shape[0]-1:\n",
    "        i2 = parent_X.shape[0]\n",
    "        \n",
    "    parent_projected_X[i1:i2] = pca.transform(parent_X[i1:i2])\n",
    "    parent_projected_X[i1:i2] /= pca.singular_values_"
   ]
  },
  {
   "cell_type": "code",
   "execution_count": null,
   "metadata": {},
   "outputs": [],
   "source": [
    "parent_tree = cKDTree(parent_projected_X)"
   ]
  },
  {
   "cell_type": "code",
   "execution_count": null,
   "metadata": {},
   "outputs": [],
   "source": [
    "zone_idx = []\n",
    "for i, nidx in enumerate(tqdm(neighborhoods)):\n",
    "    dist, idx = parent_tree.query(node_projected_X[nidx[0]],\n",
    "                                  k=target_neighborhood_size)\n",
    "    zone_idx.append(idx[dist.argsort()])"
   ]
  },
  {
   "cell_type": "code",
   "execution_count": null,
   "metadata": {},
   "outputs": [],
   "source": [
    "for n in trange(len(zone_idx)):\n",
    "    fig = plot_hr_cmd(parent_data, parent_good_stars,\n",
    "                      idx0=zone_idx[n][0], other_idx=zone_idx[n][1:])\n",
    "    \n",
    "    fig.tight_layout()\n",
    "    fig.savefig(neighbor_plot_path / f'parent-neighborhood-{n:03d}.png', dpi=200)\n",
    "    plt.close(fig)"
   ]
  },
  {
   "cell_type": "code",
   "execution_count": null,
   "metadata": {},
   "outputs": [],
   "source": []
  },
  {
   "cell_type": "markdown",
   "metadata": {},
   "source": [
    "---\n",
    "\n",
    "## Validation"
   ]
  },
  {
   "cell_type": "code",
   "execution_count": null,
   "metadata": {},
   "outputs": [],
   "source": [
    "tree = cKDTree(projected_X / pca.singular_values_)\n",
    "\n",
    "dist, idx = tree.query(projected_X / pca.singular_values_, \n",
    "                       k=np.arange(2, 32+2))"
   ]
  },
  {
   "cell_type": "code",
   "execution_count": null,
   "metadata": {},
   "outputs": [],
   "source": [
    "np.std(projected_X / pca.singular_values_, axis=0)"
   ]
  },
  {
   "cell_type": "code",
   "execution_count": null,
   "metadata": {},
   "outputs": [],
   "source": [
    "for i, js in enumerate(idx[:20]):    \n",
    "    fig, axes = plt.subplots(1, 2, figsize=(12, 6))\n",
    "    \n",
    "    ax = axes[0]\n",
    "    bins = (np.linspace(3000, 7500, 128),\n",
    "            np.linspace(0, 5.5, 128))\n",
    "    ax.hist2d(parent['TEFF'], parent['LOGG'],\n",
    "              bins=bins, norm=mpl.colors.LogNorm(),\n",
    "              cmap='Greys')\n",
    "\n",
    "    ax.plot(good_stars['TEFF'][i],\n",
    "            good_stars['LOGG'][i],\n",
    "            ls='none', marker='s', mew=0, ms=6., \n",
    "            color='tab:blue', zorder=100)\n",
    "\n",
    "    ax.plot(good_stars['TEFF'][js],\n",
    "            good_stars['LOGG'][js],\n",
    "            ls='none', marker='o', mew=0, ms=4., \n",
    "            color='tab:orange', zorder=10)\n",
    "\n",
    "    ax.set_ylim(5.5, 0)\n",
    "    ax.set_xlim(7500, 3000)\n",
    "    \n",
    "    ax.set_xlabel(r'ASPCAP $T_{\\rm EFF}$')\n",
    "    ax.set_ylabel(r'ASPCAP $\\log g$')\n",
    "    \n",
    "    # ---\n",
    "    \n",
    "    ax = axes[1]\n",
    "    \n",
    "    bins = (np.linspace(-0.5, 4.5, 128),\n",
    "            np.linspace(-4, 12, 128))\n",
    "    dist_mask, = np.where((parent['GAIAEDR3_PARALLAX'] / parent['GAIAEDR3_PARALLAX_ERROR']) > 5)\n",
    "    distmod = coord.Distance(parallax=parent['GAIAEDR3_PARALLAX'][dist_mask]*u.mas).distmod.value\n",
    "    ax.hist2d((parent['GAIAEDR3_PHOT_G_MEAN_MAG'] - parent['J'])[dist_mask], \n",
    "              parent['GAIAEDR3_PHOT_G_MEAN_MAG'][dist_mask] - distmod,\n",
    "              bins=bins, norm=mpl.colors.LogNorm(),\n",
    "              cmap='Greys')\n",
    "    \n",
    "    distmod = coord.Distance(parallax=good_stars['GAIAEDR3_PARALLAX']*u.mas, \n",
    "                             allow_negative=True).distmod.value\n",
    "    ax.plot((good_stars['GAIAEDR3_PHOT_G_MEAN_MAG'] - good_stars['J'])[i],\n",
    "            (good_stars['GAIAEDR3_PHOT_G_MEAN_MAG'] - distmod)[i],\n",
    "            ls='none', marker='s', mew=0, ms=6., \n",
    "            color='tab:blue', zorder=100)\n",
    "    \n",
    "    dist_mask = (parent['GAIAEDR3_PARALLAX'][js] > 0.5) & (parent['GAIAEDR3_PARALLAX_ERROR'][js] < 0.1)\n",
    "    ax.plot((good_stars['GAIAEDR3_PHOT_G_MEAN_MAG'] - good_stars['J'])[js][dist_mask],\n",
    "            (good_stars['GAIAEDR3_PHOT_G_MEAN_MAG'] - distmod)[js][dist_mask],\n",
    "            ls='none', marker='o', mew=0, ms=4., \n",
    "            color='tab:orange', zorder=10)\n",
    "\n",
    "    ax.set_xlim(bins[0].min(), bins[0].max())\n",
    "    ax.set_ylim(bins[1].max(), bins[1].min())\n",
    "    \n",
    "    ax.set_xlabel(r'$G - J$')\n",
    "    ax.set_ylabel(r'$M_G$')\n",
    "\n",
    "    fig.tight_layout()"
   ]
  },
  {
   "cell_type": "code",
   "execution_count": null,
   "metadata": {},
   "outputs": [],
   "source": [
    "is_ = np.arange(len(good_stars))\n",
    "\n",
    "for i, js in zip(is_[good_stars['LOGG'] > 4], \n",
    "                 idx[good_stars['LOGG'] > 4][:20]):\n",
    "    fig, axes = plt.subplots(1, 2, figsize=(12, 6))\n",
    "    \n",
    "    ax = axes[0]\n",
    "    bins = (np.linspace(3000, 7500, 128),\n",
    "            np.linspace(0, 5.5, 128))\n",
    "    ax.hist2d(parent['TEFF'], parent['LOGG'],\n",
    "              bins=bins, norm=mpl.colors.LogNorm(),\n",
    "              cmap='Greys')\n",
    "\n",
    "    ax.plot(good_stars['TEFF'][i],\n",
    "            good_stars['LOGG'][i],\n",
    "            ls='none', marker='s', mew=0, ms=6., \n",
    "            color='tab:blue', zorder=100)\n",
    "\n",
    "    ax.plot(good_stars['TEFF'][js],\n",
    "            good_stars['LOGG'][js],\n",
    "            ls='none', marker='o', mew=0, ms=4., \n",
    "            color='tab:orange', zorder=10)\n",
    "\n",
    "    ax.set_ylim(5.5, 0)\n",
    "    ax.set_xlim(7500, 3000)\n",
    "    \n",
    "    ax.set_xlabel(r'ASPCAP $T_{\\rm EFF}$')\n",
    "    ax.set_ylabel(r'ASPCAP $\\log g$')\n",
    "    \n",
    "    # ---\n",
    "    \n",
    "    ax = axes[1]\n",
    "    \n",
    "    bins = (np.linspace(-0.5, 4.5, 128),\n",
    "            np.linspace(-4, 12, 128))\n",
    "    dist_mask, = np.where((parent['GAIAEDR3_PARALLAX'] / parent['GAIAEDR3_PARALLAX_ERROR']) > 5)\n",
    "    distmod = coord.Distance(parallax=parent['GAIAEDR3_PARALLAX'][dist_mask]*u.mas).distmod.value\n",
    "    ax.hist2d((parent['GAIAEDR3_PHOT_G_MEAN_MAG'] - parent['J'])[dist_mask], \n",
    "              parent['GAIAEDR3_PHOT_G_MEAN_MAG'][dist_mask] - distmod,\n",
    "              bins=bins, norm=mpl.colors.LogNorm(),\n",
    "              cmap='Greys')\n",
    "    \n",
    "    distmod = coord.Distance(parallax=good_stars['GAIAEDR3_PARALLAX']*u.mas, \n",
    "                             allow_negative=True).distmod.value\n",
    "    ax.plot((good_stars['GAIAEDR3_PHOT_G_MEAN_MAG'] - good_stars['J'])[i],\n",
    "            (good_stars['GAIAEDR3_PHOT_G_MEAN_MAG'] - distmod)[i],\n",
    "            ls='none', marker='s', mew=0, ms=6., \n",
    "            color='tab:blue', zorder=100)\n",
    "\n",
    "    dist_mask = (parent['GAIAEDR3_PARALLAX'][js] > 0.5) & (parent['GAIAEDR3_PARALLAX_ERROR'][js] < 0.1)\n",
    "    ax.plot((good_stars['GAIAEDR3_PHOT_G_MEAN_MAG'] - good_stars['J'])[js][dist_mask],\n",
    "            (good_stars['GAIAEDR3_PHOT_G_MEAN_MAG'] - distmod)[js][dist_mask],\n",
    "            ls='none', marker='o', mew=0, ms=4., \n",
    "            color='tab:orange', zorder=10)\n",
    "\n",
    "    ax.set_xlim(bins[0].min(), bins[0].max())\n",
    "    ax.set_ylim(bins[1].max(), bins[1].min())\n",
    "    \n",
    "    ax.set_xlabel(r'$G - J$')\n",
    "    ax.set_ylabel(r'$M_G$')\n",
    "\n",
    "    fig.tight_layout()"
   ]
  },
  {
   "cell_type": "code",
   "execution_count": null,
   "metadata": {},
   "outputs": [],
   "source": []
  }
 ],
 "metadata": {
  "kernelspec": {
   "display_name": "adrian conda base",
   "language": "python",
   "name": "conda-base"
  },
  "language_info": {
   "codemirror_mode": {
    "name": "ipython",
    "version": 3
   },
   "file_extension": ".py",
   "mimetype": "text/x-python",
   "name": "python",
   "nbconvert_exporter": "python",
   "pygments_lexer": "ipython3",
   "version": "3.7.3"
  },
  "toc": {
   "base_numbering": 1,
   "nav_menu": {},
   "number_sections": true,
   "sideBar": true,
   "skip_h1_title": false,
   "title_cell": "Table of Contents",
   "title_sidebar": "Contents",
   "toc_cell": false,
   "toc_position": {},
   "toc_section_display": true,
   "toc_window_display": false
  }
 },
 "nbformat": 4,
 "nbformat_minor": 4
}
