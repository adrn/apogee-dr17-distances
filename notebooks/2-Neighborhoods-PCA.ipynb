{
 "cells": [
  {
   "cell_type": "code",
   "execution_count": null,
   "metadata": {},
   "outputs": [],
   "source": [
    "import pathlib\n",
    "\n",
    "import astropy.coordinates as coord\n",
    "import astropy.table as at\n",
    "import astropy.units as u\n",
    "import matplotlib as mpl\n",
    "import matplotlib.pyplot as plt\n",
    "%matplotlib inline\n",
    "import numpy as np\n",
    "from tqdm.auto import tqdm, trange\n",
    "\n",
    "from scipy.spatial import cKDTree\n",
    "from sklearn.decomposition import IncrementalPCA\n",
    "from sklearn.neighbors import KernelDensity\n",
    "\n",
    "from joaquin.config import Config\n",
    "from joaquin.data import JoaquinData\n",
    "from joaquin.plot import simple_corner, phot_to_label, plot_hr_cmd"
   ]
  },
  {
   "cell_type": "code",
   "execution_count": null,
   "metadata": {},
   "outputs": [],
   "source": [
    "conf = Config('../config.yml')\n",
    "\n",
    "plot_path = conf.plot_path / 'neighborhoods'\n",
    "plot_path.mkdir(exist_ok=True)"
   ]
  },
  {
   "cell_type": "code",
   "execution_count": null,
   "metadata": {},
   "outputs": [],
   "source": [
    "# Random number generator, using seed from config file\n",
    "rng = np.random.default_rng(seed=conf.seed)"
   ]
  },
  {
   "cell_type": "code",
   "execution_count": null,
   "metadata": {},
   "outputs": [],
   "source": [
    "parent = JoaquinData.read(conf.parent_sample_cache_file)\n",
    "parent = parent[np.all(np.isfinite(parent.X), axis=1)]"
   ]
  },
  {
   "cell_type": "markdown",
   "metadata": {},
   "source": [
    "Define a global spectral mask based on the fraction of pixels over the full parent sample that are masked:"
   ]
  },
  {
   "cell_type": "code",
   "execution_count": null,
   "metadata": {},
   "outputs": [],
   "source": [
    "# MAGIC NUMBER / TODO: 0.25 should probably be a config setting\n",
    "global_spec_mask = (parent.spec_bad_masks.sum(axis=0) / len(parent)) > 0.25"
   ]
  },
  {
   "cell_type": "markdown",
   "metadata": {},
   "source": [
    "### Select a subset of stars to use for defining the neighborhoods:"
   ]
  },
  {
   "cell_type": "code",
   "execution_count": null,
   "metadata": {},
   "outputs": [],
   "source": [
    "# TODO: these numbers or the filter used here should be configurable\n",
    "idx = np.argwhere(\n",
    "    (parent.stars['SNR'] > 200) &   # Strict spectral S/N cut\n",
    "    (parent.stars['ruwe'] < 1.2) &  # Strict RUWE cut\n",
    "    (parent.stars['N_COMPONENTS'] == 1)  # No SB2's\n",
    ").ravel()\n",
    "\n",
    "# TODO: this number (size) should be configurable\n",
    "idx = rng.choice(idx, size=16384, replace=False)\n",
    "subset = parent[idx]\n",
    "\n",
    "len(subset)"
   ]
  },
  {
   "cell_type": "code",
   "execution_count": null,
   "metadata": {},
   "outputs": [],
   "source": [
    "# Spectroscopic HR diagram of the subset stars:\n",
    "fig, ax = plt.subplots(figsize=(6, 6))\n",
    "\n",
    "teff_logg_bins = (\n",
    "    np.linspace(3000, 9000, 128),\n",
    "    np.linspace(-0.5, 5.75, 128))\n",
    "ax.hist2d(parent.stars['TEFF'],\n",
    "          parent.stars['LOGG'],\n",
    "          bins=teff_logg_bins,\n",
    "          norm=mpl.colors.LogNorm(),\n",
    "          cmap='Greys')\n",
    "\n",
    "ax.plot(subset.stars['TEFF'],\n",
    "        subset.stars['LOGG'],\n",
    "        ls='none', marker='o', mew=0, ms=2.,\n",
    "        color='tab:blue', alpha=0.75)\n",
    "\n",
    "ax.set_xlim(teff_logg_bins[0].max(),\n",
    "            teff_logg_bins[0].min())\n",
    "ax.set_ylim(teff_logg_bins[1].max(),\n",
    "            teff_logg_bins[1].min())\n",
    "\n",
    "ax.set_xlabel('TEFF')\n",
    "ax.set_ylabel('LOGG')\n",
    "\n",
    "fig.tight_layout()\n",
    "fig.savefig(plot_path / 'subset-logg-teff.png', dpi=200)"
   ]
  },
  {
   "cell_type": "markdown",
   "metadata": {},
   "source": [
    "### Construct the neighborhood feature matrix for the neighborhood node sample:\n",
    "\n",
    "This currently uses the spectra and a set of colors"
   ]
  },
  {
   "cell_type": "code",
   "execution_count": null,
   "metadata": {},
   "outputs": [],
   "source": [
    "color_labels = [f'{phot_to_label[x1]}-{phot_to_label[x2]}'\n",
    "                for x1, x2 in conf.neighborhood_color_names]\n",
    "tmp = subset.mask_spec_pixels(global_spec_mask)\n",
    "subset_X = tmp.get_neighborhood_X(conf.neighborhood_color_names)"
   ]
  },
  {
   "cell_type": "code",
   "execution_count": null,
   "metadata": {},
   "outputs": [],
   "source": [
    "tmp = subset_X[:, -len(color_labels):]\n",
    "fig, _, cb = simple_corner(\n",
    "    tmp, \n",
    "    labels=color_labels, \n",
    "    color_by=subset.stars['LOGG'], vmin=0.5, vmax=5.5, \n",
    "    colorbar=True)\n",
    "cb.ax.set_aspect(40)\n",
    "fig.savefig(plot_path / 'neighborhood-colors.png', dpi=200)"
   ]
  },
  {
   "cell_type": "markdown",
   "metadata": {},
   "source": [
    "Run PCA on the neighborhood node features and project the subset feature matrix onto the PCA basis:"
   ]
  },
  {
   "cell_type": "code",
   "execution_count": null,
   "metadata": {},
   "outputs": [],
   "source": [
    "pca = IncrementalPCA(n_components=conf.neighborhood_pca_components,\n",
    "                     batch_size=1024)  # HACK\n",
    "projected_X = pca.fit_transform(subset_X)\n",
    "projected_X /= pca.singular_values_"
   ]
  },
  {
   "cell_type": "markdown",
   "metadata": {},
   "source": [
    "This hacky step removes extreme outliers - only run this after the cells above because it overwrites variables!!"
   ]
  },
  {
   "cell_type": "code",
   "execution_count": null,
   "metadata": {},
   "outputs": [],
   "source": [
    "mean = np.mean(projected_X, axis=0)\n",
    "std = np.std(projected_X, axis=0)\n",
    "bad_mask = np.any(np.abs(projected_X - mean) > 5*std, axis=1)\n",
    "\n",
    "neighborhood_node_X = subset_X[~bad_mask]\n",
    "neighborhood_node_stars = subset.stars[~bad_mask]\n",
    "\n",
    "pca = IncrementalPCA(n_components=conf.neighborhood_pca_components,\n",
    "                     batch_size=1024)\n",
    "node_projected_X = pca.fit_transform(neighborhood_node_X)\n",
    "node_projected_X /= pca.singular_values_"
   ]
  },
  {
   "cell_type": "code",
   "execution_count": null,
   "metadata": {},
   "outputs": [],
   "source": [
    "fig, axes = plt.subplots(pca.n_components_ // 2, 2,\n",
    "                         figsize=(16, 12), sharex=True)\n",
    "\n",
    "for i in range(pca.n_components):\n",
    "    axes.flat[i].plot(pca.components_[i])\n",
    "    \n",
    "fig.tight_layout()"
   ]
  },
  {
   "cell_type": "code",
   "execution_count": null,
   "metadata": {},
   "outputs": [],
   "source": [
    "np.cumsum(pca.explained_variance_ratio_)"
   ]
  },
  {
   "cell_type": "markdown",
   "metadata": {},
   "source": [
    "### Plot the spectroscopic parameters, colored by PCA component"
   ]
  },
  {
   "cell_type": "code",
   "execution_count": null,
   "metadata": {},
   "outputs": [],
   "source": [
    "fig, axes = plt.subplots(3, 3, \n",
    "                         figsize=(10, 10),\n",
    "                         sharex=True, sharey=True)\n",
    "\n",
    "for i in range(pca.n_components):\n",
    "    ax = axes.flat[i]\n",
    "    ax.scatter(neighborhood_node_stars['TEFF'],\n",
    "               neighborhood_node_stars['LOGG'],\n",
    "               c=node_projected_X[:, i], s=6)\n",
    "    ax.text(teff_logg_bins[0].max() - 100, \n",
    "            teff_logg_bins[1].min() + 0.1,\n",
    "            f'PCA feature {i}', va='top', ha='left')\n",
    "\n",
    "for i in range(pca.n_components, len(axes.flat)):\n",
    "    axes.flat[i].set_visible(False)\n",
    "    \n",
    "ax.set_xlim(teff_logg_bins[0].max(), \n",
    "            teff_logg_bins[0].min())\n",
    "ax.set_ylim(teff_logg_bins[1].max(), \n",
    "            teff_logg_bins[1].min())\n",
    "\n",
    "fig.tight_layout()\n",
    "fig.savefig(plot_path / 'neighborhood-logg-teff-pca.png', dpi=200)"
   ]
  },
  {
   "cell_type": "code",
   "execution_count": null,
   "metadata": {},
   "outputs": [],
   "source": [
    "things = {\n",
    "    'TEFF': (3000, 6500),\n",
    "    'LOGG': (0.5, 5.5),\n",
    "    'M_H': (-2, 0.5)\n",
    "}\n",
    "for name, (vmin, vmax) in things.items():\n",
    "    fig, axes, cb = simple_corner(\n",
    "        node_projected_X, \n",
    "        color_by=neighborhood_node_stars[name],\n",
    "        colorbar=True,\n",
    "        vmin=vmin, vmax=vmax,\n",
    "        labels=[f'PCA {i}' \n",
    "                for i in range(pca.n_components_)])\n",
    "    cb.ax.set_aspect(40)\n",
    "    axes.flat[0].set_title(f'color: {name}')\n",
    "    \n",
    "    fig.savefig(plot_path / f'neighborhood-pca-{name}.png', dpi=200)\n",
    "    plt.close(fig)"
   ]
  },
  {
   "cell_type": "markdown",
   "metadata": {},
   "source": [
    "### Now use the neighborhood sample to define the neighborhoods:\n",
    "\n",
    "We do this by estimating the local density (in projected feature space)"
   ]
  },
  {
   "cell_type": "code",
   "execution_count": null,
   "metadata": {},
   "outputs": [],
   "source": [
    "bw = np.mean(np.std(node_projected_X, axis=0)) * np.sqrt(node_projected_X.shape[1]) / 3\n",
    "kde = KernelDensity(bandwidth=bw, kernel='epanechnikov')\n",
    "_ = kde.fit(node_projected_X)\n",
    "dens = kde.score_samples(node_projected_X)"
   ]
  },
  {
   "cell_type": "markdown",
   "metadata": {},
   "source": [
    "Now construct the kdtree to find neighbors:"
   ]
  },
  {
   "cell_type": "code",
   "execution_count": null,
   "metadata": {},
   "outputs": [],
   "source": [
    "tree = cKDTree(node_projected_X)"
   ]
  },
  {
   "cell_type": "markdown",
   "metadata": {},
   "source": [
    "Setting k=2 below means that each row in `idxs` will be (self, neighbor)"
   ]
  },
  {
   "cell_type": "code",
   "execution_count": null,
   "metadata": {},
   "outputs": [],
   "source": [
    "_, idxs = tree.query(node_projected_X, k=2)"
   ]
  },
  {
   "cell_type": "markdown",
   "metadata": {},
   "source": [
    "TODO: change this so that we skip a star if it appears in a block!"
   ]
  },
  {
   "cell_type": "code",
   "execution_count": null,
   "metadata": {},
   "outputs": [],
   "source": [
    "sort_idx = dens.argsort()[::-1]\n",
    "\n",
    "this_size = int(conf.max_neighborhood_size * len(neighborhood_node_stars) / len(parent))\n",
    "\n",
    "neighborhoods = []\n",
    "blocks = []\n",
    "for (i1, i2) in idxs[sort_idx]:\n",
    "    # This relaxes the uniqueness requirement: we only skip now if a \n",
    "    # star appears in a block\n",
    "    if (np.ravel(blocks) == i1).sum() >= 2:\n",
    "        continue\n",
    "    \n",
    "    _, results = tree.query(node_projected_X[i1], k=this_size)\n",
    "    neighborhoods.append(np.concatenate(([i1], results)))\n",
    "    blocks.append(np.concatenate(([i1], results[:conf.block_size])))\n",
    "\n",
    "len(neighborhoods)"
   ]
  },
  {
   "cell_type": "code",
   "execution_count": null,
   "metadata": {},
   "outputs": [],
   "source": [
    "node_TEFF = [neighborhood_node_stars['TEFF'][idx[0]]\n",
    "             for idx in neighborhoods]\n",
    "node_LOGG = [neighborhood_node_stars['LOGG'][idx[0]]\n",
    "             for idx in neighborhoods]\n",
    "\n",
    "fig, ax = plt.subplots(figsize=(6, 6))\n",
    "\n",
    "ax.scatter(node_TEFF, node_LOGG)\n",
    "\n",
    "ax.set_xlim(teff_logg_bins[0].max(), \n",
    "            teff_logg_bins[0].min())\n",
    "ax.set_ylim(teff_logg_bins[1].max(), \n",
    "            teff_logg_bins[1].min())\n",
    "\n",
    "ax.set_title('neighborhood nodes')\n",
    "\n",
    "ax.set_xlabel('TEFF')\n",
    "ax.set_ylabel('LOGG')\n",
    "\n",
    "fig.tight_layout()"
   ]
  },
  {
   "cell_type": "markdown",
   "metadata": {},
   "source": [
    "This makes plots of all of the neighborhood stars:"
   ]
  },
  {
   "cell_type": "code",
   "execution_count": null,
   "metadata": {},
   "outputs": [],
   "source": [
    "neighbor_plot_path = plot_path / 'neighborhoods'\n",
    "neighbor_plot_path.mkdir(exist_ok=True)\n",
    "\n",
    "for name in tqdm(neighbor_plot_path.rglob('*.png')):\n",
    "    name.unlink()\n",
    "\n",
    "for n, hood in enumerate(tqdm(neighborhoods)):\n",
    "    fig = plot_hr_cmd(parent.stars, neighborhood_node_stars,\n",
    "                      idx0=hood[0], other_idx=hood[1:])\n",
    "    fig.tight_layout()\n",
    "    fig.savefig(neighbor_plot_path / f'neighborhood-{conf.max_neighborhood_size}-{n:03d}.png', dpi=200)\n",
    "    plt.close(fig)"
   ]
  },
  {
   "cell_type": "markdown",
   "metadata": {},
   "source": [
    "### Apply to the full parent sample"
   ]
  },
  {
   "cell_type": "code",
   "execution_count": null,
   "metadata": {},
   "outputs": [],
   "source": [
    "tmp = parent.mask_spec_pixels(global_spec_mask)\n",
    "parent_X = tmp.get_neighborhood_X(conf.neighborhood_color_names)"
   ]
  },
  {
   "cell_type": "code",
   "execution_count": null,
   "metadata": {},
   "outputs": [],
   "source": [
    "parent_projected_X = np.zeros((parent_X.shape[0], node_projected_X.shape[1]),\n",
    "                               dtype=np.float32)\n",
    "\n",
    "vals = np.linspace(0, parent_X.shape[0], 32).astype(int)\n",
    "for i1, i2 in zip(vals[:-1], vals[1:]):\n",
    "    if i2 >= parent_X.shape[0]-1:\n",
    "        i2 = parent_X.shape[0]\n",
    "        \n",
    "    parent_projected_X[i1:i2] = pca.transform(parent_X[i1:i2])\n",
    "    parent_projected_X[i1:i2] /= pca.singular_values_\n",
    "\n",
    "# Remove sources that we don't want to appear in the train/test neighborhoods:\n",
    "# TODO: this should probably *also* be a configurable thing...\n",
    "parent_projected_X[\n",
    "    (parent.stars['N_COMPONENTS'] != 1) |\n",
    "    (parent.stars['ruwe'] > 1.4) |  # MAGIC NUMBER\n",
    "    (parent.stars['SNR'] < 80)] = np.inf"
   ]
  },
  {
   "cell_type": "code",
   "execution_count": null,
   "metadata": {},
   "outputs": [],
   "source": [
    "parent_tree = cKDTree(parent_projected_X)"
   ]
  },
  {
   "cell_type": "code",
   "execution_count": null,
   "metadata": {},
   "outputs": [],
   "source": [
    "zone_idx = []\n",
    "for i, nidx in enumerate(tqdm(neighborhoods)):\n",
    "    dist, idx = parent_tree.query(node_projected_X[nidx[0]],\n",
    "                                  k=conf.max_neighborhood_size)\n",
    "    zone_idx.append(idx[dist.argsort()])"
   ]
  },
  {
   "cell_type": "code",
   "execution_count": null,
   "metadata": {},
   "outputs": [],
   "source": [
    "# for n in trange(len(zone_idx)):\n",
    "#     fig = plot_hr_cmd(parent_data.stars, parent_data.stars,\n",
    "#                       idx0=zone_idx[n][0], other_idx=zone_idx[n][1:])\n",
    "    \n",
    "#     fig.tight_layout()\n",
    "#     fig.savefig(neighbor_plot_path / f'parent-neighborhood-{neighborhood_size}-{n:03d}.png', dpi=200)\n",
    "#     plt.close(fig)"
   ]
  },
  {
   "cell_type": "code",
   "execution_count": null,
   "metadata": {},
   "outputs": [],
   "source": [
    "for size in 2**np.arange(13, 15+1):\n",
    "    all_indices = []\n",
    "    for n in range(len(zone_idx)):\n",
    "        all_indices.append(zone_idx[n][:size])\n",
    "    tmp = np.unique(np.ravel(all_indices)).shape[0] / parent_projected_X.shape[0]\n",
    "    print(f\"{tmp*100:.1f}% of stars end up in a neighborhood of size {size}\")"
   ]
  },
  {
   "cell_type": "code",
   "execution_count": null,
   "metadata": {},
   "outputs": [],
   "source": [
    "len(parent), parent_projected_X.shape"
   ]
  },
  {
   "cell_type": "code",
   "execution_count": null,
   "metadata": {},
   "outputs": [],
   "source": [
    "filename = conf.output_path / f'good_parent_neighborhood_indices.npy'\n",
    "np.save(filename, np.array(all_indices))"
   ]
  },
  {
   "cell_type": "code",
   "execution_count": null,
   "metadata": {},
   "outputs": [],
   "source": []
  }
 ],
 "metadata": {
  "kernelspec": {
   "display_name": "adrian conda base",
   "language": "python",
   "name": "conda-base"
  },
  "language_info": {
   "codemirror_mode": {
    "name": "ipython",
    "version": 3
   },
   "file_extension": ".py",
   "mimetype": "text/x-python",
   "name": "python",
   "nbconvert_exporter": "python",
   "pygments_lexer": "ipython3",
   "version": "3.7.3"
  },
  "toc": {
   "base_numbering": 1,
   "nav_menu": {},
   "number_sections": true,
   "sideBar": true,
   "skip_h1_title": false,
   "title_cell": "Table of Contents",
   "title_sidebar": "Contents",
   "toc_cell": false,
   "toc_position": {},
   "toc_section_display": true,
   "toc_window_display": false
  }
 },
 "nbformat": 4,
 "nbformat_minor": 4
}
