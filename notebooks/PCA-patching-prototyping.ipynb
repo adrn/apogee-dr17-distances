{
 "cells": [
  {
   "cell_type": "code",
   "execution_count": null,
   "metadata": {},
   "outputs": [],
   "source": [
    "import os\n",
    "os.environ['APOGEE_CACHE_PATH'] = \"/mnt/ceph/users/apricewhelan/apogee-test/\"\n",
    "os.environ['JOAQUIN_CACHE_PATH'] = \"/mnt/ceph/users/apricewhelan/projects/joaquin/cache\"\n",
    "import warnings\n",
    "warnings.filterwarnings('ignore', category=Warning) \n",
    "import pickle\n",
    "\n",
    "import sys\n",
    "import pathlib\n",
    "_path = str(pathlib.Path('../').resolve())\n",
    "if _path not in sys.path:\n",
    "    sys.path.append(_path)\n",
    "\n",
    "import corner\n",
    "from astropy.io import fits\n",
    "import astropy.coordinates as coord\n",
    "import astropy.table as at\n",
    "import astropy.units as u\n",
    "import matplotlib as mpl\n",
    "import matplotlib.pyplot as plt\n",
    "%matplotlib inline\n",
    "import numpy as np\n",
    "from tqdm.auto import tqdm\n",
    "from sklearn.decomposition import PCA\n",
    "from scipy.spatial import cKDTree\n",
    "\n",
    "from joaquin.data import JoaquinData\n",
    "from joaquin.config import root_cache_path, zone1_K, zone2_K\n",
    "from joaquin.plot import simple_corner\n",
    "from joaquin.neighborhoods import get_neighborhood_X"
   ]
  },
  {
   "cell_type": "markdown",
   "metadata": {},
   "source": [
    "See: `PCA-neighbord-training.ipynb` and `PCA-neighbord-apply.ipynb`"
   ]
  },
  {
   "cell_type": "code",
   "execution_count": null,
   "metadata": {},
   "outputs": [],
   "source": [
    "parent_projected_X = np.load(\n",
    "    root_cache_path / 'parent_projected_X.npy')\n",
    "\n",
    "zones_X = np.load(\n",
    "    root_cache_path / 'neighborhoods_projected_X.npy')\n",
    "\n",
    "spec_good_mask = np.load(root_cache_path / 'spec_good_mask.npy')"
   ]
  },
  {
   "cell_type": "code",
   "execution_count": null,
   "metadata": {},
   "outputs": [],
   "source": [
    "parent_data = JoaquinData(\n",
    "    cache_file='parent-sample')\n",
    "parent_stars = parent_data.stars[parent_data.stars_mask]"
   ]
  },
  {
   "cell_type": "code",
   "execution_count": null,
   "metadata": {},
   "outputs": [],
   "source": [
    "(X, *_), *_ = parent_data.get_Xy('spec', spec_mask_thresh=None)"
   ]
  },
  {
   "cell_type": "code",
   "execution_count": null,
   "metadata": {},
   "outputs": [],
   "source": [
    "tree = cKDTree(parent_projected_X)\n",
    "\n",
    "zone2_idx = []\n",
    "for i in range(zones_X.shape[0]):\n",
    "    dist, idx = tree.query(zones_X[i], k=zone2_K)\n",
    "    zone2_idx.append(idx[dist.argsort()])\n",
    "    \n",
    "zone1_idx = [x[:zone1_K] for x in zone2_idx]\n",
    "\n",
    "zone1_idx = np.array(zone1_idx)\n",
    "zone2_idx = np.array(zone2_idx)"
   ]
  },
  {
   "cell_type": "code",
   "execution_count": null,
   "metadata": {},
   "outputs": [],
   "source": [
    "for idx in zone2_idx:\n",
    "    pca = PCA(n_components=8)\n",
    "    subX = X[idx].copy()\n",
    "    subX[:, ~spec_good_mask] = 0.\n",
    "    \n",
    "    subX_pca = pca.fit_transform(subX)\n",
    "    subX_patched = pca.inverse_transform(subX_pca)\n",
    "    \n",
    "    break"
   ]
  },
  {
   "cell_type": "code",
   "execution_count": null,
   "metadata": {},
   "outputs": [],
   "source": [
    "plt.plot(np.std(subX, axis=0))"
   ]
  },
  {
   "cell_type": "code",
   "execution_count": null,
   "metadata": {},
   "outputs": [],
   "source": []
  },
  {
   "cell_type": "code",
   "execution_count": null,
   "metadata": {},
   "outputs": [],
   "source": []
  }
 ],
 "metadata": {
  "kernelspec": {
   "display_name": "adrian conda base",
   "language": "python",
   "name": "conda-base"
  },
  "language_info": {
   "codemirror_mode": {
    "name": "ipython",
    "version": 3
   },
   "file_extension": ".py",
   "mimetype": "text/x-python",
   "name": "python",
   "nbconvert_exporter": "python",
   "pygments_lexer": "ipython3",
   "version": "3.7.3"
  }
 },
 "nbformat": 4,
 "nbformat_minor": 4
}
