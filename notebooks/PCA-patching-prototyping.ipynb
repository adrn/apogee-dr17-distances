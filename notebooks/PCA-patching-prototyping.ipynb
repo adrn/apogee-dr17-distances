{
 "cells": [
  {
   "cell_type": "markdown",
   "metadata": {},
   "source": [
    "TODO: \n",
    "- Cross-validate on L2_ivar and training size\n",
    "    - Cross-validate on likelihood evaluated on held-out data\n",
    "    - Make a 3 (neighborhood size) by 7 (L2_ivar)\n",
    "- Check parallax zeropoint: reverse sign and make sure we do worse"
   ]
  },
  {
   "cell_type": "code",
   "execution_count": null,
   "metadata": {},
   "outputs": [],
   "source": [
    "import os\n",
    "os.environ['APOGEE_CACHE_PATH'] = \"/mnt/ceph/users/apricewhelan/apogee/\"\n",
    "os.environ['JOAQUIN_CACHE_PATH'] = \"/mnt/ceph/users/apricewhelan/projects/joaquin/cache\"\n",
    "import warnings\n",
    "warnings.filterwarnings('ignore', category=Warning) \n",
    "import pickle\n",
    "\n",
    "import sys\n",
    "import pathlib\n",
    "_path = str(pathlib.Path('../').resolve())\n",
    "if _path not in sys.path:\n",
    "    sys.path.append(_path)\n",
    "\n",
    "import corner\n",
    "from astropy.io import fits\n",
    "import astropy.coordinates as coord\n",
    "import astropy.table as at\n",
    "import astropy.units as u\n",
    "import matplotlib as mpl\n",
    "import matplotlib.pyplot as plt\n",
    "%matplotlib inline\n",
    "import numpy as np\n",
    "from tqdm.auto import tqdm, trange\n",
    "from sklearn.decomposition import PCA\n",
    "from scipy.spatial import cKDTree\n",
    "from scipy.stats import binned_statistic_2d\n",
    "\n",
    "from joaquin import Joaquin\n",
    "from joaquin.data import JoaquinData\n",
    "from joaquin.config import (dr, root_cache_path, \n",
    "                            max_neighborhood_size, block_size)\n",
    "from joaquin.plot import simple_corner"
   ]
  },
  {
   "cell_type": "code",
   "execution_count": null,
   "metadata": {},
   "outputs": [],
   "source": [
    "cache_path = pathlib.Path(f'../cache/{dr}').resolve()\n",
    "cache_path.mkdir(exist_ok=True, parents=True)\n",
    "\n",
    "plot_path = pathlib.Path('../plot') / dr\n",
    "plot_path = plot_path.resolve()\n",
    "plot_path.mkdir(parents=True, exist_ok=True)"
   ]
  },
  {
   "cell_type": "markdown",
   "metadata": {},
   "source": [
    "See the first two notebooks (1- and 2-) to set up the necessary files..."
   ]
  },
  {
   "cell_type": "code",
   "execution_count": null,
   "metadata": {},
   "outputs": [],
   "source": [
    "parent_data = JoaquinData.read('parent-sample')\n",
    "parent_data = parent_data[np.all(np.isfinite(parent_data.X), axis=1)]\n",
    "\n",
    "global_spec_mask = np.load(cache_path / 'global_spec_bad_mask.npy')"
   ]
  },
  {
   "cell_type": "code",
   "execution_count": null,
   "metadata": {},
   "outputs": [],
   "source": [
    "filename = cache_path / f'good_parent_neighborhood_indices-{max_neighborhood_size}.npy'\n",
    "neighborhood_idx = np.load(filename)"
   ]
  },
  {
   "cell_type": "code",
   "execution_count": null,
   "metadata": {},
   "outputs": [],
   "source": [
    "# parent_stars = parent_data.stars[parent_data.stars_mask]\n",
    "# parent_d, *_ = parent_data.get_Xy(spec_mask_thresh=1.)  # disable spec mask\n",
    "# assert len(parent_stars) == parent_d['X'].shape[0]"
   ]
  },
  {
   "cell_type": "markdown",
   "metadata": {},
   "source": [
    "## PCA patching"
   ]
  },
  {
   "cell_type": "code",
   "execution_count": null,
   "metadata": {},
   "outputs": [],
   "source": [
    "for idx in neighborhood_idx[190:]:  # RGB, above the clump\n",
    "# for idx in neighborhood_idx[192:]:  # MSTO\n",
    "    data = parent_data[idx]\n",
    "    \n",
    "    spec_bad_mask = (data.spec_bad_masks.sum(axis=0) / len(data.stars)) > 0.25\n",
    "    patched_data = data.patch_spec()\n",
    "    patched_data.spec_bad_masks = None\n",
    "    patched_data = patched_data.mask_spec_pixels(spec_bad_mask)\n",
    "    break"
   ]
  },
  {
   "cell_type": "code",
   "execution_count": null,
   "metadata": {},
   "outputs": [],
   "source": [
    "fig, axes = plt.subplots(1, 2, figsize=(11, 5), \n",
    "                         sharex=True, \n",
    "                         constrained_layout=True)\n",
    "\n",
    "axes[0].scatter(data.stars['TEFF'][0],\n",
    "                data.stars['LOGG'][0],\n",
    "                s=6, color='tab:green', zorder=100)\n",
    "\n",
    "stat = binned_statistic_2d(\n",
    "    data.stars['TEFF'],\n",
    "    data.stars['LOGG'], \n",
    "    np.arange(len(data.stars)),\n",
    "    bins=(np.linspace(3000, 8500, 256),\n",
    "          np.linspace(-0.5, 5.5, 256)))\n",
    "axes[0].pcolormesh(stat.x_edge, stat.y_edge, stat.statistic.T)\n",
    "\n",
    "axes[0].set_xlim(stat.x_edge.max(), stat.x_edge.min())\n",
    "axes[0].set_ylim(stat.y_edge.max(), stat.y_edge.min())\n",
    "\n",
    "axes[0].set_xlabel('TEFF')\n",
    "axes[0].set_ylabel('LOGG')\n",
    "\n",
    "# ----\n",
    "\n",
    "axes[1].scatter(data.stars['TEFF'][0],\n",
    "                data.stars['M_H'][0],\n",
    "                s=6, color='tab:green', zorder=100)\n",
    "\n",
    "stat = binned_statistic_2d(\n",
    "    data.stars['TEFF'],\n",
    "    data.stars['M_H'], \n",
    "    np.arange(len(data.stars)),\n",
    "    bins=(np.linspace(3000, 8500, 256),\n",
    "          np.linspace(-2.5, 0.6, 256)))\n",
    "axes[1].pcolormesh(stat.x_edge, stat.y_edge, stat.statistic.T)\n",
    "\n",
    "axes[1].set_ylim(-2.5, 0.5)\n",
    "\n",
    "axes[1].set_xlabel('TEFF')\n",
    "axes[1].set_ylabel('M_H')\n",
    "\n",
    "# cb = fig.colorbar(cs, ax=axes, aspect=40)"
   ]
  },
  {
   "cell_type": "code",
   "execution_count": null,
   "metadata": {},
   "outputs": [],
   "source": [
    "tmp, _ = data.get_X('spec')\n",
    "npix_fixed = (tmp[:, ~global_spec_mask] == 0).sum()\n",
    "\n",
    "tmp_patched, _ = patched_data.get_X('spec')\n",
    "assert (tmp_patched == 0).sum() == 0\n",
    "\n",
    "print(f\"{npix_fixed} pixels patched, ~{npix_fixed/tmp.shape[0]:.0f} pixels patched per star\")"
   ]
  },
  {
   "cell_type": "markdown",
   "metadata": {},
   "source": [
    "TODO: could make 2d images showing before/after patching. Turn masked pixels into hot pixels so they are very obvious in the before pics."
   ]
  },
  {
   "cell_type": "markdown",
   "metadata": {},
   "source": [
    "## Low-pass filter"
   ]
  },
  {
   "cell_type": "code",
   "execution_count": null,
   "metadata": {},
   "outputs": [],
   "source": [
    "lowpass_data = patched_data.lowpass_filter_spec()"
   ]
  },
  {
   "cell_type": "code",
   "execution_count": null,
   "metadata": {},
   "outputs": [],
   "source": [
    "tmp_data = lowpass_data[lowpass_data.stars['SNR'] > 300]\n",
    "tmp, _ = tmp_data.get_X('spec')\n",
    "\n",
    "# dist = coord.Distance(parallax=tmp_data.stars['GAIAEDR3_PARALLAX']*u.mas, allow_negative=True)\n",
    "# MG = tmp_data.stars['GAIAEDR3_PHOT_G_MEAN_MAG'] - dist.distmod.value\n",
    "\n",
    "fig, ax = plt.subplots(figsize=(10, 10 * tmp.shape[0] / tmp.shape[1]))\n",
    "\n",
    "diff = tmp[tmp_data.stars['LOGG'].argsort()] - np.median(tmp, axis=0)\n",
    "ax.imshow(diff, origin='lower', \n",
    "          vmin=np.percentile(diff.ravel(), 1),\n",
    "          vmax=np.percentile(diff.ravel(), 99),\n",
    "          cmap='RdBu')\n",
    "\n",
    "ax.set_xticks([])\n",
    "ax.set_yticks([])\n",
    "\n",
    "ax.set_xlabel('wavelength')\n",
    "ax.set_ylabel('spectra - mean, ordered by LOGG')\n",
    "\n",
    "fig.tight_layout()"
   ]
  },
  {
   "cell_type": "markdown",
   "metadata": {},
   "source": [
    "TODO: make some before/after 1D plots showing that the low-pass filter is actually doing something. show full spectrum and zoomed window, before/after."
   ]
  },
  {
   "cell_type": "code",
   "execution_count": null,
   "metadata": {},
   "outputs": [],
   "source": [
    "# for lim in [False, 'zoom', 'zoomer']:\n",
    "#     plt.figure(figsize=(16, 5))\n",
    "#     plt.plot(parent_data._X_wvln, subX[i], marker='', drawstyle='steps-mid')\n",
    "#     plt.plot(parent_data._X_wvln, subX_patched[i], marker='', drawstyle='steps-mid')\n",
    "#     plt.plot(parent_data._X_wvln, new_ln_flux, marker='', drawstyle='steps-mid')\n",
    "#     if lim == 'zoom':\n",
    "#         plt.xlim(16000, 16500)\n",
    "#     elif lim == 'zoomer':\n",
    "#         plt.xlim(16150, 16220)"
   ]
  },
  {
   "cell_type": "markdown",
   "metadata": {},
   "source": [
    "## Now try running the rest of the pipeline"
   ]
  },
  {
   "cell_type": "markdown",
   "metadata": {},
   "source": [
    "Training sample is the full neighborhood, with some parallax and S/N cuts:\n",
    "\n",
    "TODO: also crossvalidate on block_size??"
   ]
  },
  {
   "cell_type": "code",
   "execution_count": null,
   "metadata": {},
   "outputs": [],
   "source": [
    "block_size = 4096"
   ]
  },
  {
   "cell_type": "code",
   "execution_count": null,
   "metadata": {},
   "outputs": [],
   "source": [
    "# masked_data = lowpass_data.mask_spec_pixels()\n",
    "\n",
    "# Subselect to stars that we want in train/test sets:\n",
    "masked_data = lowpass_data"
   ]
  },
  {
   "cell_type": "code",
   "execution_count": null,
   "metadata": {},
   "outputs": [],
   "source": [
    "# All MAGIC NUMBERs\n",
    "train_mask = (masked_data.stars['GAIAEDR3_PARALLAX_ERROR'] < 0.1)\n",
    "\n",
    "train_mask.sum(), len(train_mask)"
   ]
  },
  {
   "cell_type": "code",
   "execution_count": null,
   "metadata": {},
   "outputs": [],
   "source": [
    "# from joaquin.crossval import get_Kfold_indices\n",
    "\n",
    "def get_Kfold_indices(K, train_mask, block_size, rng=None):\n",
    "\n",
    "    if rng is None:\n",
    "        rng = np.random.default_rng()\n",
    "    \n",
    "    if train_mask.dtype is np.dtype(bool):\n",
    "        train_idx = np.argwhere(train_mask).ravel()\n",
    "    else:\n",
    "        train_idx = train_mask\n",
    "    \n",
    "    assert block_size < len(train_mask)\n",
    "    \n",
    "    # Now split into block and zone 2 stars: the K-fold will \n",
    "    # only happen on the block stars, and the zone 2 stars \n",
    "    # will be appended to all blocks\n",
    "    block_idx = train_idx[:block_size].copy()\n",
    "    rng.shuffle(block_idx)\n",
    "    \n",
    "    zone2_idx = train_idx[block_size:]\n",
    "\n",
    "    batch_size = block_size // K\n",
    "    train_batches = []\n",
    "    test_batches = []\n",
    "    for k in range(K):\n",
    "        if k == K-1:\n",
    "            test_batch = block_idx[k*batch_size:]\n",
    "        else:\n",
    "            test_batch = block_idx[k*batch_size:(k+1)*batch_size]\n",
    "\n",
    "        train_batch = np.concatenate((block_idx[~np.isin(block_idx, test_batch)],\n",
    "                                      zone2_idx))\n",
    "            \n",
    "        test_batches.append(test_batch)\n",
    "        train_batches.append(train_batch)\n",
    "    \n",
    "    assert np.all(np.array([len(train_batches[i]) + len(test_batches[i])\n",
    "                            for i in range(len(train_batches))]) == len(train_idx))\n",
    "\n",
    "    return train_batches, test_batches"
   ]
  },
  {
   "cell_type": "code",
   "execution_count": null,
   "metadata": {},
   "outputs": [],
   "source": [
    "rng = np.random.default_rng(seed=42)\n",
    "train_idxs, test_idxs = get_Kfold_indices(K=8, train_mask=train_mask, block_size=4096, \n",
    "                                          rng=rng)"
   ]
  },
  {
   "cell_type": "code",
   "execution_count": null,
   "metadata": {},
   "outputs": [],
   "source": [
    "j = 0\n",
    "\n",
    "marker_style = dict(marker='o', mew=0, ls='none', ms=1.5, alpha=0.5)\n",
    "\n",
    "fig, axes = plt.subplots(1, 2, figsize=(11, 5), \n",
    "                         sharex=True, \n",
    "                         constrained_layout=True)\n",
    "\n",
    "axes[0].scatter(data.stars['TEFF'][0],\n",
    "                data.stars['LOGG'][0],\n",
    "                s=6, color='tab:red', zorder=100)\n",
    "axes[0].plot(masked_data.stars['TEFF'][train_idxs[j]],\n",
    "             masked_data.stars['LOGG'][train_idxs[j]],\n",
    "             color='tab:blue', **marker_style)\n",
    "axes[0].plot(masked_data.stars['TEFF'][test_idxs[j]],\n",
    "             masked_data.stars['LOGG'][test_idxs[j]],\n",
    "             color='tab:orange', **marker_style)\n",
    "\n",
    "axes[0].set_xlim(8500, 3000)\n",
    "axes[0].set_ylim(5.5, -0.5)\n",
    "\n",
    "axes[0].set_xlabel('TEFF')\n",
    "axes[0].set_ylabel('LOGG')\n",
    "\n",
    "# ----\n",
    "\n",
    "# axes[1].scatter(data.stars['TEFF'][0],\n",
    "#                 data.stars['M_H'][0],\n",
    "#                 s=6, color='tab:green', zorder=100)\n",
    "\n",
    "# stat = binned_statistic_2d(\n",
    "#     data.stars['TEFF'],\n",
    "#     data.stars['M_H'], \n",
    "#     np.arange(len(data.stars)),\n",
    "#     bins=(np.linspace(3000, 8500, 256),\n",
    "#           np.linspace(-2.5, 0.6, 256)))\n",
    "# axes[1].pcolormesh(stat.x_edge, stat.y_edge, stat.statistic.T)\n",
    "\n",
    "# axes[1].set_ylim(-2.5, 0.5)\n",
    "\n",
    "# axes[1].set_xlabel('TEFF')\n",
    "# axes[1].set_ylabel('M_H')\n",
    "\n",
    "# # cb = fig.colorbar(cs, ax=axes, aspect=40)"
   ]
  },
  {
   "cell_type": "code",
   "execution_count": null,
   "metadata": {},
   "outputs": [],
   "source": [
    "phot_names = [\n",
    "    'phot_g_mean_mag', \n",
    "    'phot_bp_mean_mag',\n",
    "    'phot_rp_mean_mag', \n",
    "    'J', 'H', 'K', \n",
    "    'w1mpro', 'w2mpro'\n",
    "]"
   ]
  },
  {
   "cell_type": "code",
   "execution_count": null,
   "metadata": {},
   "outputs": [],
   "source": [
    "k = 0\n",
    "\n",
    "train_idx = train_idxs[k]\n",
    "test_idx = test_idxs[k]\n",
    "\n",
    "test_block = masked_data[test_idx]\n",
    "test_X, _ = test_block.get_X(phot_names=phot_names)\n",
    "test_y = test_block.stars['GAIAEDR3_PARALLAX']\n",
    "test_y_ivar = 1 / test_block.stars['GAIAEDR3_PARALLAX_ERROR'] ** 2\n",
    "\n",
    "train_block = masked_data[train_idx]\n",
    "train_X, idx_map = train_block.get_X(phot_names=phot_names)\n",
    "train_y = train_block.stars['GAIAEDR3_PARALLAX']\n",
    "train_y_ivar = 1 / train_block.stars['GAIAEDR3_PARALLAX_ERROR'] ** 2"
   ]
  },
  {
   "cell_type": "code",
   "execution_count": null,
   "metadata": {},
   "outputs": [],
   "source": [
    "train_X.shape, test_X.shape"
   ]
  },
  {
   "cell_type": "code",
   "execution_count": null,
   "metadata": {},
   "outputs": [],
   "source": [
    "# plt.figure(figsize=(10, 10))\n",
    "# plt.imshow(train_X, vmin=-0.5, vmax=0.5)\n",
    "# # plt.xlim(1000, 2000)"
   ]
  },
  {
   "cell_type": "code",
   "execution_count": null,
   "metadata": {},
   "outputs": [],
   "source": [
    "_ = simple_corner(train_X[:, idx_map['phot']])"
   ]
  },
  {
   "cell_type": "code",
   "execution_count": null,
   "metadata": {},
   "outputs": [],
   "source": [
    "_ = simple_corner(train_X[:, idx_map['lsf']])"
   ]
  },
  {
   "cell_type": "code",
   "execution_count": null,
   "metadata": {},
   "outputs": [],
   "source": [
    "bins = np.linspace(-0.5, train_y.max(), 256)\n",
    "\n",
    "plt.hist(train_y, bins=bins);\n",
    "\n",
    "plt.hist(test_block.stars['GAIAEDR3_PARALLAX'], \n",
    "         bins=bins);\n",
    "\n",
    "plt.yscale('log')"
   ]
  },
  {
   "cell_type": "code",
   "execution_count": null,
   "metadata": {},
   "outputs": [],
   "source": [
    "L2_ivar_vals = 10 ** np.arange(0., 5+1, 0.5)\n",
    "\n",
    "train_lls = np.full_like(L2_ivar_vals, np.nan)\n",
    "test_lls = np.full_like(L2_ivar_vals, np.nan)\n",
    "for i, val in enumerate(L2_ivar_vals):\n",
    "    frozen = {'L2_ivar': val, \n",
    "              'parallax_zpt': -0.03}  # MAGIC NUMBERs\n",
    "\n",
    "    joa = Joaquin(\n",
    "        train_X, \n",
    "        train_y,\n",
    "        train_y_ivar, \n",
    "        idx_map, \n",
    "        frozen=frozen)\n",
    "    \n",
    "    test_joa = Joaquin(\n",
    "        test_X, \n",
    "        test_y,\n",
    "        test_y_ivar,\n",
    "        idx_map, \n",
    "        frozen=frozen)\n",
    "    \n",
    "    init_beta = joa.init_beta()\n",
    "    \n",
    "    test_lls[i] = test_joa.ln_likelihood(beta=init_beta, **frozen)[0]\n",
    "    train_lls[i] = joa.ln_likelihood(beta=init_beta, **frozen)[0]\n",
    "    \n",
    "    print(f\"ivar={val:.2f} \\t stddev={1/np.sqrt(val):.3f} \\t \"\n",
    "          f\"train_ll={train_lls[i]:.0f} \\t test_ll={test_lls[i]:.0f}\")"
   ]
  },
  {
   "cell_type": "code",
   "execution_count": null,
   "metadata": {},
   "outputs": [],
   "source": [
    "print(f\"Best L2 stddev: {1 / np.sqrt(L2_ivar_vals[test_lls.argmax()]):.2f}\")\n",
    "\n",
    "# TODO: decide whether to use train or test loglikelihoods here!\n",
    "frozen = {'L2_ivar': L2_ivar_vals[test_lls.argmax()],\n",
    "          'parallax_zpt': -0.03}  # MAGIC NUMBERs\n",
    "\n",
    "# Free zpt\n",
    "# frozen = {'L2_ivar': L2_ivar_vals[train_lls.argmax()]}\n",
    "\n",
    "joa = Joaquin(\n",
    "    train_X, \n",
    "    train_y, \n",
    "    train_y_ivar, \n",
    "    idx_map, \n",
    "    frozen=frozen)\n",
    "\n",
    "test_joa = Joaquin(\n",
    "    test_X, \n",
    "    test_y,\n",
    "    test_y_ivar,\n",
    "    idx_map, \n",
    "    frozen=frozen)"
   ]
  },
  {
   "cell_type": "code",
   "execution_count": null,
   "metadata": {},
   "outputs": [],
   "source": [
    "init = joa.init(parallax_zpt=frozen.get('parallax_zpt', -0.03), \n",
    "                pack=False)\n",
    "res = joa.optimize(init=init, \n",
    "                   options={'maxiter': 128})"
   ]
  },
  {
   "cell_type": "code",
   "execution_count": null,
   "metadata": {},
   "outputs": [],
   "source": [
    "res"
   ]
  },
  {
   "cell_type": "code",
   "execution_count": null,
   "metadata": {},
   "outputs": [],
   "source": [
    "fit_pars = joa.unpack_pars(res.x)"
   ]
  },
  {
   "cell_type": "code",
   "execution_count": null,
   "metadata": {},
   "outputs": [],
   "source": [
    "fig, axes = plt.subplots(3, 1, figsize=(15, 8))\n",
    "\n",
    "for ax in axes[:2]:\n",
    "    ax.plot(init['beta'])\n",
    "    ax.plot(fit_pars['beta'])\n",
    "    \n",
    "axes[2].plot(fit_pars['beta'] - init['beta'])\n",
    "    \n",
    "axes[0].set_xlim(0, len(init_beta))\n",
    "axes[1].set_xlim(1000, 2000)\n",
    "axes[2].set_xlim(0, len(init_beta))\n",
    "fig.tight_layout()"
   ]
  },
  {
   "cell_type": "code",
   "execution_count": null,
   "metadata": {},
   "outputs": [],
   "source": [
    "# pred_plx = joa.model_y(train_X, **fit_pars)  # np.exp(np.dot(X, fit_pars['beta'])) - fit_pars['parallax_zpt']\n",
    "# chi = (pred_plx - train_y) * np.sqrt(train_y_ivar)\n",
    "\n",
    "# test_pred_plx = joa.model_y(test_X, **fit_pars)  # np.exp(np.dot(test_X, fit_pars['beta'])) - fit_pars['parallax_zpt']\n",
    "# test_chi = (test_pred_plx - test_y) * np.sqrt(test_y_ivar)\n",
    "\n",
    "chi = joa.chi(**fit_pars)\n",
    "test_chi = test_joa.chi(**fit_pars)\n",
    "\n",
    "pred_plx = joa.model_y(train_X, **fit_pars)\n",
    "test_pred_plx = joa.model_y(test_X, **fit_pars)"
   ]
  },
  {
   "cell_type": "code",
   "execution_count": null,
   "metadata": {},
   "outputs": [],
   "source": [
    "# c = masked_data.stars['ruwe'][train_mask]\n",
    "c = None\n",
    "\n",
    "fig, axes = plt.subplots(1, 2, figsize=(10, 5))\n",
    "\n",
    "ax = axes[0]\n",
    "ax.scatter(train_y + fit_pars['parallax_zpt'],\n",
    "           pred_plx,\n",
    "           c=c,\n",
    "           marker='o', s=4, alpha=0.75)\n",
    "ax.set_xlim(-0.5, train_y.max())\n",
    "ax.set_ylim(ax.get_xlim())\n",
    "ax.set_xlabel('Gaia plx')\n",
    "ax.set_ylabel('Joaquin plx')\n",
    "\n",
    "_grid = np.linspace(-0.5, train_y.max(), 10)\n",
    "ax.plot(_grid, _grid, marker='', \n",
    "        zorder=-10, color='yellow')\n",
    "\n",
    "ax = axes[1]\n",
    "ax.plot(train_y,\n",
    "        chi,\n",
    "        marker='o', ls='none', mew=0, ms=1.5, alpha=0.75)\n",
    "ax.set_xlim(-0.5, train_y.max())\n",
    "ax.set_ylim(-8, 8)\n",
    "ax.set_xlabel('Gaia plx')\n",
    "ax.set_ylabel(r'$\\chi$')\n",
    "\n",
    "fig.tight_layout()"
   ]
  },
  {
   "cell_type": "code",
   "execution_count": null,
   "metadata": {},
   "outputs": [],
   "source": [
    "fig, axes = plt.subplots(1, 2, figsize=(10, 5))\n",
    "\n",
    "ax = axes[0]\n",
    "ax.plot(test_block.stars['GAIAEDR3_PARALLAX'] + fit_pars['parallax_zpt'],\n",
    "        test_pred_plx,\n",
    "        marker='o', ls='none', mew=0, ms=1.5, alpha=0.75)\n",
    "ax.set_xlim(-0.5, train_y.max())\n",
    "ax.set_ylim(ax.get_xlim())\n",
    "ax.set_xlabel('Gaia plx')\n",
    "ax.set_ylabel('Joaquin plx')\n",
    "\n",
    "_grid = np.linspace(-0.5, train_y.max(), 10)\n",
    "ax.plot(_grid, _grid, marker='', \n",
    "        zorder=-10, color='yellow')\n",
    "\n",
    "ax = axes[1]\n",
    "ax.plot(test_block.stars['GAIAEDR3_PARALLAX'],\n",
    "        test_chi,\n",
    "        marker='o', ls='none', mew=0, ms=1.5, alpha=0.75)\n",
    "ax.set_xlim(-0.5, train_y.max())\n",
    "ax.set_ylim(-8, 8)\n",
    "ax.set_xlabel('Gaia plx')\n",
    "ax.set_ylabel(r'$\\chi$')\n",
    "\n",
    "fig.tight_layout()"
   ]
  },
  {
   "cell_type": "code",
   "execution_count": null,
   "metadata": {},
   "outputs": [],
   "source": [
    "for ccc in [chi, test_chi]:\n",
    "    plt.figure()\n",
    "    plt.hist(ccc, bins=np.linspace(-5, 5, 64));\n",
    "    for x in np.percentile(ccc, [16, 84]):\n",
    "        plt.axvline(x, color='tab:blue')\n",
    "\n",
    "    plt.axvline(1, linestyle='--', color='#666666')\n",
    "    plt.axvline(-1, linestyle='--', color='#666666')"
   ]
  },
  {
   "cell_type": "code",
   "execution_count": null,
   "metadata": {},
   "outputs": [],
   "source": [
    "plt.figure()\n",
    "\n",
    "plx_check_mask = (\n",
    "    ((test_block.stars['GAIAEDR3_PARALLAX'] / test_block.stars['GAIAEDR3_PARALLAX_ERROR']) > 20) &\n",
    "    (test_block.stars['ruwe'] < 1.4)\n",
    ")\n",
    "diff = (test_block.stars['GAIAEDR3_PARALLAX'] + fit_pars['parallax_zpt'] - test_pred_plx) / test_pred_plx\n",
    "diff = diff[plx_check_mask]\n",
    "print(len(diff))\n",
    "\n",
    "plt.hist(diff, bins=np.linspace(-1, 1, 64));\n",
    "\n",
    "MAD = lambda x: np.median(np.abs(x - np.median(x)))\n",
    "plt.axvline(-1.5 * MAD(diff))\n",
    "plt.axvline(1.5 * MAD(diff))\n",
    "# plt.axvline(np.median(diff))\n",
    "\n",
    "print(1.5 * MAD(diff))\n",
    "\n",
    "# plt.figure()\n",
    "# plt.hist(np.log(test_block.stars['GAIAEDR3_PARALLAX']) - np.log(test_pred_plx),\n",
    "#          bins=np)"
   ]
  },
  {
   "cell_type": "code",
   "execution_count": null,
   "metadata": {},
   "outputs": [],
   "source": [
    "fig, axes = plt.subplots(1, 2, figsize=(10, 5))\n",
    "\n",
    "ax = axes[0]\n",
    "ax.plot(test_block.stars['GAIAEDR3_PARALLAX'][plx_check_mask] + fit_pars['parallax_zpt'],\n",
    "        test_pred_plx[plx_check_mask],\n",
    "        marker='o', ls='none', mew=0, ms=1.5, alpha=0.75)\n",
    "ax.set_xlim(-0.5, train_y.max())\n",
    "ax.set_ylim(ax.get_xlim())\n",
    "ax.set_xlabel('Gaia plx')\n",
    "ax.set_ylabel('Joaquin plx')\n",
    "\n",
    "_grid = np.linspace(-0.5, train_y.max(), 10)\n",
    "ax.plot(_grid, _grid, marker='', \n",
    "        zorder=-10, color='yellow')\n",
    "\n",
    "ax = axes[1]\n",
    "ax.plot(test_block.stars['GAIAEDR3_PARALLAX'][plx_check_mask],\n",
    "        test_chi[plx_check_mask],\n",
    "        marker='o', ls='none', mew=0, ms=1.5, alpha=0.75)\n",
    "ax.set_xlim(-0.5, train_y.max())\n",
    "ax.set_ylim(-8, 8)\n",
    "ax.set_xlabel('Gaia plx')\n",
    "ax.set_ylabel(r'$\\chi$')\n",
    "\n",
    "fig.tight_layout()"
   ]
  },
  {
   "cell_type": "markdown",
   "metadata": {},
   "source": [
    "# Full Pipeline"
   ]
  },
  {
   "cell_type": "code",
   "execution_count": null,
   "metadata": {},
   "outputs": [],
   "source": [
    "Kfold_K = 4\n",
    "block_size = 1024\n",
    "train_mask = np.argwhere(\n",
    "    masked_data.stars['GAIAEDR3_PARALLAX_ERROR'] < 0.1\n",
    ").ravel()\n",
    "L2_ivar_vals = 10 ** np.arange(0., 5+1, 0.5)\n",
    "train_sizes = np.array([4096, 8192, 16384, 32768])"
   ]
  },
  {
   "cell_type": "code",
   "execution_count": null,
   "metadata": {},
   "outputs": [],
   "source": [
    "rng = np.random.default_rng(seed=42)\n",
    "\n",
    "train_lls = np.full((len(train_sizes), Kfold_K, len(L2_ivar_vals)), \n",
    "                    np.nan)\n",
    "test_lls = np.full((len(train_sizes), Kfold_K, len(L2_ivar_vals)), \n",
    "                   np.nan)\n",
    "\n",
    "for i, train_size in enumerate(tqdm(train_sizes)):\n",
    "    train_idxs, test_idxs = get_Kfold_indices(\n",
    "        K=Kfold_K, \n",
    "        train_mask=train_mask[:train_size], \n",
    "        block_size=block_size, \n",
    "        rng=rng\n",
    "    )\n",
    "\n",
    "    for k in tqdm(np.arange(Kfold_K), leave=False):\n",
    "        train_idx = train_idxs[k]\n",
    "        test_idx = test_idxs[k]\n",
    "\n",
    "        test_block = masked_data[test_idx]\n",
    "        test_X, _ = test_block.get_X(phot_names=phot_names)\n",
    "        test_y = test_block.stars['GAIAEDR3_PARALLAX']\n",
    "        test_y_ivar = 1 / test_block.stars['GAIAEDR3_PARALLAX_ERROR'] ** 2\n",
    "\n",
    "        train_block = masked_data[train_idx]\n",
    "        train_X, idx_map = train_block.get_X(phot_names=phot_names)\n",
    "        train_y = train_block.stars['GAIAEDR3_PARALLAX']\n",
    "        train_y_ivar = 1 / train_block.stars['GAIAEDR3_PARALLAX_ERROR'] ** 2\n",
    "        \n",
    "        joa = Joaquin(\n",
    "            train_X, \n",
    "            train_y,\n",
    "            train_y_ivar, \n",
    "            idx_map)\n",
    "\n",
    "        test_joa = Joaquin(\n",
    "            test_X, \n",
    "            test_y,\n",
    "            test_y_ivar,\n",
    "            idx_map)\n",
    "        \n",
    "        for j, L2_ivar in enumerate(tqdm(L2_ivar_vals, leave=False)):\n",
    "            frozen = {'L2_ivar': L2_ivar, \n",
    "                      'parallax_zpt': -0.03}  # MAGIC NUMBERs\n",
    "\n",
    "            init_beta = joa.init_beta(**frozen)\n",
    "\n",
    "            test_lls[i, k, j] = test_joa.ln_likelihood(beta=init_beta, **frozen)[0]\n",
    "            train_lls[i, k, j] = joa.ln_likelihood(beta=init_beta, **frozen)[0]"
   ]
  },
  {
   "cell_type": "code",
   "execution_count": null,
   "metadata": {},
   "outputs": [],
   "source": [
    "train_ll = np.mean(train_lls, axis=1)\n",
    "test_ll = np.mean(test_lls, axis=1)"
   ]
  },
  {
   "cell_type": "code",
   "execution_count": null,
   "metadata": {},
   "outputs": [],
   "source": [
    "L2_ivar_vals_2d, train_sizes_2d = np.meshgrid(L2_ivar_vals, train_sizes)"
   ]
  },
  {
   "cell_type": "code",
   "execution_count": null,
   "metadata": {},
   "outputs": [],
   "source": [
    "fig, ax = plt.subplots(1, 1, figsize=(10, 3))\n",
    "ax.scatter(L2_ivar_vals_2d, train_sizes_2d, \n",
    "           c=test_ll, \n",
    "           vmin=np.percentile(test_ll, 25),\n",
    "           vmax=np.percentile(test_ll, 99.5),\n",
    "           marker='s', s=500)\n",
    "ax.set_xscale('log')\n",
    "ax.set_yscale('log', base=2)\n",
    "ax.set_xlabel('L2 ivar')\n",
    "ax.set_ylabel('train size')"
   ]
  },
  {
   "cell_type": "code",
   "execution_count": null,
   "metadata": {},
   "outputs": [],
   "source": [
    "# fig, ax = plt.subplots(1, 1, figsize=(10, 3))\n",
    "# ax.pcolormesh(L2_ivar_vals, train_sizes, test_ll, \n",
    "#               vmin=np.percentile(test_ll, 25),\n",
    "#               vmax=np.percentile(test_ll, 99.5),)\n",
    "# ax.set_xscale('log')\n",
    "# ax.set_xlabel('L2 ivar')\n",
    "# ax.set_ylabel('train size')"
   ]
  },
  {
   "cell_type": "code",
   "execution_count": null,
   "metadata": {},
   "outputs": [],
   "source": [
    "cross_val_L2_ivar = L2_ivar_vals_2d.ravel()[test_ll.argmax()]\n",
    "cross_val_train_size = train_sizes_2d.ravel()[test_ll.argmax()]\n",
    "print(cross_val_L2_ivar, cross_val_train_size)\n",
    "print(f\"Best L2 stddev: {1 / np.sqrt(cross_val_L2_ivar):.3f}\")"
   ]
  },
  {
   "cell_type": "code",
   "execution_count": null,
   "metadata": {},
   "outputs": [],
   "source": [
    "rng = np.random.default_rng(seed=42)\n",
    "train_idxs, test_idxs = get_Kfold_indices(\n",
    "    K=2, \n",
    "    train_mask=train_mask[:cross_val_train_size], \n",
    "    block_size=block_size, \n",
    "    rng=rng\n",
    ")\n",
    "\n",
    "frozen = {'L2_ivar': cross_val_L2_ivar,\n",
    "          'parallax_zpt': -0.03}  # MAGIC NUMBERs\n",
    "\n",
    "for k in tqdm(len(train_idxs)):\n",
    "    train_idx = train_idxs[k]\n",
    "    test_idx = test_idxs[k]\n",
    "\n",
    "    test_block = masked_data[test_idx]\n",
    "    test_X, _ = test_block.get_X(phot_names=phot_names)\n",
    "    test_y = test_block.stars['GAIAEDR3_PARALLAX']\n",
    "    test_y_ivar = 1 / test_block.stars['GAIAEDR3_PARALLAX_ERROR'] ** 2\n",
    "\n",
    "    train_block = masked_data[train_idx]\n",
    "    train_X, idx_map = train_block.get_X(phot_names=phot_names)\n",
    "    train_y = train_block.stars['GAIAEDR3_PARALLAX']\n",
    "    train_y_ivar = 1 / train_block.stars['GAIAEDR3_PARALLAX_ERROR'] ** 2\n",
    "\n",
    "    joa = Joaquin(\n",
    "        train_X, \n",
    "        train_y,\n",
    "        train_y_ivar, \n",
    "        idx_map,\n",
    "        frozen=frozen)\n",
    "\n",
    "    test_joa = Joaquin(\n",
    "        test_X, \n",
    "        test_y,\n",
    "        test_y_ivar,\n",
    "        idx_map, \n",
    "        frozen=frozen)\n",
    "    \n",
    "    init = joa.init(parallax_zpt=frozen.get('parallax_zpt', -0.03), \n",
    "                    pack=False)\n",
    "    res = joa.optimize(init=init, \n",
    "                       options={'maxiter': 128})\n",
    "    \n",
    "    break"
   ]
  },
  {
   "cell_type": "code",
   "execution_count": null,
   "metadata": {},
   "outputs": [],
   "source": [
    "# block = masked_data[:block_size]\n",
    "block = masked_data[test_idxs[1]]\n",
    "block_X, idx_map = block.get_X(phot_names=phot_names)\n",
    "block_y = block.stars['GAIAEDR3_PARALLAX']\n",
    "block_y_ivar = 1 / block.stars['GAIAEDR3_PARALLAX_ERROR'] ** 2\n",
    "\n",
    "block_joa = Joaquin(\n",
    "    block_X, \n",
    "    block_y,\n",
    "    block_y_ivar, \n",
    "    idx_map,\n",
    "    frozen=frozen)"
   ]
  },
  {
   "cell_type": "code",
   "execution_count": null,
   "metadata": {},
   "outputs": [],
   "source": [
    "res"
   ]
  },
  {
   "cell_type": "code",
   "execution_count": null,
   "metadata": {},
   "outputs": [],
   "source": [
    "fit_pars = joa.unpack_pars(res.x)"
   ]
  },
  {
   "cell_type": "code",
   "execution_count": null,
   "metadata": {},
   "outputs": [],
   "source": [
    "fig, axes = plt.subplots(3, 1, figsize=(15, 8), sharey=True)\n",
    "\n",
    "for ax in axes[:2]:\n",
    "    ax.plot(init['beta'])\n",
    "    ax.plot(fit_pars['beta'])\n",
    "    \n",
    "axes[2].plot(fit_pars['beta'] - init['beta'])\n",
    "    \n",
    "axes[0].set_xlim(0, len(init_beta))\n",
    "axes[1].set_xlim(1000, 2000)\n",
    "axes[2].set_xlim(0, len(init_beta))\n",
    "axes[0].set_ylim(-5 / np.sqrt(cross_val_L2_ivar),\n",
    "                 5 / np.sqrt(cross_val_L2_ivar))\n",
    "fig.tight_layout()"
   ]
  },
  {
   "cell_type": "code",
   "execution_count": null,
   "metadata": {},
   "outputs": [],
   "source": [
    "chi = joa.chi(**fit_pars)\n",
    "test_chi = test_joa.chi(**fit_pars)\n",
    "block_chi = block_joa.chi(**fit_pars)\n",
    "\n",
    "pred_plx = joa.model_y(train_X, **fit_pars)\n",
    "test_pred_plx = joa.model_y(test_X, **fit_pars)\n",
    "block_pred_plx = block_joa.model_y(block_X, **fit_pars)"
   ]
  },
  {
   "cell_type": "code",
   "execution_count": null,
   "metadata": {},
   "outputs": [],
   "source": [
    "# c = masked_data.stars['ruwe'][train_mask]\n",
    "c = None\n",
    "\n",
    "fig, axes = plt.subplots(1, 2, figsize=(10, 5))\n",
    "\n",
    "ax = axes[0]\n",
    "ax.scatter(train_y + fit_pars['parallax_zpt'],\n",
    "           pred_plx,\n",
    "           c=c,\n",
    "           marker='o', s=4, alpha=0.75)\n",
    "ax.set_xlim(-0.5, train_y.max())\n",
    "ax.set_ylim(ax.get_xlim())\n",
    "ax.set_xlabel('Gaia plx')\n",
    "ax.set_ylabel('Joaquin plx')\n",
    "\n",
    "_grid = np.linspace(-0.5, train_y.max(), 10)\n",
    "ax.plot(_grid, _grid, marker='', \n",
    "        zorder=-10, color='yellow')\n",
    "\n",
    "ax = axes[1]\n",
    "ax.plot(train_y,\n",
    "        chi,\n",
    "        marker='o', ls='none', mew=0, ms=1.5, alpha=0.75)\n",
    "ax.set_xlim(-0.5, train_y.max())\n",
    "ax.set_ylim(-8, 8)\n",
    "ax.set_xlabel('Gaia plx')\n",
    "ax.set_ylabel(r'$\\chi$')\n",
    "\n",
    "fig.tight_layout()"
   ]
  },
  {
   "cell_type": "code",
   "execution_count": null,
   "metadata": {},
   "outputs": [],
   "source": [
    "fig, axes = plt.subplots(1, 2, figsize=(10, 5))\n",
    "\n",
    "ax = axes[0]\n",
    "ax.plot(test_block.stars['GAIAEDR3_PARALLAX'] + fit_pars['parallax_zpt'],\n",
    "        test_pred_plx,\n",
    "        marker='o', ls='none', mew=0, ms=1.5, alpha=0.75)\n",
    "ax.set_xlim(-0.5, train_y.max())\n",
    "ax.set_ylim(ax.get_xlim())\n",
    "ax.set_xlabel('Gaia plx')\n",
    "ax.set_ylabel('Joaquin plx')\n",
    "\n",
    "_grid = np.linspace(-0.5, train_y.max(), 10)\n",
    "ax.plot(_grid, _grid, marker='', \n",
    "        zorder=-10, color='yellow')\n",
    "\n",
    "ax = axes[1]\n",
    "ax.plot(test_block.stars['GAIAEDR3_PARALLAX'],\n",
    "        test_chi,\n",
    "        marker='o', ls='none', mew=0, ms=1.5, alpha=0.75)\n",
    "ax.set_xlim(-0.5, train_y.max())\n",
    "ax.set_ylim(-8, 8)\n",
    "ax.set_xlabel('Gaia plx')\n",
    "ax.set_ylabel(r'$\\chi$')\n",
    "\n",
    "fig.tight_layout()"
   ]
  },
  {
   "cell_type": "code",
   "execution_count": null,
   "metadata": {},
   "outputs": [],
   "source": [
    "fig, axes = plt.subplots(1, 2, figsize=(10, 5))\n",
    "\n",
    "ax = axes[0]\n",
    "ax.plot(block.stars['GAIAEDR3_PARALLAX'] + fit_pars['parallax_zpt'],\n",
    "        block_pred_plx,\n",
    "        marker='o', ls='none', mew=0, ms=1.5, alpha=0.75)\n",
    "ax.set_xlim(-0.5, train_y.max())\n",
    "ax.set_ylim(ax.get_xlim())\n",
    "ax.set_xlabel('Gaia plx')\n",
    "ax.set_ylabel('Joaquin plx')\n",
    "\n",
    "_grid = np.linspace(-0.5, train_y.max(), 10)\n",
    "ax.plot(_grid, _grid, marker='', \n",
    "        zorder=-10, color='yellow')\n",
    "\n",
    "ax = axes[1]\n",
    "ax.plot(block.stars['GAIAEDR3_PARALLAX'],\n",
    "        block_chi,\n",
    "        marker='o', ls='none', mew=0, ms=1.5, alpha=0.75)\n",
    "ax.set_xlim(-0.5, train_y.max())\n",
    "ax.set_ylim(-8, 8)\n",
    "ax.set_xlabel('Gaia plx')\n",
    "ax.set_ylabel(r'$\\chi$')\n",
    "\n",
    "fig.tight_layout()"
   ]
  },
  {
   "cell_type": "code",
   "execution_count": null,
   "metadata": {},
   "outputs": [],
   "source": [
    "from astropy.stats import median_absolute_deviation as MAD"
   ]
  },
  {
   "cell_type": "code",
   "execution_count": null,
   "metadata": {},
   "outputs": [],
   "source": [
    "diff = (block.stars['GAIAEDR3_PARALLAX'] + fit_pars['parallax_zpt'] - block_pred_plx) / block_pred_plx\n",
    "\n",
    "snr_cuts = np.geomspace(5, 100, 10).astype(int)\n",
    "vals = np.full_like(snr_cuts, np.nan, dtype=float)\n",
    "for i, plx_snr_cut in enumerate(snr_cuts):\n",
    "    plx_check_mask = (\n",
    "        ((block.stars['GAIAEDR3_PARALLAX'] / block.stars['GAIAEDR3_PARALLAX_ERROR']) > plx_snr_cut) &\n",
    "        (block.stars['ruwe'] < 1.4)\n",
    "    )\n",
    "    if plx_check_mask.sum() < 10:\n",
    "        break\n",
    "    vals[i] = 1.5 * MAD(diff[plx_check_mask])"
   ]
  },
  {
   "cell_type": "code",
   "execution_count": null,
   "metadata": {},
   "outputs": [],
   "source": [
    "plt.figure()\n",
    "plt.plot(snr_cuts, vals)\n",
    "plt.plot(snr_cuts, 1/snr_cuts)\n",
    "plt.xlabel('parallax S/N')\n",
    "plt.ylabel('(joaquin - gaia) / joaquin')"
   ]
  },
  {
   "cell_type": "code",
   "execution_count": null,
   "metadata": {},
   "outputs": [],
   "source": [
    "plt.figure()\n",
    "\n",
    "plx_snr_cut = 60\n",
    "\n",
    "plx_check_mask = (\n",
    "    ((block.stars['GAIAEDR3_PARALLAX'] / block.stars['GAIAEDR3_PARALLAX_ERROR']) > plx_snr_cut) &\n",
    "    (block.stars['ruwe'] < 1.4)\n",
    ")\n",
    "diff = (block.stars['GAIAEDR3_PARALLAX'] + fit_pars['parallax_zpt'] - block_pred_plx) / block_pred_plx\n",
    "diff = diff[plx_check_mask]\n",
    "print(len(diff))\n",
    "\n",
    "plt.hist(diff, bins=np.linspace(-1, 1, 64));\n",
    "plt.axvline(-1.5 * MAD(diff))\n",
    "plt.axvline(1.5 * MAD(diff))\n",
    "# plt.axvline(np.median(diff))\n",
    "\n",
    "print(1.5 * MAD(diff))"
   ]
  },
  {
   "cell_type": "code",
   "execution_count": null,
   "metadata": {},
   "outputs": [],
   "source": []
  },
  {
   "cell_type": "code",
   "execution_count": null,
   "metadata": {},
   "outputs": [],
   "source": []
  }
 ],
 "metadata": {
  "kernelspec": {
   "display_name": "adrian conda base",
   "language": "python",
   "name": "conda-base"
  },
  "language_info": {
   "codemirror_mode": {
    "name": "ipython",
    "version": 3
   },
   "file_extension": ".py",
   "mimetype": "text/x-python",
   "name": "python",
   "nbconvert_exporter": "python",
   "pygments_lexer": "ipython3",
   "version": "3.7.3"
  }
 },
 "nbformat": 4,
 "nbformat_minor": 4
}
