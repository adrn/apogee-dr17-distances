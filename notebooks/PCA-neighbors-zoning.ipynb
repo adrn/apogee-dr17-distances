{
 "cells": [
  {
   "cell_type": "code",
   "execution_count": null,
   "metadata": {},
   "outputs": [],
   "source": [
    "import os\n",
    "os.environ['APOGEE_CACHE_PATH'] = \"/mnt/ceph/users/apricewhelan/apogee-test/\"\n",
    "os.environ['JOAQUIN_CACHE_PATH'] = \"/mnt/ceph/users/apricewhelan/projects/joaquin/cache\"\n",
    "import warnings\n",
    "warnings.filterwarnings('ignore', category=Warning) \n",
    "import pickle\n",
    "\n",
    "import sys\n",
    "import pathlib\n",
    "_path = str(pathlib.Path('../').resolve())\n",
    "if _path not in sys.path:\n",
    "    sys.path.append(_path)\n",
    "\n",
    "import corner\n",
    "from astropy.io import fits\n",
    "import astropy.coordinates as coord\n",
    "import astropy.table as at\n",
    "import astropy.units as u\n",
    "import matplotlib as mpl\n",
    "import matplotlib.pyplot as plt\n",
    "%matplotlib inline\n",
    "import numpy as np\n",
    "from tqdm.auto import tqdm\n",
    "from sklearn.neighbors import KernelDensity\n",
    "from scipy.spatial import cKDTree\n",
    "\n",
    "from joaquin.data import JoaquinData\n",
    "from joaquin.config import root_cache_path, zone1_K, zone2_K\n",
    "from joaquin.plot import simple_corner\n",
    "from joaquin.neighborhoods import get_neighborhood_X"
   ]
  },
  {
   "cell_type": "markdown",
   "metadata": {},
   "source": [
    "See: `PCA-neighbord-training.ipynb` and `PCA-neighbord-apply.ipynb` first"
   ]
  },
  {
   "cell_type": "code",
   "execution_count": null,
   "metadata": {},
   "outputs": [],
   "source": [
    "parent_projected_X = np.load(\n",
    "    root_cache_path / 'parent_projected_X.npy')\n",
    "\n",
    "zones_X = np.load(\n",
    "    root_cache_path / 'neighborhoods_projected_X.npy')"
   ]
  },
  {
   "cell_type": "code",
   "execution_count": null,
   "metadata": {},
   "outputs": [],
   "source": [
    "parent_data = JoaquinData(\n",
    "    cache_file='parent-sample')\n",
    "parent_stars = parent_data.stars[parent_data.stars_mask]"
   ]
  },
  {
   "cell_type": "code",
   "execution_count": null,
   "metadata": {},
   "outputs": [],
   "source": [
    "parent_projected_X.shape, zones_X.shape"
   ]
  },
  {
   "cell_type": "code",
   "execution_count": null,
   "metadata": {},
   "outputs": [],
   "source": [
    "tree = cKDTree(parent_projected_X)"
   ]
  },
  {
   "cell_type": "code",
   "execution_count": null,
   "metadata": {},
   "outputs": [],
   "source": [
    "zone_idx = []\n",
    "for i in range(zones_X.shape[0]):\n",
    "    dist, idx = tree.query(zones_X[i], k=zone2_K)\n",
    "    zone_idx.append(idx[dist.argsort()])"
   ]
  },
  {
   "cell_type": "markdown",
   "metadata": {},
   "source": [
    "### Plot HR diagram colored by zone"
   ]
  },
  {
   "cell_type": "code",
   "execution_count": null,
   "metadata": {},
   "outputs": [],
   "source": [
    "from scipy.stats import binned_statistic_2d"
   ]
  },
  {
   "cell_type": "code",
   "execution_count": null,
   "metadata": {},
   "outputs": [],
   "source": [
    "zone_idx_unq = []\n",
    "for i, tmp in enumerate(zone_idx):\n",
    "    if i > 0:\n",
    "        zone_idx_unq.append(\n",
    "            tmp[~np.isin(tmp, np.concatenate(zone_idx_unq[:i]))])\n",
    "    else:\n",
    "        zone_idx_unq.append(tmp)\n",
    "        \n",
    "colors = np.full(len(parent_stars), np.nan)\n",
    "\n",
    "derp = np.arange(len(zone_idx_unq))\n",
    "np.random.seed(42)\n",
    "np.random.shuffle(derp)\n",
    "for i, tmp in zip(derp, zone_idx_unq):\n",
    "    colors[tmp] = i"
   ]
  },
  {
   "cell_type": "code",
   "execution_count": null,
   "metadata": {},
   "outputs": [],
   "source": [
    "mask = np.isfinite(colors)\n",
    "\n",
    "bins = (np.linspace(3000, 8500, 256),\n",
    "        np.linspace(0, 5.5, 256))\n",
    "stat1 = binned_statistic_2d(\n",
    "    parent_stars['TEFF'][mask], \n",
    "    parent_stars['LOGG'][mask], \n",
    "    values=colors[mask],\n",
    "    bins=bins)\n",
    "\n",
    "bins = (np.linspace(3000, 8500, 256),\n",
    "        np.linspace(-2.5, 0.5, 256))\n",
    "stat2 = binned_statistic_2d(\n",
    "    parent_stars['TEFF'][mask], \n",
    "    parent_stars['M_H'][mask], \n",
    "    values=colors[mask],\n",
    "    bins=bins)"
   ]
  },
  {
   "cell_type": "code",
   "execution_count": null,
   "metadata": {},
   "outputs": [],
   "source": [
    "fig, axes = plt.subplots(1, 2, figsize=(12, 6))\n",
    "\n",
    "for stat, ax in zip([stat1, stat2], axes):\n",
    "    ax.pcolormesh(\n",
    "        stat.x_edge, stat.y_edge, \n",
    "        stat.statistic.T,\n",
    "        cmap='Set2')\n",
    "\n",
    "axes[0].set_xlim(8500, 3000)\n",
    "axes[0].set_ylim(5.5, 0)\n",
    "\n",
    "axes[1].set_xlim(8500, 3000)\n",
    "axes[1].set_ylim(-2.5, 0.5)\n",
    "\n",
    "fig.tight_layout()"
   ]
  },
  {
   "cell_type": "markdown",
   "metadata": {},
   "source": [
    "### What fraction of the parent sample stars end up in a zone 1 vs zone 2?"
   ]
  },
  {
   "cell_type": "code",
   "execution_count": null,
   "metadata": {},
   "outputs": [],
   "source": [
    "all_indices = []\n",
    "for i in range(zones_X.shape[0]):\n",
    "    _, idx = tree.query(zones_X[i], k=zone1_K)\n",
    "    all_indices.append(idx)\n",
    "    \n",
    "tmp = np.unique(all_indices).shape[0] / parent_projected_X.shape[0]\n",
    "print(f\"{tmp*100:.1f}% of stars end up in a zone 1\")"
   ]
  },
  {
   "cell_type": "code",
   "execution_count": null,
   "metadata": {},
   "outputs": [],
   "source": [
    "all_indices = []\n",
    "for i in range(zones_X.shape[0]):\n",
    "    _, idx = tree.query(zones_X[i], k=zone2_K)\n",
    "    all_indices.append(idx)\n",
    "    \n",
    "tmp = np.unique(all_indices).shape[0] / parent_projected_X.shape[0]\n",
    "print(f\"{tmp*100:.1f}% of stars end up in a zone 2\")"
   ]
  },
  {
   "cell_type": "code",
   "execution_count": null,
   "metadata": {},
   "outputs": [],
   "source": []
  },
  {
   "cell_type": "code",
   "execution_count": null,
   "metadata": {},
   "outputs": [],
   "source": []
  }
 ],
 "metadata": {
  "kernelspec": {
   "display_name": "adrian conda base",
   "language": "python",
   "name": "conda-base"
  },
  "language_info": {
   "codemirror_mode": {
    "name": "ipython",
    "version": 3
   },
   "file_extension": ".py",
   "mimetype": "text/x-python",
   "name": "python",
   "nbconvert_exporter": "python",
   "pygments_lexer": "ipython3",
   "version": "3.7.3"
  },
  "toc": {
   "base_numbering": 1,
   "nav_menu": {},
   "number_sections": true,
   "sideBar": true,
   "skip_h1_title": false,
   "title_cell": "Table of Contents",
   "title_sidebar": "Contents",
   "toc_cell": false,
   "toc_position": {},
   "toc_section_display": true,
   "toc_window_display": false
  }
 },
 "nbformat": 4,
 "nbformat_minor": 4
}
