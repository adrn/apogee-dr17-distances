{
 "cells": [
  {
   "cell_type": "code",
   "execution_count": null,
   "metadata": {},
   "outputs": [],
   "source": [
    "import os\n",
    "os.environ['APOGEE_CACHE_PATH'] = \"/mnt/ceph/users/apricewhelan/apogee-test/\"\n",
    "import warnings\n",
    "warnings.filterwarnings('ignore', category=Warning) \n",
    "import pickle\n",
    "\n",
    "import sys\n",
    "import pathlib\n",
    "_path = str(pathlib.Path('../').resolve())\n",
    "if _path not in sys.path:\n",
    "    sys.path.append(_path)\n",
    "\n",
    "import corner\n",
    "from astropy.io import fits\n",
    "import astropy.coordinates as coord\n",
    "import astropy.table as at\n",
    "import astropy.units as u\n",
    "import matplotlib as mpl\n",
    "import matplotlib.pyplot as plt\n",
    "%matplotlib inline\n",
    "import numpy as np\n",
    "from tqdm.auto import tqdm\n",
    "from sklearn.neighbors import KernelDensity\n",
    "from scipy.spatial import cKDTree\n",
    "\n",
    "from joaquin.data import JoaquinData, make_Xy\n",
    "from joaquin.config import dr\n",
    "from joaquin.logger import logger\n",
    "from joaquin.plot import simple_corner"
   ]
  },
  {
   "cell_type": "code",
   "execution_count": null,
   "metadata": {},
   "outputs": [],
   "source": [
    "cache_path = pathlib.Path(f'../cache/{dr}').resolve()\n",
    "cache_path.mkdir(exist_ok=True, parents=True)"
   ]
  },
  {
   "cell_type": "code",
   "execution_count": null,
   "metadata": {},
   "outputs": [],
   "source": [
    "parent = at.Table.read(cache_path / 'parent-sample.fits')\n",
    "\n",
    "# HACK: subselect for speed\n",
    "np.random.seed(42)\n",
    "_idx = np.random.choice(len(parent), size=8192, replace=False)\n",
    "parent_stars = parent[_idx]\n",
    "\n",
    "len(parent_stars)"
   ]
  },
  {
   "cell_type": "code",
   "execution_count": null,
   "metadata": {},
   "outputs": [],
   "source": [
    "fig, ax = plt.subplots(figsize=(6, 6))\n",
    "\n",
    "bins = (np.linspace(3000, 7500, 128),\n",
    "        np.linspace(0, 5.5, 128))\n",
    "ax.hist2d(parent['TEFF'], parent['LOGG'],\n",
    "          bins=bins, norm=mpl.colors.LogNorm(),\n",
    "          cmap='magma_r')\n",
    "\n",
    "ax.plot(parent_stars['TEFF'],\n",
    "        parent_stars['LOGG'],\n",
    "        ls='none', marker='o', mew=0, ms=3., \n",
    "        color='tab:blue', alpha=0.75)\n",
    "\n",
    "ax.set_ylim(5.5, 0)\n",
    "ax.set_xlim(7500, 3000)\n",
    "\n",
    "fig.tight_layout()"
   ]
  },
  {
   "cell_type": "code",
   "execution_count": null,
   "metadata": {},
   "outputs": [],
   "source": [
    "data = JoaquinData(parent_stars, \n",
    "                   cache_path=cache_path, \n",
    "                   lowpass=False)"
   ]
  },
  {
   "cell_type": "code",
   "execution_count": null,
   "metadata": {},
   "outputs": [],
   "source": [
    "(X, *_), idx_map = data.get_Xy(['spec'], \n",
    "                               spec_mask_thresh=1)\n",
    "\n",
    "# See cell in PCA-neighbors-training.ipynb\n",
    "color_names = [\n",
    "    ('GAIAEDR3_PHOT_BP_MEAN_MAG', 'J'),\n",
    "    ('J', 'K'),\n",
    "    ('J', 'w1mpro'),\n",
    "    ('H', 'w2mpro'),\n",
    "    ('w1mpro', 'w2mpro')\n",
    "]\n",
    "color_X = data.get_colors(color_names)\n",
    "color_labels = [f'{x1}-{x2}' for x1, x2 in color_names]\n",
    "X = np.hstack((X, color_X))\n",
    "\n",
    "good_stars = data.stars[data.stars_mask]\n",
    "assert X.shape[0] == len(good_stars)"
   ]
  },
  {
   "cell_type": "code",
   "execution_count": null,
   "metadata": {},
   "outputs": [],
   "source": [
    "with open(cache_path / 'pca_neighborizer.pkl', 'rb') as f:\n",
    "    pca = pickle.load(f)"
   ]
  },
  {
   "cell_type": "code",
   "execution_count": null,
   "metadata": {},
   "outputs": [],
   "source": [
    "projected_X = pca.transform(X)\n",
    "projected_X /= pca.singular_values_"
   ]
  },
  {
   "cell_type": "markdown",
   "metadata": {},
   "source": [
    "First, determine local density at all points:"
   ]
  },
  {
   "cell_type": "code",
   "execution_count": null,
   "metadata": {},
   "outputs": [],
   "source": [
    "bw = np.mean(np.std(projected_X, axis=0)) * np.sqrt(projected_X.shape[1]) / 3\n",
    "kde = KernelDensity(bandwidth=bw, kernel='epanechnikov')\n",
    "_ = kde.fit(projected_X)\n",
    "dens = kde.score_samples(projected_X)"
   ]
  },
  {
   "cell_type": "markdown",
   "metadata": {},
   "source": [
    "Now construct the kdtree to find neighbors:"
   ]
  },
  {
   "cell_type": "code",
   "execution_count": null,
   "metadata": {},
   "outputs": [],
   "source": [
    "tree = cKDTree(projected_X)"
   ]
  },
  {
   "cell_type": "markdown",
   "metadata": {},
   "source": [
    "Setting k=2 below means that each row in `idxs` will be (self, neighbor)"
   ]
  },
  {
   "cell_type": "code",
   "execution_count": null,
   "metadata": {},
   "outputs": [],
   "source": [
    "dists, idxs = tree.query(projected_X, k=2)\n",
    "dists = dists[:, 1]"
   ]
  },
  {
   "cell_type": "code",
   "execution_count": null,
   "metadata": {},
   "outputs": [],
   "source": [
    "# # MAGIC NUMBERs\n",
    "# radius_init_factor = 4\n",
    "# radius_grow_factor = 2 ** (1/projected_X.shape[1])\n",
    "# radius_maxiter = 128\n",
    "# target_neighborhood_size = 1024\n",
    "\n",
    "# # sort_idx = dists.argsort()\n",
    "# sort_idx = dens.argsort()[::-1]\n",
    "\n",
    "# neighborhoods = []\n",
    "# for (i1, i2), dist in zip(idxs[sort_idx],\n",
    "#                           dists[sort_idx][:2048]):\n",
    "#     if i1 in np.ravel(neighborhoods):\n",
    "#         continue\n",
    "        \n",
    "#     radius = radius_init_factor * dist\n",
    "#     for niter in range(radius_maxiter):\n",
    "#         results = tree.query_ball_point(projected_X[i1], r=radius)\n",
    "        \n",
    "#         if len(results) >= target_neighborhood_size:\n",
    "#             break\n",
    "        \n",
    "#         radius *= radius_grow_factor\n",
    "#     else:\n",
    "#         print(f'failed for {i1}')\n",
    "#         continue\n",
    "    \n",
    "#     print(f\"{niter} iterations\")\n",
    "#     neighborhoods.append(np.concatenate(([i1], results)))\n",
    "\n",
    "# MAGIC NUMBERs\n",
    "target_neighborhood_size = 1024\n",
    "\n",
    "# sort_idx = dists.argsort()\n",
    "sort_idx = dens.argsort()[::-1]\n",
    "\n",
    "neighborhoods = []\n",
    "for (i1, i2), dist in zip(idxs[sort_idx],\n",
    "                          dists[sort_idx]):\n",
    "    if i1 in np.ravel(neighborhoods):\n",
    "        continue\n",
    "    \n",
    "    _, results = tree.query(projected_X[i1], k=target_neighborhood_size)\n",
    "    neighborhoods.append(np.concatenate(([i1], results)))\n",
    "\n",
    "len(neighborhoods)"
   ]
  },
  {
   "cell_type": "code",
   "execution_count": null,
   "metadata": {},
   "outputs": [],
   "source": [
    "style_main = dict(ls='none', marker='o', mew=0.6, ms=6., \n",
    "                  color='tab:blue', zorder=100, \n",
    "                  mec='gold')\n",
    "style_neighbors = dict(ls='none', marker='o', mew=0, ms=2., \n",
    "                       alpha=0.75, color='tab:orange', zorder=10)\n",
    "\n",
    "# for hood in neighborhoods[:20]:\n",
    "for n in np.arange(0, len(neighborhoods), 4):\n",
    "    hood = neighborhoods[n]\n",
    "\n",
    "    fig, axes = plt.subplots(1, 2, figsize=(12, 6))\n",
    "\n",
    "    ax = axes[0]\n",
    "    bins = (np.linspace(3000, 8500, 128),\n",
    "            np.linspace(0, 5.5, 128))\n",
    "    ax.hist2d(parent['TEFF'], parent['LOGG'],\n",
    "              bins=bins, norm=mpl.colors.LogNorm(),\n",
    "              cmap='Greys')\n",
    "\n",
    "    ax.plot(good_stars['TEFF'][hood[0]],\n",
    "            good_stars['LOGG'][hood[0]],\n",
    "            **style_main)\n",
    "\n",
    "    ax.plot(good_stars['TEFF'][hood[1:]],\n",
    "            good_stars['LOGG'][hood[1:]],\n",
    "            **style_neighbors)\n",
    "\n",
    "    ax.set_xlim(bins[0].max(), bins[0].min())\n",
    "    ax.set_ylim(bins[1].max(), bins[1].min())\n",
    "\n",
    "    ax.set_xlabel(r'$T_{\\rm eff}$')\n",
    "    ax.set_ylabel(r'$\\log g$')\n",
    "\n",
    "    # ---\n",
    "\n",
    "    ax = axes[1]\n",
    "\n",
    "    # color = ('GAIAEDR3_PHOT_G_MEAN_MAG', 'J')\n",
    "    # mag = 'J'\n",
    "    # bins = (np.linspace(-0.5, 4.5, 128),\n",
    "    #         np.linspace(-6, 10, 128))\n",
    "\n",
    "    color = ('J', 'K')\n",
    "    mag = 'H'\n",
    "    bins = (np.linspace(-0.5, 2, 128),\n",
    "            np.linspace(-6, 10, 128))\n",
    "\n",
    "    dist_mask, = np.where((parent['GAIAEDR3_PARALLAX'] / parent['GAIAEDR3_PARALLAX_ERROR']) > 5)\n",
    "    distmod = coord.Distance(parallax=parent['GAIAEDR3_PARALLAX'][dist_mask]*u.mas).distmod.value\n",
    "    ax.hist2d((parent[color[0]] - parent[color[1]])[dist_mask], \n",
    "              parent[mag][dist_mask] - distmod,\n",
    "              bins=bins, norm=mpl.colors.LogNorm(),\n",
    "              cmap='Greys')\n",
    "\n",
    "    distmod = coord.Distance(parallax=good_stars['GAIAEDR3_PARALLAX']*u.mas, \n",
    "                             allow_negative=True).distmod.value\n",
    "    ax.plot((good_stars[color[0]] - good_stars[color[1]])[hood[0]],\n",
    "            (good_stars[mag] - distmod)[hood[0]],\n",
    "            **style_main)\n",
    "\n",
    "    ax.plot((good_stars[color[0]] - good_stars[color[1]])[hood[1:]],\n",
    "            (good_stars[mag] - distmod)[hood[1:]],\n",
    "            **style_neighbors)\n",
    "\n",
    "    ax.set_xlim(bins[0].min(), bins[0].max())\n",
    "    ax.set_ylim(bins[1].max(), bins[1].min())\n",
    "\n",
    "    ax.set_xlabel('$J - K$')\n",
    "    ax.set_ylabel('$M_H$')\n",
    "\n",
    "    fig.tight_layout()"
   ]
  },
  {
   "cell_type": "markdown",
   "metadata": {},
   "source": [
    "# Generate a feature matrix for the entire parent sample:"
   ]
  },
  {
   "cell_type": "code",
   "execution_count": null,
   "metadata": {},
   "outputs": [],
   "source": [
    "Xyivar, idx_map, spec_mask_vals = make_Xy(parent, lowpass=False)"
   ]
  },
  {
   "cell_type": "code",
   "execution_count": null,
   "metadata": {},
   "outputs": [],
   "source": [
    "import h5py"
   ]
  },
  {
   "cell_type": "code",
   "execution_count": null,
   "metadata": {},
   "outputs": [],
   "source": [
    "with h5py.File(cache_path / f'parent-sample-data.hdf5', 'w') as f:\n",
    "    f.create_dataset('X', data=Xyivar[0])\n",
    "    f.create_dataset('y', data=Xyivar[1])\n",
    "    f.create_dataset('y_ivar', data=Xyivar[2])\n",
    "    f.create_dataset('spec_mask_vals', data=spec_mask_vals)\n",
    "    \n",
    "    g = f.create_group('idx_map')\n",
    "    for key, idx in idx_map.items():\n",
    "        g.create_dataset(key, data=idx)\n",
    "        \n",
    "    parent.write(f, path='stars', serialize_meta=False)"
   ]
  },
  {
   "cell_type": "code",
   "execution_count": null,
   "metadata": {},
   "outputs": [],
   "source": [
    "with h5py.File('/tmp/test.hdf5', 'w') as f:\n",
    "    # parent.write(f, path='stars', serialize_meta=False)\n",
    "    f.attrs['all_phot_names'] = ['GAIAEDR3_PHOT_G_MEAN_MAG', 'J',' w1mpro']"
   ]
  },
  {
   "cell_type": "code",
   "execution_count": null,
   "metadata": {},
   "outputs": [],
   "source": [
    "with h5py.File('/tmp/test.hdf5', 'r') as f:\n",
    "    # parent.write(f, path='stars', serialize_meta=False)\n",
    "    print(f.attrs['all_phot_names'])"
   ]
  },
  {
   "cell_type": "code",
   "execution_count": null,
   "metadata": {},
   "outputs": [],
   "source": []
  }
 ],
 "metadata": {
  "kernelspec": {
   "display_name": "adrian conda base",
   "language": "python",
   "name": "conda-base"
  },
  "language_info": {
   "codemirror_mode": {
    "name": "ipython",
    "version": 3
   },
   "file_extension": ".py",
   "mimetype": "text/x-python",
   "name": "python",
   "nbconvert_exporter": "python",
   "pygments_lexer": "ipython3",
   "version": "3.7.3"
  },
  "toc": {
   "base_numbering": 1,
   "nav_menu": {},
   "number_sections": true,
   "sideBar": true,
   "skip_h1_title": false,
   "title_cell": "Table of Contents",
   "title_sidebar": "Contents",
   "toc_cell": false,
   "toc_position": {},
   "toc_section_display": true,
   "toc_window_display": false
  }
 },
 "nbformat": 4,
 "nbformat_minor": 4
}
