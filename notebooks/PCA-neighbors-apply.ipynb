{
 "cells": [
  {
   "cell_type": "code",
   "execution_count": null,
   "metadata": {},
   "outputs": [],
   "source": [
    "import os\n",
    "os.environ['APOGEE_CACHE_PATH'] = \"/mnt/ceph/users/apricewhelan/apogee-test/\"\n",
    "os.environ['JOAQUIN_CACHE_PATH'] = \"/mnt/ceph/users/apricewhelan/projects/joaquin/cache\"\n",
    "import warnings\n",
    "warnings.filterwarnings('ignore', category=Warning) \n",
    "import pickle\n",
    "\n",
    "import sys\n",
    "import pathlib\n",
    "_path = str(pathlib.Path('../').resolve())\n",
    "if _path not in sys.path:\n",
    "    sys.path.append(_path)\n",
    "\n",
    "import corner\n",
    "from astropy.io import fits\n",
    "import astropy.coordinates as coord\n",
    "import astropy.table as at\n",
    "import astropy.units as u\n",
    "import matplotlib as mpl\n",
    "import matplotlib.pyplot as plt\n",
    "%matplotlib inline\n",
    "import numpy as np\n",
    "from tqdm.auto import tqdm\n",
    "from sklearn.neighbors import KernelDensity\n",
    "from scipy.spatial import cKDTree\n",
    "\n",
    "from joaquin.data import JoaquinData\n",
    "from joaquin.config import root_cache_path\n",
    "from joaquin.plot import simple_corner\n",
    "from joaquin.neighborhoods import get_neighborhood_X"
   ]
  },
  {
   "cell_type": "markdown",
   "metadata": {},
   "source": [
    "See: `PCA-neighbord-training.ipynb`"
   ]
  },
  {
   "cell_type": "code",
   "execution_count": null,
   "metadata": {},
   "outputs": [],
   "source": [
    "parent_data = JoaquinData(cache_file='parent-sample')\n",
    "neighbor_data = JoaquinData(cache_file='neighborhood-sample')\n",
    "spec_good_mask = np.load(root_cache_path / 'spec_good_mask.npy')"
   ]
  },
  {
   "cell_type": "code",
   "execution_count": null,
   "metadata": {},
   "outputs": [],
   "source": [
    "fig, ax = plt.subplots(figsize=(6, 6))\n",
    "\n",
    "bins = (np.linspace(3000, 7500, 128),\n",
    "        np.linspace(0, 5.5, 128))\n",
    "ax.hist2d(parent_data.stars['TEFF'], \n",
    "          parent_data.stars['LOGG'],\n",
    "          bins=bins, norm=mpl.colors.LogNorm(),\n",
    "          cmap='magma_r')\n",
    "\n",
    "ax.plot(neighbor_data.stars['TEFF'],\n",
    "        neighbor_data.stars['LOGG'],\n",
    "        ls='none', marker='o', mew=0, ms=3., \n",
    "        color='tab:blue', alpha=0.75)\n",
    "\n",
    "ax.set_ylim(5.5, 0)\n",
    "ax.set_xlim(7500, 3000)\n",
    "\n",
    "fig.tight_layout()"
   ]
  },
  {
   "cell_type": "code",
   "execution_count": null,
   "metadata": {},
   "outputs": [],
   "source": [
    "neighbor_X, color_labels, neighbor_stars = get_neighborhood_X(neighbor_data, spec_good_mask)"
   ]
  },
  {
   "cell_type": "code",
   "execution_count": null,
   "metadata": {},
   "outputs": [],
   "source": [
    "with open(root_cache_path / 'pca_neighborizer.pkl', 'rb') as f:\n",
    "    pca = pickle.load(f)"
   ]
  },
  {
   "cell_type": "code",
   "execution_count": null,
   "metadata": {},
   "outputs": [],
   "source": [
    "projected_X = pca.transform(neighbor_X)\n",
    "projected_X /= pca.singular_values_"
   ]
  },
  {
   "cell_type": "markdown",
   "metadata": {},
   "source": [
    "First, determine local density at all points:"
   ]
  },
  {
   "cell_type": "code",
   "execution_count": null,
   "metadata": {},
   "outputs": [],
   "source": [
    "bw = np.mean(np.std(projected_X, axis=0)) * np.sqrt(projected_X.shape[1]) / 3\n",
    "kde = KernelDensity(bandwidth=bw, kernel='epanechnikov')\n",
    "_ = kde.fit(projected_X)\n",
    "dens = kde.score_samples(projected_X)"
   ]
  },
  {
   "cell_type": "markdown",
   "metadata": {},
   "source": [
    "Now construct the kdtree to find neighbors:"
   ]
  },
  {
   "cell_type": "code",
   "execution_count": null,
   "metadata": {},
   "outputs": [],
   "source": [
    "tree = cKDTree(projected_X)"
   ]
  },
  {
   "cell_type": "markdown",
   "metadata": {},
   "source": [
    "Setting k=2 below means that each row in `idxs` will be (self, neighbor)"
   ]
  },
  {
   "cell_type": "code",
   "execution_count": null,
   "metadata": {},
   "outputs": [],
   "source": [
    "dists, idxs = tree.query(projected_X, k=2)\n",
    "dists = dists[:, 1]"
   ]
  },
  {
   "cell_type": "code",
   "execution_count": null,
   "metadata": {},
   "outputs": [],
   "source": [
    "# # MAGIC NUMBERs\n",
    "# radius_init_factor = 4\n",
    "# radius_grow_factor = 2 ** (1/projected_X.shape[1])\n",
    "# radius_maxiter = 128\n",
    "# target_neighborhood_size = 1024\n",
    "\n",
    "# # sort_idx = dists.argsort()\n",
    "# sort_idx = dens.argsort()[::-1]\n",
    "\n",
    "# neighborhoods = []\n",
    "# for (i1, i2), dist in zip(idxs[sort_idx],\n",
    "#                           dists[sort_idx][:2048]):\n",
    "#     if i1 in np.ravel(neighborhoods):\n",
    "#         continue\n",
    "        \n",
    "#     radius = radius_init_factor * dist\n",
    "#     for niter in range(radius_maxiter):\n",
    "#         results = tree.query_ball_point(projected_X[i1], r=radius)\n",
    "        \n",
    "#         if len(results) >= target_neighborhood_size:\n",
    "#             break\n",
    "        \n",
    "#         radius *= radius_grow_factor\n",
    "#     else:\n",
    "#         print(f'failed for {i1}')\n",
    "#         continue\n",
    "    \n",
    "#     print(f\"{niter} iterations\")\n",
    "#     neighborhoods.append(np.concatenate(([i1], results)))\n",
    "\n",
    "# MAGIC NUMBERs\n",
    "target_neighborhood_size = 256\n",
    "\n",
    "# sort_idx = dists.argsort()\n",
    "sort_idx = dens.argsort()[::-1]\n",
    "\n",
    "neighborhoods = []\n",
    "for (i1, i2), dist in zip(idxs[sort_idx],\n",
    "                          dists[sort_idx]):\n",
    "    if i1 in np.ravel(neighborhoods):\n",
    "        continue\n",
    "    \n",
    "    _, results = tree.query(projected_X[i1], k=target_neighborhood_size)\n",
    "    neighborhoods.append(np.concatenate(([i1], results)))\n",
    "\n",
    "len(neighborhoods)"
   ]
  },
  {
   "cell_type": "code",
   "execution_count": null,
   "metadata": {},
   "outputs": [],
   "source": [
    "zones_X = np.array([\n",
    "    projected_X[idx[0]] \n",
    "    for idx in neighborhoods])\n",
    "# zones_X = np.array([\n",
    "#     np.mean(projected_X[idx], axis=0) \n",
    "#     for idx in neighborhoods])\n",
    "\n",
    "np.save(root_cache_path / 'neighborhoods_projected_X.npy', \n",
    "        zones_X)"
   ]
  },
  {
   "cell_type": "code",
   "execution_count": null,
   "metadata": {},
   "outputs": [],
   "source": [
    "derp_TEFF = np.zeros(len(neighborhoods))\n",
    "derp_LOGG = np.zeros(len(neighborhoods))\n",
    "\n",
    "for i, idx in enumerate(neighborhoods):\n",
    "    teffs = neighbor_data.stars['TEFF'][idx]\n",
    "    loggs = neighbor_data.stars['LOGG'][idx]\n",
    "\n",
    "#     derp_TEFF[i] = np.median(teffs[teffs > 0])\n",
    "#     derp_LOGG[i] = np.median(loggs[loggs > -1])\n",
    "\n",
    "    derp_TEFF[i] = teffs[0]\n",
    "    derp_LOGG[i] = loggs[0]\n",
    "    \n",
    "plt.scatter(derp_TEFF, derp_LOGG)\n",
    "# plt.scatter(teffs, loggs)\n",
    "plt.xlim(8500, 3000)\n",
    "plt.ylim(5.5, -0.5)"
   ]
  },
  {
   "cell_type": "code",
   "execution_count": null,
   "metadata": {},
   "outputs": [],
   "source": [
    "style_main = dict(ls='none', marker='o', mew=0.6, ms=6., \n",
    "                  color='tab:blue', zorder=100, \n",
    "                  mec='gold')\n",
    "style_neighbors = dict(ls='none', marker='o', mew=0, ms=2., \n",
    "                       alpha=0.75, color='tab:orange', zorder=10)\n",
    "\n",
    "# for hood in neighborhoods[:20]:\n",
    "for n in np.arange(0, len(neighborhoods), 4)[:20]:\n",
    "    hood = neighborhoods[n]\n",
    "\n",
    "    fig, axes = plt.subplots(1, 2, figsize=(12, 6))\n",
    "\n",
    "    ax = axes[0]\n",
    "    bins = (np.linspace(3000, 8500, 128),\n",
    "            np.linspace(0, 5.5, 128))\n",
    "    ax.hist2d(parent_data.stars['TEFF'], parent_data.stars['LOGG'],\n",
    "              bins=bins, norm=mpl.colors.LogNorm(),\n",
    "              cmap='Greys')\n",
    "\n",
    "    ax.plot(neighbor_stars['TEFF'][hood[0]],\n",
    "            neighbor_stars['LOGG'][hood[0]],\n",
    "            **style_main)\n",
    "\n",
    "    ax.plot(neighbor_stars['TEFF'][hood[1:]],\n",
    "            neighbor_stars['LOGG'][hood[1:]],\n",
    "            **style_neighbors)\n",
    "\n",
    "    ax.set_xlim(bins[0].max(), bins[0].min())\n",
    "    ax.set_ylim(bins[1].max(), bins[1].min())\n",
    "\n",
    "    ax.set_xlabel(r'$T_{\\rm eff}$')\n",
    "    ax.set_ylabel(r'$\\log g$')\n",
    "\n",
    "    # ---\n",
    "\n",
    "    ax = axes[1]\n",
    "\n",
    "    # color = ('GAIAEDR3_PHOT_G_MEAN_MAG', 'J')\n",
    "    # mag = 'J'\n",
    "    # bins = (np.linspace(-0.5, 4.5, 128),\n",
    "    #         np.linspace(-6, 10, 128))\n",
    "\n",
    "    color = ('J', 'K')\n",
    "    mag = 'H'\n",
    "    bins = (np.linspace(-0.5, 2, 128),\n",
    "            np.linspace(-6, 10, 128))\n",
    "\n",
    "    dist_mask, = np.where((parent_data.stars['GAIAEDR3_PARALLAX'] / parent_data.stars['GAIAEDR3_PARALLAX_ERROR']) > 5)\n",
    "    distmod = coord.Distance(parallax=parent_data.stars['GAIAEDR3_PARALLAX'][dist_mask]*u.mas).distmod.value\n",
    "    ax.hist2d((parent_data.stars[color[0]] - parent_data.stars[color[1]])[dist_mask], \n",
    "              parent_data.stars[mag][dist_mask] - distmod,\n",
    "              bins=bins, norm=mpl.colors.LogNorm(),\n",
    "              cmap='Greys')\n",
    "\n",
    "    distmod = coord.Distance(parallax=neighbor_stars['GAIAEDR3_PARALLAX']*u.mas, \n",
    "                             allow_negative=True).distmod.value\n",
    "    ax.plot((neighbor_stars[color[0]] - neighbor_stars[color[1]])[hood[0]],\n",
    "            (neighbor_stars[mag] - distmod)[hood[0]],\n",
    "            **style_main)\n",
    "\n",
    "    ax.plot((neighbor_stars[color[0]] - neighbor_stars[color[1]])[hood[1:]],\n",
    "            (neighbor_stars[mag] - distmod)[hood[1:]],\n",
    "            **style_neighbors)\n",
    "\n",
    "    ax.set_xlim(bins[0].min(), bins[0].max())\n",
    "    ax.set_ylim(bins[1].max(), bins[1].min())\n",
    "\n",
    "    ax.set_xlabel('$J - K$')\n",
    "    ax.set_ylabel('$M_H$')\n",
    "\n",
    "    fig.tight_layout()"
   ]
  },
  {
   "cell_type": "markdown",
   "metadata": {},
   "source": [
    "# Apply to the full parent sample"
   ]
  },
  {
   "cell_type": "code",
   "execution_count": null,
   "metadata": {},
   "outputs": [],
   "source": [
    "parent_X, _, parent_stars = get_neighborhood_X(\n",
    "    parent_data, spec_good_mask)\n",
    "parent_X.shape"
   ]
  },
  {
   "cell_type": "code",
   "execution_count": null,
   "metadata": {},
   "outputs": [],
   "source": [
    "parent_projected_X = np.zeros((parent_X.shape[0], projected_X.shape[1]),\n",
    "                               dtype=np.float32)\n",
    "parent_projected_X.shape"
   ]
  },
  {
   "cell_type": "code",
   "execution_count": null,
   "metadata": {},
   "outputs": [],
   "source": [
    "vals = np.linspace(0, parent_X.shape[0], 8).astype(int)\n",
    "for i1, i2 in zip(vals[:-1], vals[1:]):\n",
    "    if i2 >= parent_X.shape[0]-1:\n",
    "        i2 = parent_X.shape[0]\n",
    "    \n",
    "    print(i1, i2)\n",
    "    parent_projected_X[i1:i2] = pca.transform(parent_X[i1:i2])\n",
    "    parent_projected_X[i1:i2] /= pca.singular_values_"
   ]
  },
  {
   "cell_type": "code",
   "execution_count": null,
   "metadata": {},
   "outputs": [],
   "source": [
    "np.save(root_cache_path / 'parent_projected_X.npy', \n",
    "        parent_projected_X)"
   ]
  },
  {
   "cell_type": "markdown",
   "metadata": {},
   "source": [
    "TODO: Cache parent_projected_X to be used to construct neighborhoods??"
   ]
  },
  {
   "cell_type": "code",
   "execution_count": null,
   "metadata": {},
   "outputs": [],
   "source": [
    "from scipy.stats import binned_statistic_2d\n",
    "from sklearn.manifold import TSNE"
   ]
  },
  {
   "cell_type": "code",
   "execution_count": null,
   "metadata": {},
   "outputs": [],
   "source": [
    "tsne = TSNE(n_components=1)\n",
    "X_embedded = tsne.fit_transform(parent_projected_X)"
   ]
  },
  {
   "cell_type": "code",
   "execution_count": null,
   "metadata": {},
   "outputs": [],
   "source": [
    "X_embedded.shape"
   ]
  },
  {
   "cell_type": "code",
   "execution_count": null,
   "metadata": {},
   "outputs": [],
   "source": [
    "bins = (np.linspace(3000, 8500, 128),\n",
    "        np.linspace(0, 5.5, 128))\n",
    "\n",
    "stat = binned_statistic_2d(\n",
    "    parent_stars['TEFF'], \n",
    "    parent_stars['LOGG'], \n",
    "    # values=parent_projected_X[:, 0],\n",
    "    values=X_embedded[:, 0],\n",
    "    bins=bins)"
   ]
  },
  {
   "cell_type": "code",
   "execution_count": null,
   "metadata": {},
   "outputs": [],
   "source": [
    "fig, ax = plt.subplots(figsize=(6, 6))\n",
    "\n",
    "ax.pcolormesh(\n",
    "    stat.x_edge, stat.y_edge, \n",
    "    stat.statistic.T,\n",
    "    cmap='magma_r')\n",
    "\n",
    "ax.set_ylim(5.5, 0)\n",
    "ax.set_xlim(8500, 3000)\n",
    "\n",
    "fig.tight_layout()"
   ]
  },
  {
   "cell_type": "code",
   "execution_count": null,
   "metadata": {},
   "outputs": [],
   "source": []
  }
 ],
 "metadata": {
  "kernelspec": {
   "display_name": "adrian conda base",
   "language": "python",
   "name": "conda-base"
  },
  "language_info": {
   "codemirror_mode": {
    "name": "ipython",
    "version": 3
   },
   "file_extension": ".py",
   "mimetype": "text/x-python",
   "name": "python",
   "nbconvert_exporter": "python",
   "pygments_lexer": "ipython3",
   "version": "3.7.3"
  },
  "toc": {
   "base_numbering": 1,
   "nav_menu": {},
   "number_sections": true,
   "sideBar": true,
   "skip_h1_title": false,
   "title_cell": "Table of Contents",
   "title_sidebar": "Contents",
   "toc_cell": false,
   "toc_position": {},
   "toc_section_display": true,
   "toc_window_display": false
  }
 },
 "nbformat": 4,
 "nbformat_minor": 4
}
